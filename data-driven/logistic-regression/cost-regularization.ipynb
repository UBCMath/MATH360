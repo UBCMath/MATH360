{
 "cells": [
  {
   "cell_type": "markdown",
   "id": "41d2aa32-d13c-4450-8764-05bcdf99ff47",
   "metadata": {},
   "source": [
    "# Cost and Regularization\n",
    "\n",
    "## Learning Goals\n",
    "\n",
    "* Summarize properties of the logistic function and the weight and bias parameters\n",
    "* Compare and contrast cost functions for logistic regression models such as mean least squares and cross entropy\n",
    "* Implement regularization terms in cost functions and tune regularization parameters\n",
    "* Approximate optimal model parameters for logistic regression models using `sklearn`"
   ]
  },
  {
   "cell_type": "code",
   "execution_count": 3,
   "id": "a0893c81-d451-46a0-8619-a9f1921e5b33",
   "metadata": {
    "tags": []
   },
   "outputs": [],
   "source": [
    "import numpy as np\n",
    "import matplotlib.pyplot as plt\n",
    "import scipy.optimize as spo"
   ]
  },
  {
   "cell_type": "markdown",
   "id": "8b950010-502c-418a-889e-03f1aeac8f82",
   "metadata": {},
   "source": [
    "## Logistic Regression \n",
    "\n",
    "Suppose we have $N$ data points $(x_0,y_0),\\dots,(x_{N-1},y_{N-1})$ such that the targets are binary: $y_k = 0$ or $y_k = 1$ for $k=0,\\dots,N-1$. The goal of **logistic regression** is to find parameters $W$ and $b$ such that $\\sigma(x;W,b)$ \"best fits\" the data. Experiment with different values $W$ and $b$ to find a best fit line for the data below."
   ]
  },
  {
   "cell_type": "code",
   "execution_count": 5,
   "id": "d60c13df-c52c-400f-bc31-3fbb174151d5",
   "metadata": {
    "tags": []
   },
   "outputs": [
    {
     "data": {
      "image/png": "[encoded data removed]",
      "text/plain": [
       "<Figure size 800x200 with 1 Axes>"
      ]
     },
     "metadata": {},
     "output_type": "display_data"
    }
   ],
   "source": [
    "x = np.array([-3,-2,-1,0,0,1,1,2,3])\n",
    "y = np.array([0,0,0,0,1,0,1,1,1])\n",
    "\n",
    "W = 1.2\n",
    "b = -0.6\n",
    "\n",
    "sigma = lambda x: 1/(1 + np.exp(-(W*x + b)))\n",
    "X = np.linspace(-4,4,100)\n",
    "Y = sigma(X)\n",
    "\n",
    "plt.figure(figsize=(8,2))\n",
    "plt.plot(x,y,'r*',X,Y,'b'), plt.grid(True)\n",
    "plt.show()"
   ]
  },
  {
   "cell_type": "markdown",
   "id": "d57427fb-d8cc-40b2-9775-9cc28328b0b8",
   "metadata": {},
   "source": [
    "## Least Squares Cost Function\n",
    "\n",
    "We need to define a cost function to find a line of \"best fit\". We say that a model $\\sigma(x;W,b)$ **best fits** the data if the parameters **minimize the cost function**.\n",
    "\n",
    "The **mean least squares** cost function is\n",
    "\n",
    "$$\n",
    "C_{LS}(W,b; x,y) = \\frac{1}{N} \\sum_{k=0}^{N-1} (y_k - \\sigma(x_k; W,b) )^2\n",
    "$$\n",
    "\n",
    "Write a Python function called `costLS` which takes parameters `W`, `b`, `x` and `y`, and returns $C_{LS}(W,b; x,y)$."
   ]
  },
  {
   "cell_type": "code",
   "execution_count": 2,
   "id": "aff9a2b9-89f7-4626-8c29-4f9dd623d06a",
   "metadata": {},
   "outputs": [],
   "source": [
    "sigma = lambda x,W,b: 1/(1 + np.exp(-(W*x + b)))\n",
    "costLS = lambda W,b,x,y: 1/len(x)*np.sum((y - sigma(x,W,b))**2)"
   ]
  },
  {
   "cell_type": "markdown",
   "id": "7d10f07d-062b-4014-95de-030441213196",
   "metadata": {},
   "source": [
    "Use the function to compute the cost for the data in the previous example with $W=1.2$ and $b=-1$. Try to modify the parameters $W$ and $b$ to minimize the cost."
   ]
  },
  {
   "cell_type": "code",
   "execution_count": 3,
   "id": "42fd0cc5-50b7-4c84-9d40-d2f7196e37c1",
   "metadata": {
    "tags": []
   },
   "outputs": [
    {
     "data": {
      "text/plain": [
       "0.12963850207631072"
      ]
     },
     "execution_count": 3,
     "metadata": {},
     "output_type": "execute_result"
    }
   ],
   "source": [
    "x = np.array([-3,-2,-1,0,0,1,1,2,3])\n",
    "y = np.array([0,0,0,0,1,0,1,1,1])\n",
    "costLS(1.2,-1,x,y)"
   ]
  },
  {
   "cell_type": "markdown",
   "id": "577ba18b-0220-4664-858c-7be06e1c1346",
   "metadata": {},
   "source": [
    "## Cross Entropy Cost Function\n",
    "\n",
    "The **cross entropy** cost function:\n",
    "\n",
    "$$\n",
    "C_{CE}(W,b; x,y) = - \\frac{1}{N} \\sum_{k=0}^{N-1} \\left( y_k \\log(\\sigma(x_k; W,b)) + (1 - y_k) \\log(1 - \\sigma(x_k; W,b))  \\right)\n",
    "$$\n",
    "\n",
    "Write a Python function called `costCE` which takes parameters `W`, `b`, `x` and `y`, and returns $C_{CE}(W,b; x,y)$."
   ]
  },
  {
   "cell_type": "code",
   "execution_count": 5,
   "id": "48504496-deae-42e7-9c72-ccf4ae4cd842",
   "metadata": {
    "tags": []
   },
   "outputs": [],
   "source": [
    "sigma = lambda x,W,b: 1/(1 + np.exp(-(W*x + b)))\n",
    "costCE = lambda W,b,x,y: -1/len(y)*np.sum(y*np.log(sigma(x,W,b)) + (1 - y)*np.log(1 - sigma(x,W,b)))"
   ]
  },
  {
   "cell_type": "markdown",
   "id": "f9b5c4f7-b95b-4164-956e-acb9906adc1c",
   "metadata": {},
   "source": [
    "Use the function to compute the cost for the data in the previous example with $W=3$ and $b=-1$. Try to modify the parameters $W$ and $b$ to minimize the cost."
   ]
  },
  {
   "cell_type": "code",
   "execution_count": 7,
   "id": "eca1e432-791c-43f7-ab4d-b44c4a0bf9ce",
   "metadata": {
    "tags": []
   },
   "outputs": [
    {
     "data": {
      "text/plain": [
       "0.4340596605839115"
      ]
     },
     "execution_count": 7,
     "metadata": {},
     "output_type": "execute_result"
    }
   ],
   "source": [
    "x = np.array([-3,-2,-1,0,0,1,1,2,3])\n",
    "y = np.array([0,0,0,0,1,0,1,1,1])\n",
    "costCE(3,-1,x,y)"
   ]
  },
  {
   "cell_type": "markdown",
   "id": "c5e37205-4bf3-4296-8fbe-2fd52af16b56",
   "metadata": {},
   "source": [
    "## Regularization\n",
    "\n",
    "Consider the following example:"
   ]
  },
  {
   "cell_type": "code",
   "execution_count": 8,
   "id": "a5186e00-3629-44ca-8c12-0c64a808f184",
   "metadata": {},
   "outputs": [
    {
     "data": {
      "image/png": "[encoded data removed]",
      "text/plain": [
       "<Figure size 640x480 with 1 Axes>"
      ]
     },
     "metadata": {},
     "output_type": "display_data"
    }
   ],
   "source": [
    "x = np.array([-3,-2,-1,1,2,3])\n",
    "y = np.array([1,1,1,0,0,0])\n",
    "plt.plot(x,y,'r*'), plt.grid(True)\n",
    "plt.show()"
   ]
  },
  {
   "cell_type": "markdown",
   "id": "d1dc354a-761a-4e8d-ba31-31ba584a0f52",
   "metadata": {},
   "source": [
    "Because the data is separated, we can take the limit $W \\to \\infty$ with $b=0$ to get the step function which perfectly matches the data. However there is not a unique solution since we could allow any $b$ such that $-W < b < W$. And also we don't want to consider infinite limits when doing mathematical computing."
   ]
  },
  {
   "cell_type": "code",
   "execution_count": 9,
   "id": "0b2c79e7-45ad-4b2a-94a8-d672382cf297",
   "metadata": {},
   "outputs": [
    {
     "data": {
      "text/plain": [
       "6.200126626701395e-45"
      ]
     },
     "execution_count": 9,
     "metadata": {},
     "output_type": "execute_result"
    }
   ],
   "source": [
    "W = -100\n",
    "b = 50\n",
    "costLS(W,b,x,y)"
   ]
  },
  {
   "cell_type": "code",
   "execution_count": 10,
   "id": "7260f489-e678-4247-ad87-a40d976c9c89",
   "metadata": {},
   "outputs": [
    {
     "data": {
      "image/png": "[encoded data removed]",
      "text/plain": [
       "<Figure size 640x480 with 1 Axes>"
      ]
     },
     "metadata": {},
     "output_type": "display_data"
    }
   ],
   "source": [
    "X = np.linspace(-4,4,500)\n",
    "Y = sigma(X,W,b)\n",
    "plt.plot(x,y,'r*',X,Y,'b'), plt.grid(True)\n",
    "plt.show()"
   ]
  },
  {
   "cell_type": "markdown",
   "id": "4fa5f9a8-a697-4b40-ade5-aa62cb874ce8",
   "metadata": {},
   "source": [
    "**Regularization** adds a penalty for large values of the weight parameter $W$. There are different ways to regularize such as $L^2$ regularization, $\\alpha |W|^2$, and $L^1$ regularization, $\\alpha |W|$, where $\\alpha$ is the **regularization parameter**."
   ]
  },
  {
   "cell_type": "markdown",
   "id": "333bf1ad-406f-4122-9afc-6258746469ca",
   "metadata": {},
   "source": [
    "Write a Python function called `costCEL2` which takes parameters `W`, `b`, `x`, `y` and `alpha`, and returns the cross entropy cost function with $L^2$ regularization:\n",
    "\n",
    "$$\n",
    "C_{CE}(W,b; x,y) = - \\frac{1}{N} \\sum_{k=0}^{N-1} \\left( y_k \\log(\\sigma(x_k; W,b)) + (1 - y_k) \\log(1 - \\sigma(x_k; W,b))  \\right) + \\alpha |W|^2\n",
    "$$"
   ]
  },
  {
   "cell_type": "code",
   "execution_count": 11,
   "id": "b82c6709-7732-427e-b12f-643588d7d128",
   "metadata": {},
   "outputs": [],
   "source": [
    "costCEL2 = lambda W,b,x,y,alpha: -1/len(y)*np.sum(y*np.log(sigma(x,W,b)) + (1 - y)*np.log(1 - sigma(x,W,b))) + alpha*np.abs(W)**2"
   ]
  },
  {
   "cell_type": "markdown",
   "id": "08991349-8675-4a88-903a-87ddbc7d77c2",
   "metadata": {},
   "source": [
    "Use the function to compute the cost for the data in the previous example with $W=-10$ and $b=0$ and $\\alpha = 10^{-6}$. Try to modify the parameters $W$ and $b$ to minimize the cost."
   ]
  },
  {
   "cell_type": "code",
   "execution_count": 12,
   "id": "fa4be03b-6a56-40c0-bc5a-9635a54ffe84",
   "metadata": {},
   "outputs": [
    {
     "data": {
      "text/plain": [
       "0.00011730122027635695"
      ]
     },
     "execution_count": 12,
     "metadata": {},
     "output_type": "execute_result"
    }
   ],
   "source": [
    "x = np.array([-3,-2,-1,1,2,3])\n",
    "y = np.array([1,1,1,0,0,0])\n",
    "W = -10.3\n",
    "b = 0\n",
    "costCEL2(W,b,x,y,1e-6)"
   ]
  },
  {
   "cell_type": "code",
   "execution_count": 13,
   "id": "a09fa2c8-477a-44b3-90a6-3710d78a687c",
   "metadata": {},
   "outputs": [
    {
     "data": {
      "image/png": "[encoded data removed]",
      "text/plain": [
       "<Figure size 640x480 with 1 Axes>"
      ]
     },
     "metadata": {},
     "output_type": "display_data"
    }
   ],
   "source": [
    "X = np.linspace(-4,4,500)\n",
    "Y = sigma(X,W,b)\n",
    "plt.plot(x,y,'r*',X,Y,'b'), plt.grid(True)\n",
    "plt.show()"
   ]
  },
  {
   "cell_type": "markdown",
   "id": "b70a0161-b9bb-430d-85b6-90372f9f873c",
   "metadata": {},
   "source": [
    "## Computing Parameters with SciPy\n",
    "\n",
    "Next time we will develop the gradient descent method to compute optimal parameters for logistic regression. Today let's just use the function `scipy.optimize.minimize` takes a function $F(\\mathbf{z}) : \\mathbb{R}^n \\rightarrow \\mathbb{R}$ and initial value $\\mathbf{z}_0$ can approximates a point $\\mathbf{c} \\in \\mathbb{R}^n$ such that $F(\\mathbf{c})$ is minimum.\n",
    "\n",
    "In our case of fitting a logistic function to data using the cross entropy cost function with $L^2$ regularization, we input the function\n",
    "\n",
    "$$\n",
    "F(\\mathbf{z}) = C_{CE,L^2}(W,b; \\mathbf{x},\\mathbf{y}; \\alpha)\n",
    "$$\n",
    "\n",
    "where $\\mathbf{z} = [W,b]$. Use `scipy.optimize.minimize` to compute the optimal parameters for the example above."
   ]
  },
  {
   "cell_type": "code",
   "execution_count": 39,
   "id": "90f8030e-70af-4183-a852-7ff421ef183e",
   "metadata": {},
   "outputs": [],
   "source": [
    "F = lambda z: z[0]**2 + z[1]**2\n",
    "result = spo.minimize(F,[1,1])"
   ]
  },
  {
   "cell_type": "code",
   "execution_count": 40,
   "id": "bebac067-cfeb-415f-ae57-35b9a2dec480",
   "metadata": {},
   "outputs": [
    {
     "data": {
      "text/plain": [
       "  message: Optimization terminated successfully.\n",
       "  success: True\n",
       "   status: 0\n",
       "      fun: 2.311471135620994e-16\n",
       "        x: [-1.075e-08 -1.075e-08]\n",
       "      nit: 2\n",
       "      jac: [-6.600e-09 -6.600e-09]\n",
       " hess_inv: [[ 7.500e-01 -2.500e-01]\n",
       "            [-2.500e-01  7.500e-01]]\n",
       "     nfev: 9\n",
       "     njev: 3"
      ]
     },
     "execution_count": 40,
     "metadata": {},
     "output_type": "execute_result"
    }
   ],
   "source": [
    "result"
   ]
  },
  {
   "cell_type": "code",
   "execution_count": 44,
   "id": "9d28dfa0-644f-4b68-946f-8243d0abcb7c",
   "metadata": {},
   "outputs": [
    {
     "data": {
      "text/plain": [
       "  message: Optimization terminated successfully.\n",
       "  success: True\n",
       "   status: 0\n",
       "      fun: 0.2626698735210554\n",
       "        x: [-1.031e+00 -2.064e-05]\n",
       "      nit: 9\n",
       "      jac: [ 1.006e-07 -2.302e-06]\n",
       " hess_inv: [[ 1.910e+00 -2.590e-03]\n",
       "            [-2.590e-03  8.234e+00]]\n",
       "     nfev: 30\n",
       "     njev: 10"
      ]
     },
     "execution_count": 44,
     "metadata": {},
     "output_type": "execute_result"
    }
   ],
   "source": [
    "alpha = 0.1\n",
    "F = lambda z: costCEL2(z[0],z[1],x,y,alpha)\n",
    "spo.minimize(F,[1,1])"
   ]
  },
  {
   "cell_type": "code",
   "execution_count": 3,
   "id": "7fc24c6e-309c-4fa0-802a-5d36add6e3b7",
   "metadata": {},
   "outputs": [
    {
     "data": {
      "image/png": "[encoded data removed]",
      "text/plain": [
       "<Figure size 640x480 with 1 Axes>"
      ]
     },
     "metadata": {},
     "output_type": "display_data"
    }
   ],
   "source": [
    "x = np.array([-3,-2,-1,1,2,3])\n",
    "y = np.array([1,1,1,0,0,0])\n",
    "\n",
    "plt.plot(x,y,'r*'), plt.grid(True)\n",
    "plt.show()"
   ]
  },
  {
   "cell_type": "code",
   "execution_count": 54,
   "id": "e9d575e6-0107-4d1e-8d63-e481550e538e",
   "metadata": {},
   "outputs": [],
   "source": [
    "x = np.array([-3,-2,-1,1,2,3])\n",
    "y = np.array([1,1,1,0,0,0])\n",
    "alpha = 1e-4\n",
    "F = lambda z: costCEL2(z[0],z[1],x,y,alpha)\n",
    "result = spo.minimize(F,[1,1])"
   ]
  },
  {
   "cell_type": "code",
   "execution_count": 55,
   "id": "83aa5f4c-8583-44cd-83b6-fcecbde3eb5c",
   "metadata": {},
   "outputs": [
    {
     "name": "stdout",
     "output_type": "stream",
     "text": [
      "W = -5.680856000623222 b = -0.0001634967358001213\n"
     ]
    }
   ],
   "source": [
    "W = result.x[0]\n",
    "b = result.x[1]\n",
    "print(\"W =\",W,\"b =\",b)"
   ]
  },
  {
   "cell_type": "code",
   "execution_count": 56,
   "id": "0b88d7b5-871f-4cb8-8ae9-b44b6e4817b0",
   "metadata": {},
   "outputs": [
    {
     "data": {
      "image/png": "[encoded data removed]",
      "text/plain": [
       "<Figure size 640x480 with 1 Axes>"
      ]
     },
     "metadata": {},
     "output_type": "display_data"
    }
   ],
   "source": [
    "X = np.linspace(-4,4,500)\n",
    "Y = sigma(X,W,b)\n",
    "plt.plot(x,y,'r*',X,Y,'b'), plt.grid(True)\n",
    "plt.show()"
   ]
  }
 ],
 "metadata": {
  "kernelspec": {
   "display_name": "Python 3 (ipykernel)",
   "language": "python",
   "name": "python3"
  },
  "language_info": {
   "codemirror_mode": {
    "name": "ipython",
    "version": 3
   },
   "file_extension": ".py",
   "mimetype": "text/x-python",
   "name": "python",
   "nbconvert_exporter": "python",
   "pygments_lexer": "ipython3",
   "version": "3.10.12"
  }
 },
 "nbformat": 4,
 "nbformat_minor": 5
}
