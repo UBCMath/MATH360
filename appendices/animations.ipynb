{
 "cells": [
  {
   "cell_type": "markdown",
   "id": "5bfc26aa-d6ee-4589-b79c-cb1816380234",
   "metadata": {},
   "source": [
    "# Matplotlib Animations"
   ]
  },
  {
   "cell_type": "markdown",
   "id": "381aa042-2236-4c8c-b3a1-fa526be77d48",
   "metadata": {},
   "source": [
    "*Under constuction*"
   ]
  }
 ],
 "metadata": {
  "kernelspec": {
   "display_name": "Python 3 (ipykernel)",
   "language": "python",
   "name": "python3"
  },
  "language_info": {
   "codemirror_mode": {
    "name": "ipython",
    "version": 3
   },
   "file_extension": ".py",
   "mimetype": "text/x-python",
   "name": "python",
   "nbconvert_exporter": "python",
   "pygments_lexer": "ipython3",
   "version": "3.10.12"
  }
 },
 "nbformat": 4,
 "nbformat_minor": 5
}
