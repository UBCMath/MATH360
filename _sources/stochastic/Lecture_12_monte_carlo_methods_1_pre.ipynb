{
 "cells": [
  {
   "cell_type": "markdown",
   "id": "546ae77a-4259-4c9a-8f58-c6435bf0fea8",
   "metadata": {},
   "source": [
    "# Monte Carlo Methods\n",
    "\n",
    "### Last Class\n",
    "- Probability overview and introduction to Monte Carlo simulation\n",
    "\n",
    "### Goals for Today\n",
    "- Define Monte Carlo Methods and state advantages/disadvantes of the methodology\n",
    "- Implement and analyze Monte Carlo Methods in a variety of examples"
   ]
  },
  {
   "cell_type": "markdown",
   "id": "7e9be5fd-ebc3-4e88-8560-81694c119af1",
   "metadata": {},
   "source": [
    "### Pre-Lecture Activities\n",
    "- [MATH 360 > Monte Carlo Methods](http://ubcmath.github.io/MATH360/)\n",
    "- Read: Section 1.1 and 1.3 from *Monte Carlo Methods* by Malvin Kalos and Paula Whitlock.  An online pdf of the book is available for free through the UBC Library, as well as the definition of Expected Value below."
   ]
  },
  {
   "cell_type": "code",
   "execution_count": 1,
   "id": "f9b89371-415b-4752-9ea5-f27acd8a618a",
   "metadata": {},
   "outputs": [
    {
     "name": "stdout",
     "output_type": "stream",
     "text": [
      "packages imported\n"
     ]
    }
   ],
   "source": [
    "#import packages\n",
    "import numpy as np\n",
    "import matplotlib.pyplot as plt\n",
    "import random\n",
    "from scipy.stats import norm\n",
    "%matplotlib inline\n",
    "\n",
    "\n",
    "print(\"packages imported\")"
   ]
  },
  {
   "cell_type": "markdown",
   "id": "012cbe1c-f2ea-4c6f-93b8-984c530b5efb",
   "metadata": {},
   "source": [
    "### Monte Carlo Key Points"
   ]
  },
  {
   "cell_type": "code",
   "execution_count": null,
   "id": "0f05796c-344f-4fbb-b015-389d59847c69",
   "metadata": {},
   "outputs": [],
   "source": []
  },
  {
   "cell_type": "markdown",
   "id": "b12812c2-dd9b-4b37-8a54-c22a2ee7ea17",
   "metadata": {},
   "source": [
    "### Rolling a Die \n",
    "\n",
    "Generate a plot with the sum on the horizontal axis and the frequency on the vertical. Then calculate the probability of each sum occuring and plot the probability distribution. \n",
    "\n",
    "Then answer the following questions:\n",
    "- How do the frequency and probability distribution plots look? \n",
    "- Does the data look how you would expect?\n",
    "- If not, why do you think the data does not look like you expect?"
   ]
  },
  {
   "cell_type": "code",
   "execution_count": null,
   "id": "50ee459d-c7d7-486b-b0a5-546edea64f14",
   "metadata": {},
   "outputs": [],
   "source": []
  },
  {
   "cell_type": "markdown",
   "id": "d744d8d3-1775-4c92-abde-f9dd58bb6af4",
   "metadata": {},
   "source": [
    "### Dice Sum\n",
    "Now, simulate rolling two dice and tracking the sum.  Write a code to simulate 200 dice rolls. \n",
    "\n",
    "How does the distribution compare with distribution from data?"
   ]
  },
  {
   "cell_type": "code",
   "execution_count": null,
   "id": "e5765794-6486-47be-b02f-9b8ccf92e1bd",
   "metadata": {},
   "outputs": [],
   "source": []
  },
  {
   "cell_type": "markdown",
   "id": "70d7e8ff-762d-4c88-aadd-856eec615601",
   "metadata": {},
   "source": [
    "### Rolling a Die -- Monte Carlo\n",
    "Write a Monte Carlo code to simulate rolling a pair of dice 500 times and generate the same plots as the previous die example.\n",
    "\n",
    "Then answer the following questions:\n",
    "- Do the plots look how you would expect?\n",
    "- What happens when you increase the number of Monte Carlo simulations?\n",
    "    - Why do you think you are seeing this effect?\n",
    "- What are the advantages and disadvantages of using a Monte Carlo simulation in this context? "
   ]
  },
  {
   "cell_type": "code",
   "execution_count": null,
   "id": "e5d28394-40ae-4349-a167-e852aa7dce60",
   "metadata": {},
   "outputs": [],
   "source": []
  },
  {
   "cell_type": "markdown",
   "id": "03a51803-0d28-46ab-9db7-cbf037deb6aa",
   "metadata": {},
   "source": [
    "### Transit Travel Time\n",
    "\n",
    "Let's suppose we have to take two buses to reach UBC campus from where we live.  The first bus ride is an average of 11 minutes, with a variance of 2 minutes, and the second bus ride is an average of 20 minutes, with a variance of 4 minutes.  Let's further assume that each bus trip is normally distributed.\n",
    "\n",
    "Calculate the probability that the time to reach campus is less than 30 minutes."
   ]
  },
  {
   "cell_type": "code",
   "execution_count": null,
   "id": "12294ece-3759-4244-9204-4aab1a9a2b8e",
   "metadata": {},
   "outputs": [],
   "source": []
  },
  {
   "cell_type": "markdown",
   "id": "789da24e-8c9d-469b-8d9b-a1381cfd6ace",
   "metadata": {},
   "source": [
    "### Transit Travel Time 2\n",
    "\n",
    "Let's again suppose we have to take two buses to reach UBC campus from where we live.  The first bus ride is an average of 11 minutes, with a variance of 2 minutes, and the second bus ride is an average of 20 minutes, with a variance of 4 minutes.  Let's further assume that each bus trip is normally distributed.\n",
    "\n",
    "Between getting off of the first bus and getting on the second bus, we have to wait an average of 5 minutes.  Assume that the wait time is exponentially distributed.  \n",
    "\n",
    "Calculate the probability that the time to reach campus is less than 30 minutes."
   ]
  },
  {
   "cell_type": "code",
   "execution_count": null,
   "id": "e1219108-c804-43cb-974f-ada71de8fae2",
   "metadata": {},
   "outputs": [],
   "source": []
  }
 ],
 "metadata": {
  "kernelspec": {
   "display_name": "Python 3 (ipykernel)",
   "language": "python",
   "name": "python3"
  },
  "language_info": {
   "codemirror_mode": {
    "name": "ipython",
    "version": 3
   },
   "file_extension": ".py",
   "mimetype": "text/x-python",
   "name": "python",
   "nbconvert_exporter": "python",
   "pygments_lexer": "ipython3",
   "version": "3.10.12"
  }
 },
 "nbformat": 4,
 "nbformat_minor": 5
}
