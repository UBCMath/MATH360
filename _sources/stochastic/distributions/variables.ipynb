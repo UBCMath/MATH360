{
 "cells": [
  {
   "cell_type": "markdown",
   "id": "f1729ba7-45d3-4ed6-9103-d2c45dce10ae",
   "metadata": {},
   "source": [
    "# Variables and Densities"
   ]
  },
  {
   "cell_type": "code",
   "execution_count": 2,
   "id": "7ce0c209-3561-4fb8-8a83-39961495bd24",
   "metadata": {
    "tags": []
   },
   "outputs": [],
   "source": [
    "import numpy as np\n",
    "import matplotlib.pyplot as plt"
   ]
  },
  {
   "cell_type": "markdown",
   "id": "cd39ea1b-1d2e-488a-ba75-1a9b399b5d76",
   "metadata": {},
   "source": [
    "## Random Variables\n",
    "\n",
    "Consider an experiment or a random event such as flipping a coin or measuring wind speed and direction at a specific time and location. A **random variable** is a function that associates a numerical value with the outcome of an experiment or random event. If the range of values of a random variable $X$ is finite or countable (like the set of integers) then we call $X$ a **discrete random variable**. If the range of values of a random variable $X$ is uncountably infinite (like the set of real numbers $\\mathbb{R}$) then we call $X$ a **continuous random variable**. For example:\n",
    "\n",
    "* Flip a coin and let $X = 1$ if the outcome is heads and $X = 0$ if the outcome is tails. Then $X$ is a discrete random variable.\n",
    "* Let $X$ be the total number of points scored in a basketball game. Then $X$ is a positive integer and so $X$ is a discrete random variable.\n",
    "* Let $X$ be the temperature measured at a specific time and location. The possible values of $X$ is the set of positive real numbers and so $X$ is a continous random variable.\n",
    "* Throw a dart at a dartboard and let $X$ be the distance from where the dart lands to the center of the baord. The possible values of $X$ is again the set of positive real numbers so $X$ is a continuous random variable.\n",
    "* Let $X$ be the wind direction measured at a specific time and location. The possible values of $X$ is the set $[0,2 \\pi]$ and so $X$ is a continous random variable."
   ]
  },
  {
   "cell_type": "markdown",
   "id": "d09c4fc5-ef6f-443a-a805-94b5f38c4814",
   "metadata": {},
   "source": [
    "## Probability Distributions\n",
    "\n",
    "Let $X$ be a continuous random variable. If we could repeat the same experiment or observe the same random event to generate infinitely many values of $X$ then the **probability** $P(a \\leq X \\leq b)$ is the **relative frequency** of the occurence of the event $a \\le X \\le b$. The **probability distribution** of $X$ is the collection of probabilities $P(a \\leq X \\leq b)$ for all intervals $[a,b] \\subset \\mathbb{R}$."
   ]
  },
  {
   "cell_type": "markdown",
   "id": "cd07ce71-cf87-40bb-9808-f87352420b92",
   "metadata": {},
   "source": [
    "## Probability Density Functions\n",
    "\n",
    "A **probability density function** is a function $f : \\mathbb{R} \\rightarrow \\mathbb{R}$ such that $f(x) \\ge 0$ for all $x \\in \\mathbb{R}$ and\n",
    "\n",
    "$$\n",
    "\\int_{-\\infty}^{\\infty} f(x) \\, dx\n",
    "$$\n",
    "\n",
    "We say that the probability distribution of a continuous random variable $X$ corresponds to the density function $f_X(x)$ if\n",
    "\n",
    "$$\n",
    "P(a \\le X \\le b) = \\int_a^b f(x) \\, dx\n",
    "$$"
   ]
  },
  {
   "cell_type": "markdown",
   "id": "4dcd7984-8829-433a-80e9-bea2192a69cb",
   "metadata": {},
   "source": [
    "## Mean and Variance\n",
    "\n",
    "Let $X$ be a continuous random variable with probability density function $f_X(x)$. The **mean** of $X$ is\n",
    "\n",
    "$$\n",
    "\\mu = \\int_{-\\infty}^{\\infty} x f_X(x) \\, dx\n",
    "$$\n",
    "\n",
    "The mean describes the central value in the distribution of $X$. The **variance** of $X$ is\n",
    "\n",
    "$$\n",
    "\\sigma^2 = \\int_{-\\infty}^{\\infty} (x - \\mu)^2 f_X(x) \\, dx\n",
    "$$\n",
    "\n",
    "The variance is the average value of the squared distance from the mean $(x - \\mu)^2$. The variance describes how spread out the distribution of $X$ is."
   ]
  },
  {
   "cell_type": "markdown",
   "id": "22f40bdb-0b4a-4a09-929d-f5dcdbc4753d",
   "metadata": {},
   "source": [
    "## Scaling and Shifting\n",
    "\n",
    "If $f(x)$ is a probability density function then the shifted function $f(x - b)$ is also a density function for any $b \\in \\mathbb{R}$. Let's see why this is true. First, $f(x - b) \\geq 0$ for all $x \\in \\mathbb{R}$ since $f(x) \\geq 0$ for all $x$. Second, compute the integral using the substitution $y = x- b$, $dy = dx$\n",
    "\n",
    "$$\n",
    "\\int_{-\\infty}^{\\infty} f(x - b) \\, dx = \\int_{-\\infty}^{\\infty} f(y) \\, dy = 1\n",
    "$$\n",
    "\n",
    "Similarly, if $f(x)$ is a probability density function then the scaled function $a f(ax)$ is also a probability density function for any $a > 0$. Let's see why this is true. First, $a f(a x) \\geq 0$ for all $x \\in \\mathbb{R}$ since $f(x) \\geq 0$ for all $x$ and $a > 0$. Second, compute the integral using the substitution $y = ax$, $dy = a dx$\n",
    "\n",
    "$$\n",
    "\\int_{-\\infty}^{\\infty} af(ax) \\, dx = \\int_{-\\infty}^{\\infty} f(y) \\, dy = 1\n",
    "$$"
   ]
  },
  {
   "cell_type": "markdown",
   "id": "68ed5e47-bb23-4ca0-97e3-43aef7813a78",
   "metadata": {},
   "source": [
    "## Cumulative Distribution Function\n",
    "\n",
    "*Under construction*"
   ]
  },
  {
   "cell_type": "markdown",
   "id": "9bcbd813-d51b-4075-9553-9ca13e149f0c",
   "metadata": {},
   "source": [
    "## Parameter Estimation\n",
    "\n",
    "Suppose we observe a sample of $N$ values $x_1,\\dots,x_N$ of a random variable $X$. An estimate of the mean is given by the **sample mean** \n",
    "\n",
    "$$\n",
    "\\hat{\\mu} = \\frac{1}{N} \\sum_{i=1}^N x_i\n",
    "$$\n",
    "\n",
    "and estimate of the variance is the **(unbiased) sample variance**\n",
    "\n",
    "$$\n",
    "\\hat{\\sigma}^2 = \\frac{1}{N - 1} \\sum_{i=1}^N (x_i - \\hat{\\mu})^2\n",
    "$$"
   ]
  }
 ],
 "metadata": {
  "kernelspec": {
   "display_name": "Python 3 (ipykernel)",
   "language": "python",
   "name": "python3"
  },
  "language_info": {
   "codemirror_mode": {
    "name": "ipython",
    "version": 3
   },
   "file_extension": ".py",
   "mimetype": "text/x-python",
   "name": "python",
   "nbconvert_exporter": "python",
   "pygments_lexer": "ipython3",
   "version": "3.10.12"
  }
 },
 "nbformat": 4,
 "nbformat_minor": 5
}
