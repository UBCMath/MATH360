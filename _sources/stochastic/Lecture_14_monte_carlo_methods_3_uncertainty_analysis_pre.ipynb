{
 "cells": [
  {
   "cell_type": "markdown",
   "id": "546ae77a-4259-4c9a-8f58-c6435bf0fea8",
   "metadata": {},
   "source": [
    "# Monte Carlo Methods\n",
    "\n",
    "### Last Class\n",
    "- Kernel Density Functions\n",
    "\n",
    "### Goals for Today\n",
    "- Define uncertainty analysis\n",
    "- Implement Monte Carlo uncertainty analysis in a mathematical model\n",
    "- Apply Monte Carlo uncertainty analysis to deterministic models"
   ]
  },
  {
   "cell_type": "markdown",
   "id": "7e9be5fd-ebc3-4e88-8560-81694c119af1",
   "metadata": {},
   "source": [
    "### Pre-Lecture Activities\n",
    "\n",
    "- [MATH 360 > Monte Carlo Uncertainty Analysis](http://ubcmath.github.io/MATH360/)"
   ]
  },
  {
   "cell_type": "code",
   "execution_count": 1,
   "id": "f9b89371-415b-4752-9ea5-f27acd8a618a",
   "metadata": {},
   "outputs": [
    {
     "name": "stdout",
     "output_type": "stream",
     "text": [
      "packages imported\n"
     ]
    }
   ],
   "source": [
    "#import packages\n",
    "import numpy as np\n",
    "import matplotlib.pyplot as plt\n",
    "import random\n",
    "from scipy.stats import norm\n",
    "%matplotlib inline\n",
    "\n",
    "\n",
    "print(\"packages imported\")"
   ]
  },
  {
   "cell_type": "markdown",
   "id": "eaecba0e-237f-4d1d-8399-9bb4657449cb",
   "metadata": {},
   "source": [
    "### Applied Force Uncertainty Analysis\n",
    "\n",
    "In groups of 3-4, simulate the uncertainty in the force applied to a wall by throwing a ball against it.  Recall that $F = ma$, where $F$ is force, $m$ is mass, and $a$ is acceleration given by $a = \\frac{v}{t}$, with $v$ velocity and $t$ time.  We have the following information about the measurements:\n",
    "\n",
    "|quantity| value | uncertainty|\n",
    "|----------|-------------|-----------------|\n",
    "|mass| 0.055 kg |$\\pm 0.001$ kg|\n",
    "|velocity| 10 m/s |$\\pm 0.5$ m/s|\n",
    "|  time  | 5 s | $\\pm 1$ s |\n",
    "\n",
    "\n",
    "Simulate the uncertainty for $N=10000$ times. \n",
    "\n",
    "Determine which parameter is responsible for the largest amount of variance in the acceleration."
   ]
  },
  {
   "cell_type": "code",
   "execution_count": null,
   "id": "e0294afc-eb40-4391-9511-4407c072c522",
   "metadata": {},
   "outputs": [],
   "source": []
  },
  {
   "cell_type": "markdown",
   "id": "6e864877-1a81-4a21-afa6-7d7706484023",
   "metadata": {},
   "source": [
    "### Application to Deterministic Models\n",
    "\n",
    "Let's see how measurement uncertainty can affect the solution in deterministic modelling (i.e., differential equations)."
   ]
  },
  {
   "cell_type": "markdown",
   "id": "29731c84-e606-4f8d-baba-b83959673b1f",
   "metadata": {},
   "source": [
    "We have previously seen the Energy Balance Model when looking at Deterministic Models.  As a reminder, we have \n",
    "\n",
    "$$k \\frac{dT}{dt} = \\pi R^2Q(1-\\alpha(T)) - 4 \\pi R^2 \\sigma \\varepsilon T^4,$$\n",
    "\n",
    "where\n",
    "- $k$ is the heat capacity of the Earth (J/K)\n",
    "- $T$ is the temperature of the Earth (K)\n",
    "- $t$ is the time (s)\n",
    "- $R$ is the radius of the Earth (m)\n",
    "- $Q$ is the amount of solar energy that reaches the Earth's surface (s$^{-1}$ m$^{-2}$)\n",
    "- $\\alpha(T)$ is the albedo of the Earth and is unitless\n",
    "- $\\sigma$ is the Stefan-Boltzmann constant (W/(m$^2$K$^4$) ) \n",
    "- $\\varepsilon$ is the emissivity and is unitless\n",
    "\n",
    "For the albedo, we had two possible functions (which gave rise to two different Energy Balance Models):\n",
    "$$\\alpha_1(T) = 0.3$$ \n",
    "or \n",
    "$$\\alpha_2(T)=\n",
    "\\begin{cases}\n",
    "0.7, T \\leq 247 K\\\\\n",
    "3.52296-0.011429T, 247 < T  < 282 K \\\\\n",
    "0.3, T \\geq 282 K\n",
    "\\end{cases}$$\n",
    "\n",
    "We also know the following information about the uncertainty of the constant values:\n",
    "|Constant| Value|Uncertainty| \n",
    "|--------|------|-----------|\n",
    "|$k$      | $1.0 \\times 10^{23}$ J/K| $\\pm 0.22 \\times 10^{9}$ J/K|\n",
    "|$R$      | $6.3781 \\times 10^6$  m| $\\pm 10$ m|\n",
    "|$Q$      | $1365$    W/(s m$^2$)| $\\pm 27.3$ W/(s m$^2$)|\n",
    "|$\\sigma$ | $5.6704 \\times 10^{-8}$ W/(m$^2$K$^4$) | $\\pm 0.000021 \\times 10^{-8}$ W/(m$^2$K$^4$)|\n",
    "\n",
    "Let's see how to incorporate the uncertainty in to the model and the effects on the solutions."
   ]
  },
  {
   "cell_type": "code",
   "execution_count": 13,
   "id": "68f778f3-f812-4c5d-a76b-8a1b0b8143ba",
   "metadata": {
    "tags": []
   },
   "outputs": [],
   "source": [
    "import scipy.integrate as spi\n",
    "import scipy.optimize as spo"
   ]
  },
  {
   "cell_type": "code",
   "execution_count": 14,
   "id": "e46de0eb-4c29-4b71-bc7e-3a5f8e5ca1a7",
   "metadata": {
    "tags": []
   },
   "outputs": [],
   "source": [
    "## Let's look at the energy balance equation with \\alpha_1(T) \n",
    "eps = 0.622\n",
    "alpha = 0.3\n",
    "\n",
    "f = lambda T,t: (np.pi*R**2*Q*(1 - alpha) - 4*np.pi*R**2*eps*sigma*T**4)/k\n",
    "t = np.linspace(0,1e9,100)\n",
    "\n",
    "T0 = 267\n",
    "\n",
    "## generate deterministic solution\n",
    "Q = 1365 \n",
    "R = 6.3781e6 \n",
    "k = 1e23 \n",
    "sigma = 5.670374419e-8 \n",
    "T_determin = spi.odeint(f,T0,t)\n",
    "t_determin = t"
   ]
  },
  {
   "cell_type": "code",
   "execution_count": null,
   "id": "c33fbefc-9f89-4064-b9af-0211a2e62419",
   "metadata": {},
   "outputs": [],
   "source": []
  },
  {
   "cell_type": "code",
   "execution_count": 16,
   "id": "a1503030-3f08-449f-a0ba-b5ec081ea959",
   "metadata": {},
   "outputs": [],
   "source": [
    "## Add some packages to make an animation\n",
    "from matplotlib.animation import FuncAnimation\n",
    "import IPython"
   ]
  },
  {
   "cell_type": "code",
   "execution_count": null,
   "id": "a93aad63-16ec-454c-98f9-ad411c1de2bd",
   "metadata": {},
   "outputs": [],
   "source": []
  },
  {
   "cell_type": "markdown",
   "id": "5b53ace2-8a7c-4555-ae2f-910e44a2a8e7",
   "metadata": {},
   "source": [
    "### Energy Balance Model Uncertainty Analysis\n",
    "\n",
    "Add uncertainty to the Energy Balance Model with $\\alpha_2(T)$. Use an initial temperature of $267$.  How does the result change when $\\alpha_1(T)$ is replaced with $\\alpha_2(T)$."
   ]
  },
  {
   "cell_type": "code",
   "execution_count": 20,
   "id": "7f001a7f-4a57-4a8c-8fe6-e72e0fca9200",
   "metadata": {
    "tags": []
   },
   "outputs": [
    {
     "data": {
      "image/png": "[encoded data removed]",
      "text/plain": [
       "<Figure size 640x480 with 1 Axes>"
      ]
     },
     "metadata": {},
     "output_type": "display_data"
    }
   ],
   "source": [
    "temp = [200,255,290,340]\n",
    "albedo = [0.6,0.6,0.2,0.2]\n",
    "plt.plot(temp,albedo,'b.-'), plt.ylim([0,1]), plt.grid(True)\n",
    "plt.show()"
   ]
  },
  {
   "cell_type": "code",
   "execution_count": 21,
   "id": "6d40c3a3-d925-4a76-a4e0-a4a529efbae5",
   "metadata": {
    "tags": []
   },
   "outputs": [],
   "source": [
    "## Deterministic solution\n",
    "t = np.linspace(0,1e9,100)\n",
    "alpha = lambda T: np.interp(T,temp,albedo)\n",
    "f1 = lambda T,t: (np.pi*R**2*Q*(1 - alpha(T)) - 4*np.pi*R**2*eps*sigma*T**4)/k\n",
    "\n",
    "T0 = 267\n",
    "\n",
    "## generate deterministic solution\n",
    "Q = 1365 \n",
    "R = 6.3781e6 \n",
    "k = 1e23 \n",
    "sigma = 5.670374419e-8 \n",
    "T_determin1 = spi.odeint(f1,T0,t)\n",
    "t_determin1 = t"
   ]
  },
  {
   "cell_type": "code",
   "execution_count": null,
   "id": "15c4531e-5ccf-45c1-b61b-40ea6a778fbf",
   "metadata": {},
   "outputs": [],
   "source": []
  },
  {
   "cell_type": "markdown",
   "id": "b74c9768-6f6e-4ac9-a766-b96142b6eb3e",
   "metadata": {},
   "source": [
    "### Energy Balance Model Uncertainty Analysis 2\n",
    "\n",
    "In groups of 4-6, add uncertainty to the Energy Balance Model's initial temperature using $\\alpha_2(T)$.  For this task use $267 \\pm 1$ K  How does the result change as the uncertainty is increased?"
   ]
  },
  {
   "cell_type": "code",
   "execution_count": null,
   "id": "6fab9e64-7419-4638-afc0-61492c55b5b7",
   "metadata": {},
   "outputs": [],
   "source": []
  }
 ],
 "metadata": {
  "kernelspec": {
   "display_name": "Python 3 (ipykernel)",
   "language": "python",
   "name": "python3"
  },
  "language_info": {
   "codemirror_mode": {
    "name": "ipython",
    "version": 3
   },
   "file_extension": ".py",
   "mimetype": "text/x-python",
   "name": "python",
   "nbconvert_exporter": "python",
   "pygments_lexer": "ipython3",
   "version": "3.11.4"
  }
 },
 "nbformat": 4,
 "nbformat_minor": 5
}
