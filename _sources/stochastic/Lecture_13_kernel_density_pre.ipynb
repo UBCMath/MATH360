{
 "cells": [
  {
   "cell_type": "markdown",
   "id": "546ae77a-4259-4c9a-8f58-c6435bf0fea8",
   "metadata": {},
   "source": [
    "# Monte Carlo Methods\n",
    "\n",
    "### Last Class\n",
    "- Monte Carlo Introduction\n",
    "\n",
    "### Goals for Today\n",
    "- Define kernel density\n",
    "- Implement a kernel density function to appoximate a probability distribution\n",
    "- Discuss the advantages and disadvantages of various kernels\n",
    "- Apply a kernel density function to a mathematical model"
   ]
  },
  {
   "cell_type": "markdown",
   "id": "7e9be5fd-ebc3-4e88-8560-81694c119af1",
   "metadata": {},
   "source": [
    "### Pre-Lecture Activities\n",
    "- [MATH 360 > Kernel Density](http://ubcmath.github.io/MATH360/)"
   ]
  },
  {
   "cell_type": "code",
   "execution_count": 1,
   "id": "f9b89371-415b-4752-9ea5-f27acd8a618a",
   "metadata": {},
   "outputs": [
    {
     "name": "stdout",
     "output_type": "stream",
     "text": [
      "packages imported\n"
     ]
    }
   ],
   "source": [
    "#import packages\n",
    "import numpy as np\n",
    "import matplotlib.pyplot as plt\n",
    "import random\n",
    "from scipy.stats import norm\n",
    "%matplotlib inline\n",
    "\n",
    "\n",
    "print(\"packages imported\")"
   ]
  },
  {
   "cell_type": "markdown",
   "id": "d6f164e2-6ade-4879-96f3-624940a30848",
   "metadata": {},
   "source": [
    "### Relation to Histograms\n",
    "\n",
    "Let's first look at how Kernel density and histograms are related.  \n",
    "1. Plot a histogram for the data: $[-1.5, -1.2, -0.8, -0.3, 0.4, 0.9].$\n",
    "2. Use a Gaussian Kernel to form a kernel density for the data points.  Plot the function on the same plot as the data. How does the function \"change\" when it is near each data point?"
   ]
  },
  {
   "cell_type": "code",
   "execution_count": null,
   "id": "82a705ec-ca92-4c18-87b6-1af01d367216",
   "metadata": {},
   "outputs": [],
   "source": []
  },
  {
   "cell_type": "markdown",
   "id": "000afcd6-06d6-40c3-8df9-1945f96dd89e",
   "metadata": {},
   "source": [
    "### Transit Travel Time 3\n",
    "\n",
    "Let's suppose we have to take two buses to reach UBC campus from where we live.  The first bus ride is an average of 11 minutes, with a variance of 2 minutes, and the second bus ride is an average of 20 minutes, with a variance of 4 minutes.  Let's further assume that each bus trip is normally distributed.\n",
    "\n",
    "Find the kernel density function using a Gaussian kernel, and then use the function to determine the probability that the time to reach campus is less than 30 minutes."
   ]
  },
  {
   "cell_type": "code",
   "execution_count": null,
   "id": "476ca7cc-5afc-4229-98ce-4ae3fe4535d3",
   "metadata": {},
   "outputs": [],
   "source": []
  },
  {
   "cell_type": "markdown",
   "id": "ca11809f-35ac-4162-b0ba-649c6be01bd8",
   "metadata": {},
   "source": [
    "### Transit Travel Time 4\n",
    "\n",
    "Let's again suppose we have to take two buses to reach UBC campus from where we live.  The first bus ride is an average of 11 minutes, with a variance of 2 minutes, and the second bus ride is an average of 20 minutes, with a variance of 4 minutes.  Let's further assume that each bus trip is normally distributed.\n",
    "\n",
    "Between getting off of the first bus and getting on the second bus, we have to wait an average of 5 minutes.  Assume that the wait time is exponentially distributed.  \n",
    "\n",
    "Find the kernel density function using a Gaussian kernel, a Triangular kernel, and a Rectangular kernel, and then use the functions to determine the probability that the time to reach campus is less than 30 minutes.  What differences do you observe when a different kernel function is chosen? Use $h=0.3$ as the bandwidth for both kernels.\n",
    "\n",
    "Discuss the advantages and disadvantages to each of the kernel functions."
   ]
  },
  {
   "cell_type": "code",
   "execution_count": null,
   "id": "961871ae-d946-4ea6-8f16-b0343c0c0922",
   "metadata": {},
   "outputs": [],
   "source": []
  }
 ],
 "metadata": {
  "kernelspec": {
   "display_name": "Python 3 (ipykernel)",
   "language": "python",
   "name": "python3"
  },
  "language_info": {
   "codemirror_mode": {
    "name": "ipython",
    "version": 3
   },
   "file_extension": ".py",
   "mimetype": "text/x-python",
   "name": "python",
   "nbconvert_exporter": "python",
   "pygments_lexer": "ipython3",
   "version": "3.11.4"
  }
 },
 "nbformat": 4,
 "nbformat_minor": 5
}
