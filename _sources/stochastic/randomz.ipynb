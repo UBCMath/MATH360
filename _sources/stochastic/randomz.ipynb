{
 "cells": [
  {
   "cell_type": "markdown",
   "id": "54fe6b80-8042-44c0-a829-1e16e39689a5",
   "metadata": {},
   "source": [
    "# Random Variables"
   ]
  },
  {
   "cell_type": "code",
   "execution_count": 1,
   "id": "9475de3c-c279-4716-8534-d426d273c892",
   "metadata": {
    "tags": []
   },
   "outputs": [],
   "source": [
    "import numpy as np\n",
    "import matplotlib.pyplot as plt"
   ]
  },
  {
   "cell_type": "markdown",
   "id": "1ae6cc17-cef1-4e1b-bdac-f77ee17b624c",
   "metadata": {},
   "source": [
    "## Samples Spaces\n",
    "\n",
    "An **experiment** is any process where the outcome is uncertain. The set of all possible **outcomes** of an experiment is called the **sample space** and is usually denoted by $S$. Classify an experiment by the size of the sample space: finite, countably infinite and uncountably infinite. We usually refer to finite and countably infinite sample spaces as **discrete**, and uncountable sample spaces as **continuous**. Examples of experiments and the corresponding samples spaces are:\n",
    "\n",
    "| Experiment | Sample Space | Type |\n",
    "| :---: | :---: | :---: |\n",
    "| flipping a coin | {H,T} | discrete |\n",
    "| flipping two coins | {HH,HT,TH,TT} | discrete |\n",
    "| rolling a die | {1,2,3,4,5,6} | discrete |\n",
    "| counting points scored in a basketball game | {0,1,2,3,...} | discrete | \n",
    "| measuring the temperature at a specific location | $\\mathbb{R}_{>0}$ | continuous |\n",
    "| throwing a dart at a dartboard of radius $r$ | $D_r$ | continuous |\n",
    "| observe the closing price of a certain stock | $\\mathbb{R}_{>0}$ | continuous |\n",
    "\n",
    "Note: we use the notation H for heads and T for tails when flipping a coin, $\\mathbb{R}_{>0}$ is the set of positive real numbers, and $D_r = \\{ (x,y) : x^2 + y^2 \\leq r^2 \\} \\subset \\mathbb{R}^2$ is the disk of radius $r$."
   ]
  },
  {
   "cell_type": "markdown",
   "id": "2abf5326-2fdd-454e-b45d-37a8412f2e50",
   "metadata": {},
   "source": [
    ":::{seelaso}\n",
    "Check out [Probability and Statistics: The Science of Uncertainty > Chapter 1: Probability Models](http://www.utstat.toronto.edu/mikevans/jeffrosenthal/) for an introduction to probability.\n",
    ":::"
   ]
  },
  {
   "cell_type": "markdown",
   "id": "a5780d5f-4957-4e4b-b3ba-3d22183c0880",
   "metadata": {
    "tags": []
   },
   "source": [
    "## Discrete Probability Models\n",
    "\n",
    "Consider an experiment where the sample space $S$ is discrete. An **event** is any subset $E \\subseteq S$ of the sample space. For example, consider the experiment of flipping two coins. An example of an event $E \\subseteq S$ is to observe heads on the first flip\n",
    "\n",
    "$$\n",
    "E = \\{HH,HT\\}\n",
    "$$\n",
    "\n",
    "The set of events always includes the empty set $\\emptyset$ (the event that nothing happens) and the sample space $S$ (the event that anything happens).\n",
    "\n",
    "**Probability** is the likelihood that something will happen. For example, on a fair coin, the probability of heads is 1/2 or 50%.  In other words, the likelihood of us flipping a head is about half."
   ]
  },
  {
   "cell_type": "markdown",
   "id": "e68076c7-9aa6-44f4-8bb8-af82ad622310",
   "metadata": {},
   "source": [
    "    - To calculate the probabilty, we first need to find the total number of possible outcomes.  For a single coin flip this is 2: either heads or tails.  We then need to find the total number of outcomes in the event we are interested in.  In the case of flipping a head, there is only one event where this happens, so the probability is then 1/2 =0.5.\n",
    "- Independent: two events are independent if the occurence of one has no impact on the occurance of the other. E.g., when flipping a (fair) coin twice, the outcome of the first flip has no impact on the second flip. \n",
    "- Mean: the average or expected value. In terms of a probability distribution, the mean is the long-term average value of the random variable.\n",
    "- Variability: A measure of spread in the data. Large amounts of variability in experiments \"hide\" scientific findings. \n",
    "    - Variance, $\\sigma^2$: A way to measure variability.  A small variance means that the data is tightly clumped together, whereas a large variance means that the data is more spread out. \n",
    "    - Standard deviation: Calculated from variance as $s = \\sqrt{\\sigma^2}$. The standard deviation shows how spread out the data is from the mean.  A small standard deviation means the data is close to the mean, whereas a large standard deviation means the data has a bit of spread away from the mean.  The standard deviation is also sometimes written as just $\\sigma$, with the variance then defined as the square of the standard deviation. "
   ]
  },
  {
   "cell_type": "markdown",
   "id": "b481d06c-51ca-4493-951f-e0e8dfe2621f",
   "metadata": {},
   "source": [
    "## Probability\n",
    "\n",
    "If an experiment can result in any one of $N$ different equally likely outcomes, and if exactly $n$ of these outcomes correspond to event $A$, then the probability of event $A$ is $P(A) = \\frac{n}{N}$. \n",
    "\n",
    "### Example\n",
    "\n",
    "For example, let's toss a fair coin 2 times. Calculate the probability $P(A)$ that at least one tail occurs.\n",
    "\n",
    "Let H represent Heads and T represent Tails. Our event is $\\{HH, HT, TH, TT \\}$.  Since the coin is fair, each outcome is equally likely and we can calculate the probability, $p$, of each outcome as $4p = 1 \\implies p = \\frac{1}{4}.$\n",
    "\n",
    "We want the probability that at least one tail is flipped.  There are 3 outcomes when this occurs $HT, TH, TT$, and so the total probability is $P(A) = \\frac{1}{4} + \\frac{1}{4} + \\frac{1}{4} \\implies P(A) = \\frac{3}{4}.$\n",
    "\n",
    "### Example\n",
    "\n",
    "Suppose three cards are drawn in succession, without replacement, from an ordinary deck of cards.  Calculate the probability $P$ that the first card is a red ace, the second card is a 10 or a jack, and the 3rd card is greater than 3 but less that 7.\n",
    "\n",
    "Solution: \n",
    "\n",
    "$A_1$: First card is red ace.  We can only draw the ace of hearts or diamonds here, so $P(A_1) = \\frac{2}{52}.$\n",
    "\n",
    "$A_2$: Second card is a 10 or a jack. There are 8 total cards we could pick to satisfy this. We can draw the 10 and jack of hearts, diamonds, clubs, or spades.  Since we already drew one card for $A_1$, there are only 51 total cards left, so $P(A_2) = \\frac{8}{51}.$\n",
    "\n",
    "$A_3$: Third card is greater than 3 but less than 7.   There are 12 total cards we can pick to satisfy this.  We can draw the 4, 5, or 6 of hearts, diamonds, clubs, or spades. We have drawn 2 cards already, so there are only 50 cards left, so $P(A_3) = \\frac{12}{50}.$\n",
    "\n",
    "The total probability $P = \\frac{2}{52} \\cdot \\frac{8}{51} \\cdot \\frac{12}{50} = \\frac{8}{5525}.$ \n",
    "\n",
    "Why do we multiply the probabilities here instead of adding them like the previous example? \n",
    "\n",
    "In this example, we are asking about the probability that multiple events will occur, rather than considering a single event like the previous example.  Since these events are independent of each other, we multiply their probabilities together to get the total probability. "
   ]
  },
  {
   "cell_type": "markdown",
   "id": "169e87cc-c463-4602-a03b-eac904780db8",
   "metadata": {},
   "source": [
    "### Random Variable\n",
    "A variable whose value is randomly chosen every time an experiment is performed is called a random variable. Random variables can be discrete (e.g., as in a Bernoulli trial) or continuous, and will associate a real number with each element in the sample. \n",
    "\n",
    "A random variable is often denoted with a capital letter, e.g., $X$, and its value with a lower case, e.g., $x.$  We may sometimes see the notation $P(X=x)$ used to denote the probabilty of the random variable $X$ having the value of $x.$"
   ]
  },
  {
   "cell_type": "markdown",
   "id": "02382902-a993-4a99-b681-fdf9f0dee66b",
   "metadata": {},
   "source": [
    "### Examples\n",
    "1. Discrete random variable: Suppose we are on a production line and sample components until a defect is observed. Let $X$ be a random variable defined by the number of items observed before a defect is found. So, if we sample a non-defect, non-defect, and then a defect, we would have $X=3$. \n",
    "2. Continuous random variable: Let $X$ be the random variable defined by the waiting time, in minutes, between successive clients served at a bank. The random variable $X$ takes on all values $x$ for which $x \\geq 0$.\n",
    "\n",
    "**Remark:** In most application problems, we will be dealing with continuous random variables, as these generally represent measured quantities (e.g., temperature, distance). We will often see discrete random variables when working with count data (e.g., number of 6's rolled on a die)"
   ]
  },
  {
   "cell_type": "markdown",
   "id": "ad052b07-f737-4bb8-9da5-7b82483173b9",
   "metadata": {},
   "source": [
    "## Random Variables\n",
    "\n"
   ]
  },
  {
   "cell_type": "markdown",
   "id": "a536da49-52bc-4d18-9d27-8a1154b1696c",
   "metadata": {},
   "source": [
    "## Density Functions\n",
    "\n",
    "A function $f: \\mathbb{R} \\rightarrow \\mathbb{R}$ is a **density function** if $f(x) \\geq 0$ for all $x \\in \\mathbb{R}$ and $\\displaystyle \\int_{-\\infty}^{\\infty} f(x)dx = 1$.\n",
    "\n",
    "Note that if $f(x)$ is a density function then $a f(a(x - b))$ is also a density function for any $a > 0$ and $b \\in \\mathbb{R}$."
   ]
  },
  {
   "cell_type": "markdown",
   "id": "92ffe1f7-16d6-43eb-be7a-5379a90b8985",
   "metadata": {},
   "source": [
    "## Examples\n",
    "\n",
    "The **uniform density function** is\n",
    "\n",
    "$$\n",
    "f(x) = \\left\\{ \\begin{array}{ccc} 1 & , & 0 \\leq x \\leq 1 \\\\ 0 & , & \\text{otherwise} \\end{array} \\right.\n",
    "$$"
   ]
  },
  {
   "cell_type": "code",
   "execution_count": 12,
   "id": "8d99cc63-1f4f-4f87-a6b7-5af770954bd6",
   "metadata": {
    "tags": []
   },
   "outputs": [
    {
     "data": {
      "image/png": "[encoded data removed]",
      "text/plain": [
       "<Figure size 640x480 with 1 Axes>"
      ]
     },
     "metadata": {},
     "output_type": "display_data"
    }
   ],
   "source": [
    "f = lambda x: np.heaviside(x,1) - np.heaviside(x-1,1)\n",
    "x = np.linspace(-1,2,200)\n",
    "y = f(x)\n",
    "plt.plot(x,y), plt.grid(True), plt.ylim([-0.1,1.1])\n",
    "plt.show()"
   ]
  },
  {
   "cell_type": "markdown",
   "id": "85ed8e52-d230-40bf-9508-1044ed1fc841",
   "metadata": {},
   "source": [
    "The **normal density function** is\n",
    "\n",
    "$$\n",
    "f(x) = \\frac{1}{\\sqrt{2 \\pi}} e^{-x^2/2}\n",
    "$$"
   ]
  },
  {
   "cell_type": "code",
   "execution_count": 13,
   "id": "70f5d0e7-5a88-468f-8937-656c9d51b84d",
   "metadata": {
    "tags": []
   },
   "outputs": [
    {
     "data": {
      "image/png": "[encoded data removed]",
      "text/plain": [
       "<Figure size 640x480 with 1 Axes>"
      ]
     },
     "metadata": {},
     "output_type": "display_data"
    }
   ],
   "source": [
    "f = lambda x: 1/np.sqrt(2*np.pi)*np.exp(-x**2/2)\n",
    "x = np.linspace(-4,4,200)\n",
    "y = f(x)\n",
    "plt.plot(x,y), plt.grid(True), plt.ylim([-0.1,1.1])\n",
    "plt.show()"
   ]
  },
  {
   "cell_type": "markdown",
   "id": "9cb4a80a-f0e3-45be-b146-513081141107",
   "metadata": {},
   "source": [
    "The **exponential density function** is\n",
    "\n",
    "$$\n",
    "f(x) = \\left\\{ \\begin{array}{ccc} e^{-x} & , & x \\geq 0 \\\\ 0 & , & x < 0 \\end{array} \\right.\n",
    "$$"
   ]
  },
  {
   "cell_type": "code",
   "execution_count": null,
   "id": "54d8262e-dc6a-4fd0-b19d-d43499cdcfd5",
   "metadata": {},
   "outputs": [],
   "source": []
  },
  {
   "cell_type": "markdown",
   "id": "15e27a63-c826-4459-ae11-8a4c0000bd00",
   "metadata": {},
   "source": [
    "## Mean and Variance\n",
    "\n",
    "The **mean** of a density function $f(x)$ is\n",
    "\n",
    "$$\n",
    "\\mu = \\int_{-\\infty}^{\\infty} x f(x) dx\n",
    "$$\n",
    "\n",
    "and the **variance** is\n",
    "\n",
    "$$\n",
    "\\sigma^2 = \\int_{-\\infty}^{\\infty} (x - \\mu)^2 f(x) dx\n",
    "$$\n",
    "\n",
    "We interpret the mean as the \"center\" of the density function and the variance is a measure of how spread out the density function is."
   ]
  },
  {
   "cell_type": "markdown",
   "id": "758bdd60-5ffe-4077-b15f-aad770f243e6",
   "metadata": {},
   "source": [
    "## Examples\n",
    "\n",
    "The file `data1.csv` contains daily average temperatures from November 27, 1995 to April 13, 2023."
   ]
  },
  {
   "cell_type": "code",
   "execution_count": 2,
   "id": "124a64dd-7c7e-4657-9fb0-7e3006bfc803",
   "metadata": {
    "tags": []
   },
   "outputs": [],
   "source": [
    "temp = np.loadtxt('data1.csv')"
   ]
  },
  {
   "cell_type": "code",
   "execution_count": 3,
   "id": "e5917093-e294-4d57-890b-a3baa45de9e6",
   "metadata": {
    "tags": []
   },
   "outputs": [
    {
     "data": {
      "image/png": "[encoded data removed]",
      "text/plain": [
       "<Figure size 640x480 with 1 Axes>"
      ]
     },
     "metadata": {},
     "output_type": "display_data"
    }
   ],
   "source": [
    "vals,bins,_ = plt.hist(temp,bins=50,density=True)"
   ]
  },
  {
   "cell_type": "code",
   "execution_count": 1,
   "id": "3b25c3ec-a41e-4dd2-88d5-b00e9591aad8",
   "metadata": {
    "tags": []
   },
   "outputs": [],
   "source": [
    "import numpy as np\n",
    "import matplotlib.pyplot as plt"
   ]
  },
  {
   "cell_type": "code",
   "execution_count": 32,
   "id": "4a3fd821-c729-404d-a627-ec9b26a35bd8",
   "metadata": {
    "tags": []
   },
   "outputs": [
    {
     "data": {
      "image/png": "[encoded data removed]",
      "text/plain": [
       "<Figure size 640x480 with 1 Axes>"
      ]
     },
     "metadata": {},
     "output_type": "display_data"
    }
   ],
   "source": [
    "n = 10000\n",
    "X = np.random.randint(1,7,n)*np.random.randint(1,7,n)\n",
    "counts,bins,_ = plt.hist(X,bins=range(1,37),density=True)\n",
    "plt.grid(True)\n",
    "plt.show()"
   ]
  },
  {
   "cell_type": "code",
   "execution_count": 41,
   "id": "7e6e1128-74b7-4e18-83e7-85357c03941d",
   "metadata": {
    "tags": []
   },
   "outputs": [
    {
     "data": {
      "image/png": "[encoded data removed]",
      "text/plain": [
       "<Figure size 640x480 with 1 Axes>"
      ]
     },
     "metadata": {},
     "output_type": "display_data"
    }
   ],
   "source": [
    "n = 10000\n",
    "X = np.sqrt(np.random.uniform(-1,1,n)**2 + np.random.uniform(-1,1,n)**2)\n",
    "counts,bins,_ = plt.hist(X,bins=50,density=True)\n",
    "plt.grid(True)\n",
    "plt.show()"
   ]
  },
  {
   "cell_type": "code",
   "execution_count": 38,
   "id": "45930db0-0a20-4b5b-bba4-5f53890d37a8",
   "metadata": {
    "tags": []
   },
   "outputs": [
    {
     "data": {
      "text/plain": [
       "\u001b[0;31mDocstring:\u001b[0m\n",
       "uniform(low=0.0, high=1.0, size=None)\n",
       "\n",
       "Draw samples from a uniform distribution.\n",
       "\n",
       "Samples are uniformly distributed over the half-open interval\n",
       "``[low, high)`` (includes low, but excludes high).  In other words,\n",
       "any value within the given interval is equally likely to be drawn\n",
       "by `uniform`.\n",
       "\n",
       ".. note::\n",
       "    New code should use the `~numpy.random.Generator.uniform`\n",
       "    method of a `~numpy.random.Generator` instance instead;\n",
       "    please see the :ref:`random-quick-start`.\n",
       "\n",
       "Parameters\n",
       "----------\n",
       "low : float or array_like of floats, optional\n",
       "    Lower boundary of the output interval.  All values generated will be\n",
       "    greater than or equal to low.  The default value is 0.\n",
       "high : float or array_like of floats\n",
       "    Upper boundary of the output interval.  All values generated will be\n",
       "    less than or equal to high.  The high limit may be included in the \n",
       "    returned array of floats due to floating-point rounding in the \n",
       "    equation ``low + (high-low) * random_sample()``.  The default value \n",
       "    is 1.0.\n",
       "size : int or tuple of ints, optional\n",
       "    Output shape.  If the given shape is, e.g., ``(m, n, k)``, then\n",
       "    ``m * n * k`` samples are drawn.  If size is ``None`` (default),\n",
       "    a single value is returned if ``low`` and ``high`` are both scalars.\n",
       "    Otherwise, ``np.broadcast(low, high).size`` samples are drawn.\n",
       "\n",
       "Returns\n",
       "-------\n",
       "out : ndarray or scalar\n",
       "    Drawn samples from the parameterized uniform distribution.\n",
       "\n",
       "See Also\n",
       "--------\n",
       "randint : Discrete uniform distribution, yielding integers.\n",
       "random_integers : Discrete uniform distribution over the closed\n",
       "                  interval ``[low, high]``.\n",
       "random_sample : Floats uniformly distributed over ``[0, 1)``.\n",
       "random : Alias for `random_sample`.\n",
       "rand : Convenience function that accepts dimensions as input, e.g.,\n",
       "       ``rand(2,2)`` would generate a 2-by-2 array of floats,\n",
       "       uniformly distributed over ``[0, 1)``.\n",
       "random.Generator.uniform: which should be used for new code.\n",
       "\n",
       "Notes\n",
       "-----\n",
       "The probability density function of the uniform distribution is\n",
       "\n",
       ".. math:: p(x) = \\frac{1}{b - a}\n",
       "\n",
       "anywhere within the interval ``[a, b)``, and zero elsewhere.\n",
       "\n",
       "When ``high`` == ``low``, values of ``low`` will be returned.\n",
       "If ``high`` < ``low``, the results are officially undefined\n",
       "and may eventually raise an error, i.e. do not rely on this\n",
       "function to behave when passed arguments satisfying that\n",
       "inequality condition. The ``high`` limit may be included in the\n",
       "returned array of floats due to floating-point rounding in the\n",
       "equation ``low + (high-low) * random_sample()``. For example:\n",
       "\n",
       ">>> x = np.float32(5*0.99999999)\n",
       ">>> x\n",
       "5.0\n",
       "\n",
       "\n",
       "Examples\n",
       "--------\n",
       "Draw samples from the distribution:\n",
       "\n",
       ">>> s = np.random.uniform(-1,0,1000)\n",
       "\n",
       "All values are within the given interval:\n",
       "\n",
       ">>> np.all(s >= -1)\n",
       "True\n",
       ">>> np.all(s < 0)\n",
       "True\n",
       "\n",
       "Display the histogram of the samples, along with the\n",
       "probability density function:\n",
       "\n",
       ">>> import matplotlib.pyplot as plt\n",
       ">>> count, bins, ignored = plt.hist(s, 15, density=True)\n",
       ">>> plt.plot(bins, np.ones_like(bins), linewidth=2, color='r')\n",
       ">>> plt.show()\n",
       "\u001b[0;31mType:\u001b[0m      builtin_function_or_method"
      ]
     },
     "metadata": {},
     "output_type": "display_data"
    }
   ],
   "source": [
    "np.random.uniform?"
   ]
  },
  {
   "cell_type": "code",
   "execution_count": null,
   "id": "9ce388cf-85f0-4dd8-8c0f-808af745c524",
   "metadata": {},
   "outputs": [],
   "source": []
  }
 ],
 "metadata": {
  "kernelspec": {
   "display_name": "Python 3 (ipykernel)",
   "language": "python",
   "name": "python3"
  },
  "language_info": {
   "codemirror_mode": {
    "name": "ipython",
    "version": 3
   },
   "file_extension": ".py",
   "mimetype": "text/x-python",
   "name": "python",
   "nbconvert_exporter": "python",
   "pygments_lexer": "ipython3",
   "version": "3.10.12"
  }
 },
 "nbformat": 4,
 "nbformat_minor": 5
}
