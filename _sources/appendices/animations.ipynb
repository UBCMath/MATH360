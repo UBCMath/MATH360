{
 "cells": [
  {
   "cell_type": "markdown",
   "id": "5bfc26aa-d6ee-4589-b79c-cb1816380234",
   "metadata": {},
   "source": [
    "# Matplotlib Animations"
   ]
  },
  {
   "cell_type": "markdown",
   "id": "381aa042-2236-4c8c-b3a1-fa526be77d48",
   "metadata": {},
   "source": [
    "*Under constuction*"
   ]
  },
  {
   "cell_type": "markdown",
   "id": "02e57e58-b225-45cf-aefa-423f987f89ed",
   "metadata": {
    "tags": []
   },
   "source": [
    "```\n",
    "import numpy as np\n",
    "import scipy.integrate as spi\n",
    "import matplotlib.pyplot as plt\n",
    "from matplotlib import animation\n",
    "from IPython.display import Video\n",
    "\n",
    "tf = 20; fps = 20; num = tf*fps;\n",
    "t = np.linspace(0,tf,num)\n",
    "m = 1; c = 0.1; k = 1; w = 5;\n",
    "F = lambda t: np.cos(w*t)\n",
    "f = lambda u,t: np.array([u[1],(F(t) - c*u[1] - k*u[0])/m])\n",
    "u0 = [0,0]\n",
    "u = spi.odeint(f,u0,t)\n",
    "A = np.max(np.abs(u[:,0]))\n",
    "\n",
    "fig = plt.figure()\n",
    "plt.xlim([-A,A]),plt.ylim(-1,1)\n",
    "alllines = []\n",
    "\n",
    "for n in range(num):\n",
    "    lines = plt.plot([0,u[n,0]],[0,0],'b.-')\n",
    "    alllines.append(lines)\n",
    "\n",
    "anim = animation.ArtistAnimation(fig,alllines)\n",
    "anim.save('ex.mp4',fps=fps)\n",
    "plt.close()\n",
    "\n",
    "Video(\"ex.mp4\")\n",
    "```"
   ]
  }
 ],
 "metadata": {
  "kernelspec": {
   "display_name": "Python 3 (ipykernel)",
   "language": "python",
   "name": "python3"
  },
  "language_info": {
   "codemirror_mode": {
    "name": "ipython",
    "version": 3
   },
   "file_extension": ".py",
   "mimetype": "text/x-python",
   "name": "python",
   "nbconvert_exporter": "python",
   "pygments_lexer": "ipython3",
   "version": "3.10.12"
  }
 },
 "nbformat": 4,
 "nbformat_minor": 5
}
