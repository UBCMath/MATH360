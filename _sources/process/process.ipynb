{
 "cells": [
  {
   "cell_type": "markdown",
   "id": "afca12e9-2934-4024-b175-601edeea3f67",
   "metadata": {},
   "source": [
    "# Modelling Process"
   ]
  },
  {
   "cell_type": "code",
   "execution_count": 1,
   "id": "562c3c8b-3091-4ad0-91a2-6dbf1b26edc8",
   "metadata": {
    "tags": []
   },
   "outputs": [],
   "source": [
    "import numpy as np\n",
    "import matplotlib.pyplot as plt"
   ]
  },
  {
   "cell_type": "markdown",
   "id": "9b1261b0-1a3c-478b-9c2c-62b95536fa31",
   "metadata": {},
   "source": [
    "## Steps in the Process\n",
    "\n",
    "The math modelling process consists of 6 main steps:\n",
    "\n",
    "1. Identify the problem\n",
    "2. Define variables and parameters\n",
    "3. Make assumptions and identify constraints\n",
    "4. Build solutions\n",
    "5. Analyze and assess the model\n",
    "6. Report results"
   ]
  },
  {
   "cell_type": "markdown",
   "id": "4c35a964-b806-4812-8973-5da74a566aaa",
   "metadata": {},
   "source": [
    "## Identify the Problem\n",
    "\n",
    "Modelling problems are often open-ended in the sense that there are many different solutions, different levels of complexity, different tools that can ne applied and it's up to us to decide how to proceed. It's a challenge even to know where to start! To be able to begin the modelling process, we need to refine the problem to be more specific. This often takes the form of a specific research question.\n",
    "\n",
    "For example, it is too broad to say \"We want to model a lithium ion battery\". It is not clear where to start or what the goal is. A more specific question we could model is: \"What is the optimal form of the relationship that describes electrode kinetics?\".\n",
    "\n",
    "And sometimes the question is also too broad: \"How does a sensor behave when it is placed in an electrolyte?\". Here, it is not clear exactly what we would be modelling or trying to taking into account.  A better problem statement is \"What are the effects on capacitance in a sensor if the dielectric constant of the adjacent electrolyte depends on the ion concentration?\"."
   ]
  },
  {
   "cell_type": "markdown",
   "id": "fb75bb46-4748-462b-90bf-0d8fa0ed6795",
   "metadata": {},
   "source": [
    "## Variables and Parameters\n",
    "\n",
    "Real-world phenonema is very difficult to model because there are numerous variables and factors that are not controlled. We often cannot account for all of the components of the problem, and so we need to make choices about what is appropriate to include in the model. \n",
    "\n",
    "For variables, these are often related to the problem statement.  In the case of the sensor described in 1, the variables are capacitance, voltage, (electric) potential, and time. (Here, there are a host of parameter values as well)."
   ]
  },
  {
   "cell_type": "markdown",
   "id": "a3411c60-b140-473e-957a-867f20c02979",
   "metadata": {},
   "source": [
    "## Assumptions and Constraints\n",
    "\n",
    "Assumptions help us reduce the complexity of the model, and can help inform what variables we need to include.  There are often assumptions in each research field which are typical to make.\n",
    "\n",
    "For both examples in 1 above, one assumption that is made is that the materials used to construct the battery and the sensor are homogeneous.  This means that they have a uniform consistency with no defects.  In practice, this is certainly not true, as defects can easily make their way into the manufacturing process.  \n",
    "\n",
    "One specific example: Sensors often contain an oxide layer (usually silicon dioxide, SiO$_2$, and more recently tantalum pentoxide, Ta$_2$O$_5$) to help regulate the current through the sensor.  Creating an oxide if a very poorly controlled process and it is very common to have other molecules in the oxide layer that are not e.g., silicon or oxygen. \n",
    "\n",
    "Here, we also want to identify key relationships between variables.  These usually take the form of physical laws and/or governing equations\n",
    "\n",
    "For example, capacitance is defined to be the derivative of the charge density with respect to the potential $C = \\frac{d \\sigma}{d \\phi}.$ \n",
    "        - We also have well-known results from Electricity and Magnetism, Thermodynamics, and Particle Physics that can be leveraged here; namely, Gauss' Law, Poisson's Equation, the Boltzmann Distibution, and the Poisson-Boltzmann Equation.\n",
    "        - Notice here the different areas we are pulling relationships from!\n",
    "\n",
    "When defining your variables, it can also be helpful to determine the input variables and the output variables.\n",
    "    - E.g., We can define voltage and time as inputs, and Capacitance as an output. "
   ]
  },
  {
   "cell_type": "markdown",
   "id": "0d84457f-af5c-45d3-82e7-4aad750fc5ac",
   "metadata": {},
   "source": [
    "## Build Solutions\n",
    "\n",
    "Once we have combined our problem, assumptions, variables, and relationships together, we will reach a point where we can leverage our math tools to find a solution to the problem."
   ]
  },
  {
   "cell_type": "markdown",
   "id": "ffb17192-09f7-4ef4-8917-1fdbe9c84fc8",
   "metadata": {},
   "source": [
    "## Analyze and Assess\n",
    "\n",
    "Just because we can find a solution, does NOT mean that this is a meaningful result.  We need to interpret the solution to see if it makes sense given the context of the problem. We will want to ask ourselves:\n",
    "\n",
    "* Does the solution make sense in the context of the problem?\n",
    "* Does the soltuion answer our problem statement?\n",
    "* Are the results we obtained reasonable and practical?\n",
    "\n",
    "If it does not make sense, then we need to critically analyze the process.  Perhaps there is an algebraic error in the solution, perhaps an input is incorrect, perhaps we made an incorrect assumption. Analyzing and assessing the solution can be a difficult and tedius process."
   ]
  },
  {
   "cell_type": "markdown",
   "id": "f60c0d70-5bf1-48c1-8327-f64c0fde2101",
   "metadata": {},
   "source": [
    "## Iterate\n",
    "\n",
    "Often the first attempt at modelling and achieving a physically consistent solution is not a refined solution.  Iterating over the process allows us to clarify our process and (hopefully) improve the performance of the model."
   ]
  },
  {
   "cell_type": "markdown",
   "id": "190637b3-cfd7-4705-b844-fa95b6c36de7",
   "metadata": {},
   "source": [
    "## Report Results\n",
    "\n",
    "The last step is to then share the results of our modelling efforts.  We need to construct a clear and concise report of the model and how we implemented the model in our work.  This report is how we share our findings with our research community and make contributions to the research area. "
   ]
  },
  {
   "cell_type": "markdown",
   "id": "0d948ee7-a665-4005-bb7c-6c225d193c99",
   "metadata": {},
   "source": [
    "## Example\n",
    "\n",
    "Gas prices change on a nearly daily basis, and not every gas station offers the same price for a litre of gas. The gas station selling the cheapest gas may be across town from where you are driving. Is it worth the drive across town for less expensive gas? Create a mathematical model that can be used to help understand under what conditions it is worth the drive."
   ]
  },
  {
   "cell_type": "markdown",
   "id": "3c2ecb51-dfd5-4b75-a900-5e691cd8d48b",
   "metadata": {},
   "source": [
    "**Step 1: Identify the Problem**\n",
    "\n",
    "This may feel like we have been given a very broad problem.\n",
    "\n",
    "We first want to take the context here and turn it into a problem we can solve. We want to determine if it is more advantageous to buy gas at a station already on our route or should we go to a different gas station that is out of our way but has a cheaper price.\n",
    "\n",
    "Problem: Which is the cheaper cost? Buying gas at the station on our route or going out of our way to a station that has a cheaper price."
   ]
  },
  {
   "cell_type": "markdown",
   "id": "9e19dae2-3950-4a12-b7ab-1a81b1b0a60e",
   "metadata": {},
   "source": [
    "**Step 2: Make Assumptions and Identify Variables**\n",
    "\n",
    "### Step 2a: Define Variables and Parameters\n",
    "\n",
    "Variables:\n",
    "- Let $k$ be the number of kilometres between the convenient gas station (\"Station A\") and the out-of-the-way station (\"Station B\")\n",
    "- Let $P_A$ be the price of gas at Station A in dollars per litre\n",
    "- Let $P_B$ be the price of gas at Station B in dollars per litre\n",
    "- Let $S$ be the difference in cost between buying gas at Station B vs Station A in dollars\n",
    "    - here we are NOT including travel costs in $S$\n",
    "- Let $T$ be the cost to travel to and from Station B from Station A (i.e., a round trip from Station A to Station B)\n",
    "\n",
    "Fixed Variables:\n",
    "- Let $n$ be the number of litres of gas we buy\n",
    "- Let $f_e$ be the fuel economy of our vehicle in kilometers per litre\n",
    "\n",
    "Inputs: $k, P_A, P_B, n, f_e$\n",
    "\n",
    "Outputs: $S, T$\n",
    "\n",
    "### Step 2b: Identify Assumptions and Constraints\n",
    "Assumptions:\n",
    "- There is a station out of our way that has cheaper gas\n",
    "- We will buy a fixed amount of gas (is this realistic?)\n",
    "- The car has a constant fuel economy\n",
    "\n",
    "Notes:\n",
    "- We will need to consider the added \"cost\" of the distance between the convenient gas station and the out-of-the-way station.\n",
    "\n",
    "Relationships:\n",
    "\\begin{align*}\n",
    "S & = \\left(P_A - P_B\\right)n \\\\\n",
    "T & = \\dfrac{2kP_B}{f_e}\n",
    "\\end{align*}\n",
    "\n",
    "If $S>T$, then it is advantageous to go to Station B.  If $S\\leq T$, then we should just go to Station A. "
   ]
  },
  {
   "cell_type": "markdown",
   "id": "2c20907e-0dfc-4619-8f6e-77407525a112",
   "metadata": {},
   "source": [
    "### Step 3: Do the Math\n",
    "\n",
    "We want to find the values for which $S=T$ or $\\left(P_A - P_B\\right)n=\\dfrac{2kP_B}{f_e}.$  \n",
    "\n",
    "In our model, we will have known values for $P_B$, $P_A$, $n$.  If we rearrange to find the distance $k$ that makes $S=T$, we can then compare this with the actual distance between Station A and Station B to determine which scenario is optimal.  So we want to find $k = \\dfrac{f_e\\left(P_A - P_B\\right)n}{2P_B}$\n",
    "\n",
    "Some values: \n",
    "- $P_B = \\$ 1.92$ per litre\n",
    "- $P_A = \\$ 2.01$ per litre\n",
    "- $n = 40$ litres\n",
    "- $f_e = 5$ litres per $100$ km"
   ]
  },
  {
   "cell_type": "code",
   "execution_count": 4,
   "id": "e58135b1-7316-4b9d-a1de-30e85a4f8309",
   "metadata": {},
   "outputs": [
    {
     "name": "stdout",
     "output_type": "stream",
     "text": [
      "Break even distance between Station A and B is 18.74999999999997 km\n"
     ]
    }
   ],
   "source": [
    "P_B = 1.92\n",
    "P_A = 2.01\n",
    "n = 40\n",
    "f_e = 100/5\n",
    "\n",
    "k = f_e * ((P_A-P_B)*n)/(2*P_B) \n",
    "\n",
    "print(\"Break even distance between Station A and B is\", k, \"km\")"
   ]
  },
  {
   "cell_type": "markdown",
   "id": "0ecfebe4-a735-4938-8ad3-15899993217b",
   "metadata": {},
   "source": [
    "Under these conditions, if Station B is less than 18.75km away, then it is worth the trip, but if it is farther than 18.75km, then we should buy gas at Station A. "
   ]
  },
  {
   "cell_type": "markdown",
   "id": "f7ba6be8-9fb1-4a24-ac11-fbb0552ecdf7",
   "metadata": {},
   "source": [
    "### Step 4: Analyze and Assess the Solution\n",
    "\n",
    "Does this model do a good job?\n",
    "\n",
    "Some diagnostic questions:\n",
    "- Does the sign of the answer make sense? \n",
    "- Does the magnitude of the answer seem reasonable?\n",
    "- Does the model change appropriately if we increase/decrease the input variables? \n",
    "- Are we correctly accounting for the distance between the Stations?\n",
    "\n",
    "Other questions to consider:\n",
    "- Are the assumptions reasonable and defensible?\n",
    "- Are the assumptions relevant?\n",
    "- Is the model explained by our assumptions or do we need to enforce more assumptions?\n",
    "- Are our assumptions correct? \n",
    "- Are our results scenario dependent? (i.e., do our results change a lot or a little when we make a small change in the scenario?)"
   ]
  },
  {
   "cell_type": "markdown",
   "id": "6a9ce4e9-0cbd-4bf9-bc06-666439ad50f5",
   "metadata": {},
   "source": [
    "### Step 5: Iterate\n",
    "This step is often tied to Step 4, where we can make improvements to the model based on our critical analysis. \n",
    "\n",
    "Suppose in 4, we find out that we are incorrectly calculating the distance between Station A and Station B.  We do not want the total distance between Station A and Station B, but rather the distance \"out-of-the-way\" or in other words, how far off our planned route we need to deviate to go to Station B.\n",
    "\n",
    "Let's introduce a new variable $d_s$, which will account for the shared distance between Station A and Station B. This is the portion of the distance we will already travel (in the direction of Station B from Station A) on our planned route.\n",
    "\n",
    "Suppose $d_s = 5.7$km for our scenario.\n",
    "\n",
    "Then the distance we want to find is $d_t = k-d_s$, where $d_t$ is the total distance out-of-our-way."
   ]
  },
  {
   "cell_type": "code",
   "execution_count": 5,
   "id": "f16f5a30-2b55-451a-954f-f813e6b28496",
   "metadata": {
    "tags": []
   },
   "outputs": [
    {
     "name": "stdout",
     "output_type": "stream",
     "text": [
      "Break even distance between Station A and B is 13.049999999999972 km\n"
     ]
    }
   ],
   "source": [
    "d_s = 5.7 \n",
    "\n",
    "d_t = k-d_s\n",
    "\n",
    "print(\"Break even distance between Station A and B is\", d_t, \"km\")"
   ]
  },
  {
   "cell_type": "markdown",
   "id": "8804a587-9722-4423-bb54-808beff3aa11",
   "metadata": {},
   "source": [
    "Our revised condition is 13 km!"
   ]
  },
  {
   "cell_type": "markdown",
   "id": "a25a43b9-2454-4230-9486-02336b05fa52",
   "metadata": {},
   "source": [
    "### Step 6: Implement the Model and Report Results\n",
    "\n",
    "Now that we have completed the first 5 components of the process, we now want to prepare a report to share our results.  The report should contain a detailed description of:\n",
    "- the problem\n",
    "- the assumptions\n",
    "- the variables\n",
    "- the values used in calculations\n",
    "- any relevant plots/diagrams\n",
    "- any conclusions drawn from the analysis"
   ]
  },
  {
   "cell_type": "markdown",
   "id": "6e1944f5-aaf2-4569-8459-25a77ac6a743",
   "metadata": {},
   "source": [
    "Remark: Here, we may also want to consider the driver's preference.  For some drivers, they will not want to drive significantly out of their way to save a minimal amount of money.  Some will be okay with paying more for the convenience factor.  A more complex model may want to look at how this aspect influence the model."
   ]
  }
 ],
 "metadata": {
  "kernelspec": {
   "display_name": "Python 3 (ipykernel)",
   "language": "python",
   "name": "python3"
  },
  "language_info": {
   "codemirror_mode": {
    "name": "ipython",
    "version": 3
   },
   "file_extension": ".py",
   "mimetype": "text/x-python",
   "name": "python",
   "nbconvert_exporter": "python",
   "pygments_lexer": "ipython3",
   "version": "3.10.12"
  }
 },
 "nbformat": 4,
 "nbformat_minor": 5
}
