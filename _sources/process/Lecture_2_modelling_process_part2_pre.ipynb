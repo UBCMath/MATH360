{
 "cells": [
  {
   "cell_type": "markdown",
   "id": "e33278d0-4f35-4d64-a263-1538bd869411",
   "metadata": {},
   "source": [
    "# The Modelling Process\n",
    "\n",
    "### Last Class\n",
    "* Course overview and expectations\n",
    "* Introduction to mathematical modelling\n",
    "\n",
    "### Goals for Today\n",
    "* Define the modelling process and the steps needed to produce a mathematical model\n",
    "* Anaylze models using the modelling process"
   ]
  },
  {
   "cell_type": "markdown",
   "id": "fce1ec2a-5473-41cc-8599-12958d723c02",
   "metadata": {},
   "source": [
    "### Pre-Lecture Activities\n",
    "\n",
    "- Read: The overview of the math modelling process from the society for Instustrial and Applied Math, [SIAM](https://m3challenge.siam.org/resources/whatismathmodeling#:~:text=Mathematical%20modeling%20refers%20to%20the,creation%20of%20a%20mathematical%20relationship. \"SIAM\") and review the Math Modelling poster from [SIAM](https://m3challenge.siam.org/sites/default/files/uploads/What_is_Modelingflyer_3-19.pdf \"SIAM\")\n",
    "\n",
    "### Check your understanding questions\n",
    "\n",
    "1. What are the 6 steps in the math modelling process?  \n",
    "2. Mathematicians are sometimes tasked with modelling real-world systems.  What difficulties can arise in the modelling process of these problems?     \n",
    "    \n",
    "### Tasks\n",
    "1. Rank the 6 steps from 1 to 6, with 1 being the most difficult and 6 being the least difficult.  \n",
    "    - Does your order align with the order of the components? \n",
    "    - What makes point 1 the most difficult? What makes point 6 the least difficult?\n",
    "    - Do you think your ranking would change depending on the modelling context?\n",
    "2.  Submit your answer to Q1 under Tasks to Canvas. \n",
    "\n",
    "\n",
    "**End of Pre-lecture Material**"
   ]
  },
  {
   "cell_type": "markdown",
   "id": "fcb571bc-e6da-4a1c-bd94-09a8027e5469",
   "metadata": {},
   "source": [
    "### Mathematical Modelling Process"
   ]
  },
  {
   "cell_type": "code",
   "execution_count": 3,
   "id": "1ebb3174-8542-418f-ad68-cd2bfcc7ea00",
   "metadata": {
    "tags": []
   },
   "outputs": [
    {
     "name": "stdout",
     "output_type": "stream",
     "text": [
      "packages imported\n"
     ]
    }
   ],
   "source": [
    "#import packages\n",
    "import numpy as np\n",
    "import matplotlib.pyplot as plt\n",
    "%matplotlib inline\n",
    "\n",
    "print(\"packages imported\")"
   ]
  },
  {
   "cell_type": "markdown",
   "id": "c982432c-9218-4386-a6ab-6aa5451f5320",
   "metadata": {},
   "source": [
    "### Pair and Share"
   ]
  },
  {
   "cell_type": "markdown",
   "id": "0d948ee7-a665-4005-bb7c-6c225d193c99",
   "metadata": {},
   "source": [
    "### Example - SIAM problem\n",
    "\n",
    "Gas prices change on a nearly daily basis, and not every gas station offers the same price for a litre of gas. The gas station selling the cheapest gas may be across town from where you are driving. "
   ]
  },
  {
   "cell_type": "markdown",
   "id": "3c2ecb51-dfd5-4b75-a900-5e691cd8d48b",
   "metadata": {},
   "source": [
    "### Step 1: Identify the Problem"
   ]
  },
  {
   "cell_type": "markdown",
   "id": "9e19dae2-3950-4a12-b7ab-1a81b1b0a60e",
   "metadata": {},
   "source": [
    "### Step 2: Make Assumptions and Identify Variables\n",
    "\n",
    "### Step 2a: Define Variables and Parameters\n",
    "\n",
    "\n",
    "### Step 2b: Identify Assumptions and Constraints\n"
   ]
  },
  {
   "cell_type": "markdown",
   "id": "2c20907e-0dfc-4619-8f6e-77407525a112",
   "metadata": {},
   "source": [
    "### Step 3: Do the Math"
   ]
  },
  {
   "cell_type": "markdown",
   "id": "f7ba6be8-9fb1-4a24-ac11-fbb0552ecdf7",
   "metadata": {},
   "source": [
    "### Step 4: Analyze and Assess the Solution\n"
   ]
  },
  {
   "cell_type": "markdown",
   "id": "6a9ce4e9-0cbd-4bf9-bc06-666439ad50f5",
   "metadata": {},
   "source": [
    "### Step 5: Iterate"
   ]
  },
  {
   "cell_type": "markdown",
   "id": "a25a43b9-2454-4230-9486-02336b05fa52",
   "metadata": {},
   "source": [
    "### Step 6: Implement the Model and Report Results"
   ]
  },
  {
   "cell_type": "markdown",
   "id": "fdcd2027-93da-4799-8226-0f756f01351c",
   "metadata": {},
   "source": [
    "### Group Activity\n",
    "\n",
    "In groups of 4-6, consider the following scenario:\n",
    "\n",
    "You and your group are on a ski trip together in the mountains.  Just after arriving to your log cabin you get stuck in a snow storm that lasts a few days.\n",
    "\n",
    "When the storm is over, you open the cabin door and realize that there is 2 metres of snow outside.  Unfortunately, you can only leave the cabin when the snow depth is 0.5 metres or less.  How long will you and your group be stuck in the cabin.\n",
    "\n",
    "You and your group know the following information:\n",
    "- Snow is constantly falling with a rate of $s$ metres per day\n",
    "- Snow has just started to melt and the melting rate is linearly increasing by $m$ metres per day per day (i.e., units of m/(day)$^2$)\n",
    "- Meltwater runs down the mountain (lowering the snow depth in front of your cabin), however 50% of the melted snow per day refreezes at the site. \n"
   ]
  },
  {
   "cell_type": "code",
   "execution_count": null,
   "id": "746ce687-c8da-4a54-9e2a-504c1f3529d1",
   "metadata": {},
   "outputs": [],
   "source": []
  }
 ],
 "metadata": {
  "kernelspec": {
   "display_name": "Python 3 (ipykernel)",
   "language": "python",
   "name": "python3"
  },
  "language_info": {
   "codemirror_mode": {
    "name": "ipython",
    "version": 3
   },
   "file_extension": ".py",
   "mimetype": "text/x-python",
   "name": "python",
   "nbconvert_exporter": "python",
   "pygments_lexer": "ipython3",
   "version": "3.10.12"
  }
 },
 "nbformat": 4,
 "nbformat_minor": 5
}
