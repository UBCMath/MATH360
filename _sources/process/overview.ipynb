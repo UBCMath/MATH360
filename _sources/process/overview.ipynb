{
 "cells": [
  {
   "cell_type": "markdown",
   "id": "e33278d0-4f35-4d64-a263-1538bd869411",
   "metadata": {},
   "source": [
    "# Overview"
   ]
  },
  {
   "cell_type": "markdown",
   "id": "fce1ec2a-5473-41cc-8599-12958d723c02",
   "metadata": {},
   "source": [
    "## What is a Mathematical Model?\n",
    "\n",
    "A **mathematical model** is a mathematical representation of a system used to make predictions and provide insight about a real-world scenario. **Mathematical modelling** is the process of constructing, simulating and evaluating a mathematical model.\n",
    "\n",
    "A mathematical model could be take many different forms such as:\n",
    "\n",
    "* an explicit **function** $y = f(x)$ which computes an output $y$ from an input variable $x$\n",
    "* a set of **differential equations**\n",
    "* a **probability distribution**\n",
    "* a function $y = f(x; \\theta)$ with **parameters** $\\theta$ computed to fit come observed data\n",
    "\n",
    "Why do we construct mathematical models?\n",
    "\n",
    "* Observation/Insight/Introspection\n",
    "* Simulation\n",
    "* Prediction\n",
    "\n",
    "Modelling is a tool that is leveraged by many research fields to aid in observation analysis and make predictions about future scenarios.  It can often be costly to conduct experiments under multiple different settings, so leveraging a mathematical modelling is a way to try to predict what would happen under a given set-up and to identify which experimental set-ups would be a higher priority to pursue.\n",
    "\n",
    "Models can have a wide range of complexity! More complex does not necessarily mean better -- we can sometimes work with more simplistic models to achieve good results.  In many instances, we often start with models that do not have a lot of complexity included and \"build the model up\" until we arrive at a model that had a good balance of complexity and accounting for the observed phenonema.\n",
    "\n",
    ":::{seealso}\n",
    "Check out the following resources to get started with mathematical modelling:\n",
    "* *Chapter 1: What is Mathematical Modelling?* in [Principles of Mathematical Modeling](https://www.sciencedirect.com/book/9780122265518/principles-of-mathematical-modeling) by Dym\n",
    "* [Math Modeling: Getting Started and Getting Solutions](https://m3challenge.siam.org/resources/modeling-handbook) by Bliss, Fowler and Galluzzo\n",
    "* [What is Math Modeling?](https://www.youtube.com/watch?v=_1BFNNvg2ec&list=PLf_ipOSbWC87nFTi6MaB4begv56yPKsOJ) by the Society for Industrial and Applied Mathematics (SIAM)\n",
    "* [Wikipedia: Mathematical Model](https://en.wikipedia.org/wiki/Mathematical_model)\n",
    ":::"
   ]
  },
  {
   "cell_type": "markdown",
   "id": "b5a874f8-5842-429f-baba-a513e5ab0c24",
   "metadata": {},
   "source": [
    "## Types of Models\n",
    "\n",
    "**Deterministic models** predict future based on current information and do not include randomness. These kinds of models often take the from of systems of differential equations.\n",
    "\n",
    "**Stochastic models** include randomness and are based on probability distributions.\n",
    "\n",
    "**Data-driven models** look for patterns in observed data to predict the output of a system."
   ]
  },
  {
   "cell_type": "markdown",
   "id": "d7006caf-6324-4ff1-927d-37a8d21ab184",
   "metadata": {},
   "source": [
    "## Components of a Model \n",
    "\n",
    "Mathematical models consist of a variety of components, and not all models contain the same pieces.  Some common building blocks of mathematical models are:\n",
    "- variables\n",
    "    - quantities we either do not know the value of\n",
    "- constants\n",
    "    - quantities we know the value of (this may be measured from experiements or come from data)\n",
    "- calibration parameters\n",
    "    - quantities that we can use as \"tuning\" parameters where the value can be varied to help with model fitting\n",
    "- inputs \n",
    "    - quantities we put in to the model\n",
    "- outputs\n",
    "    - quantities we extract from the model\n",
    "- data\n",
    "    - information from observed scenarios\n",
    "- noise\n",
    "    - a measure of \"error\" which may come from inaccurate measurements, inaccurate modelling, numerical implementation, etc\n",
    "- random parameters\n",
    "    - a parameter that has \"randomness\", meaning that it may take on different values in each iteration (we will talk more about this when we arrive at Stochastic Models)\n",
    "\n",
    "These building blocks are typically tied to the observations we can make from the scenario we are interested in and what phenomena we would like to make predictions about. "
   ]
  },
  {
   "cell_type": "markdown",
   "id": "709168e7-0296-4b01-916a-d466cbf60eed",
   "metadata": {},
   "source": [
    "## Example: Mixing\n",
    "\n",
    "Let's suppose we have a tank that contains $1500$ L of water and $20$kg of salt.  Fresh water is being poured into the tank at a rate of $15$L/min and the solution drains at a rate of $10$L/min.   Assuming the tank stays perfectly mixed, we can model the rate of change of the mass of salt, $M$, through the differential equation:\n",
    "\n",
    "$$\n",
    "\\begin{align*}\n",
    "\\frac{dM}{dt} & = (\\textrm{rate in} ) - (\\textrm{rate out})\\\\\n",
    "& = 0 \\cdot(15) - \\frac{M}{1500+5t} \\cdot (10) \\\\\n",
    "& = 0 - \\frac{M}{1500+5t} \\cdot (10) \\\\\n",
    "& = - \\frac{10M}{1500+5t}.\n",
    "\\end{align*}\n",
    "$$\n",
    "\n",
    "In this example, we have:\n",
    "- variables of $M$ and $t$\n",
    "- constants of the volume of the tank, the rate of fresh water added, and the rate of solution draining\n",
    "- inputs of the volume of the tank, the rate of fresh water added, and the rate of solution draining, as well as the time $t$\n",
    "- outputs of the mass of salt, as a function of the time."
   ]
  },
  {
   "cell_type": "markdown",
   "id": "8930ca70-9ec2-4411-b23a-26aff8592b91",
   "metadata": {},
   "source": [
    "## Things to Consider\n",
    "\n",
    "1. Dimensions \n",
    "- All models should be consistent with their dimensions. \n",
    "- For example, if we are writing the sum of forces for a system, then all of the terms should have the same force units.\n",
    "2. Complexity\n",
    "- Determining what the focus of the model is drives the modelling process.\n",
    "- What level detail for the model is tied closely to this.\n",
    "- For example, if we are interested in modelling how a rocket is launched, we may not want (or need) to include the drag effects of each individual air molecule.  \n",
    "- This is sometimes refered to as abstraction.\n",
    "3. Scaling\n",
    "- This typically ties in to complexity as well.\n",
    "- Often modellers will talk about the micro scale and the macro scale. \n",
    "- For example, we can consider the particle level to be a micro scale and the rocket as a whole as the macro scale.\n",
    "- It is very difficult to couple both macro and micro scale effects together, as they often have very different magnitudes, timescales, etc.\n",
    "\n",
    "For example, if we look at our mixing problem above, we have:\n",
    "1. Dimensions: the equation has units of kg/min, and if we look at both the left-hand and right-hand sides, the units do match.\n",
    "2. Compexity: we have a first order differential equation which can be solved by the methods of separation of variables. Since we are interested in only tracking the salt concentration and the model directly quantifies this through a conservation of mass relation, we have a good level of complexity.  \n",
    "3. Scaling: we only have one time scale upon which our model equation is built upon."
   ]
  },
  {
   "cell_type": "markdown",
   "id": "ae580a7d-75c1-42c5-ab45-59e9b5abc6f6",
   "metadata": {},
   "source": [
    "### Mathematical Modelling\n",
    "\n",
    "In many real world contexts, distilling a context down in to something that we can model mathematically and then implementing the model can be challenging.  It can be helpful to have a process to guide us in how to work through a mathematical modelling problem.  We will be following the Mathematical Modelling Process outlined by SIAM."
   ]
  },
  {
   "cell_type": "markdown",
   "id": "c6f5b28e-c410-480e-af8e-db2dcd7e07ba",
   "metadata": {},
   "source": [
    "### Mathematical Modelling Process\n",
    "The math modelling process consists of 6 main components.  Today, we will focus on the first component:\n",
    "1. **Identify the Problem** Modelling problems are often open-ended.  To be able to begin the modelling process, we need to refine the problem to be more specific.  This often takes the form of a specific research question.  \n",
    "    - E.g., it is too broad to say \"We want to model a lithium ion battery\".  It is not clear where to start or what contextualization is needed for this.  A more specific question we could model is \"What is the optimal form of the relationship that describes electrode kinetics?\". \n",
    "    - E.g., Sometimes the question is also too broad: \"How does a sensor behave when it is placed in an electrolyte?\".  Here, it is not clear exactly what we would be modelling or trying to taking into account.  A better problem statement is \"What are the effects on capacitance in a sensor if the dielectric constant of the adjacent electrolyte depends on the ion concentration?\"."
   ]
  }
 ],
 "metadata": {
  "kernelspec": {
   "display_name": "Python 3 (ipykernel)",
   "language": "python",
   "name": "python3"
  },
  "language_info": {
   "codemirror_mode": {
    "name": "ipython",
    "version": 3
   },
   "file_extension": ".py",
   "mimetype": "text/x-python",
   "name": "python",
   "nbconvert_exporter": "python",
   "pygments_lexer": "ipython3",
   "version": "3.10.12"
  }
 },
 "nbformat": 4,
 "nbformat_minor": 5
}
