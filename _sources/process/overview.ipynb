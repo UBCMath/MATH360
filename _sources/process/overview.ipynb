{
 "cells": [
  {
   "cell_type": "markdown",
   "id": "fce1ec2a-5473-41cc-8599-12958d723c02",
   "metadata": {},
   "source": [
    "# What is a Mathematical Model?\n",
    "\n",
    "A **mathematical model** is a mathematical representation of a system used to make predictions and provide insight about a real-world scenario, and **mathematical modelling** is the process of constructing, simulating and evaluating mathematical models.\n",
    "\n",
    "Why do we construct mathematical models? It can often be costly (or impossible!) to conduct experiments to study a real-world problem and so a mathematical model is a way to describe the behaviour of system and predict outcomes using mathematical equations and computer simulations.\n",
    "\n",
    "Models can have a wide range of complexity! More complex does not necessarily mean better and we can sometimes work with more simplistic models to achieve good results. In many instances, we often start with a simple model and then build-up the complexity until the model accurately describes the real-world application.\n",
    "\n",
    "There are several kinds of mathematical models:\n",
    "\n",
    "**Deterministic models** predict future based on current information and do not include randomness. These kinds of models often take the from of **systems of differential equations** which describe the evolution of a system over time.\n",
    "\n",
    "**Stochastic models** include randomness and are based on **probability distributions** and **stochastic processes**.\n",
    "\n",
    "**Data-driven models** look for patterns in observed data to predict the output of a system. These kinds of models often take the form of **functions with parameters** computed to fit observed data.\n",
    "\n",
    ":::{seealso}\n",
    "Check out the following resources to get started with mathematical modelling:\n",
    "* *Chapter 1: What is Mathematical Modelling?* in [Principles of Mathematical Modeling](https://www.sciencedirect.com/book/9780122265518/principles-of-mathematical-modeling) by Dym\n",
    "* [What is Math Modeling?](https://www.youtube.com/watch?v=_1BFNNvg2ec&list=PLf_ipOSbWC87nFTi6MaB4begv56yPKsOJ) by the Society for Industrial and Applied Mathematics (SIAM)\n",
    "* [Wikipedia: Mathematical Model](https://en.wikipedia.org/wiki/Mathematical_model)\n",
    ":::"
   ]
  }
 ],
 "metadata": {
  "kernelspec": {
   "display_name": "Python 3 (ipykernel)",
   "language": "python",
   "name": "python3"
  },
  "language_info": {
   "codemirror_mode": {
    "name": "ipython",
    "version": 3
   },
   "file_extension": ".py",
   "mimetype": "text/x-python",
   "name": "python",
   "nbconvert_exporter": "python",
   "pygments_lexer": "ipython3",
   "version": "3.10.12"
  }
 },
 "nbformat": 4,
 "nbformat_minor": 5
}
