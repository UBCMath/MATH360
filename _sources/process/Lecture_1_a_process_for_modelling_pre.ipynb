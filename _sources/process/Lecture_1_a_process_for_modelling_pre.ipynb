{
 "cells": [
  {
   "cell_type": "markdown",
   "id": "e33278d0-4f35-4d64-a263-1538bd869411",
   "metadata": {},
   "source": [
    "# Welcome to Math 360!\n",
    "\n",
    "### Pre-Lecture Activities\n",
    "- Read: the course overview below including the Course Outline and Classroom expectations.  Then read the section below \"What is Math modelling\".\n",
    "- Complete: the Readiness Check.\n",
    "\n",
    "### Course Learning Objectives\n",
    "\n",
    "* Classify and contrast different types of mathematical models\n",
    "* Construct a mathematical model by applying the modelling process\n",
    "* Simulate a mathematical model using mathematical software\n",
    "* Evaluate the effectiveness and accuracy of a mathematical model and its computed solution\n",
    "* Describe quantitative and qualitative properties of a system by interpreting a mathematical model of the system\n",
    "\n",
    "### Goals for Today\n",
    "* Outline Course structure, expectations, and grading scheme\n",
    "* Define the concept of a mathematical model \n",
    "* Detail the components of a mathematical problem and model\n",
    "\n",
    "### Classroom Stucture\n",
    "* This course will be interactive and focus on collaborative learning\n",
    "* Your work in Math 360 can be broken down into 3 main components\n",
    "    - **Pre-Lecture Readings**: At the top of each jupyter notebook, a list of pre-lecture reading will be given.  There will also be some guiding questions to asked based on the material, and in some cases, you may be asked to submit activites/answers to canvas. Just like a lecture, note taking is encouraged!\n",
    "    - **Lectures**: Each of our lecture times will include a beginning discussion of the pre-lecture reading material.  The majority of class time will guided by hands-on, collaborative learning, where we will focus on implementation of course content in Jupyter/Python. \n",
    "    - **Coursework**: \n",
    "        - To aid in the learning process, this course will have:\n",
    "            - Pre-lecture participation activities.\n",
    "            - 6 modelling assignments\n",
    "            - A cumulative final exam.\n",
    " \n",
    "### Classroom Expectations\n",
    "* It is expected that you will come to class on time and ready to learn.  This means you will have read the pre-lecture reading, completed the guiding questions, and submitted any pre-lecture activities to canvas, as well as have all of the tools necessary to aid in your learning (e.g., pen, pencil, notebook, laptop, waterbottle, etc).\n",
    "* It is expected you will be respectful of your peers, the facilities, and the instructional team.\n",
    "* It is expected that you will ask questions and actively participate in classrooom discussions.\n",
    "\n",
    "#### Academic Integrity\n",
    "\n",
    "It is expected that you will exhibit honesty and use ethical behaviour in all aspects of the learning process.  Online resources are plentiful and making use of such resources can be helpful during the learning process to cement foundational ideas.  However, any and all work submitted for Math 360 must be authored by you (or your group, if applicable).  Submitting work that is not your own is NOT acceptable and will receive a grade of zero.  In particular, submitting work written by Artifical Intelligence is NOT acceptable. \n",
    "\n",
    "#### Email Policy\n",
    "Your instructor and Teaching Assistant check email frequently and will make every effort to reply to your questions within 48 hours, between 9:00 AM and 5:00 PM Pacific Time on weekdays (excluding weekends and holidays). \n",
    "\n",
    "When you write an email to the Instructor or Teaching Assistant, please:\n",
    "* use your University of British Columbia email account;\n",
    "* include the course code in the subject line;\n",
    "* include your full name and student number in the body of the email. \n",
    "\n",
    "It is okay to ask more than a few questions; alternatively, you may request a time to meet, and/or, make a point-form list of your questions in the body of your email so the Instructor or Teaching Assistant can respond efficiently and completely to your questions.\n",
    "\n",
    "\n",
    "### Course Grade Break Down\n",
    "| Component   | Weight |\n",
    "| ----------- | ----------- |\n",
    "| Modelling Assignments (6 x 12%) | 72% |\n",
    "| Pre-lecture participation | 3% |\n",
    "| Final Exam| 25%|\n",
    "\n",
    "The instructor reserves the right to change the weight of any portion of this marking scheme. For students in good\n",
    "academic standing, other weights might be considered. In either case, the final mark will be computed using this\n",
    "weighting and the new weighting(s). The highest score for a particular student will be their final mark.\n",
    "\n",
    "#### Modelling Assignments\n",
    "\n",
    "Modelling assignments will be utilized to assess the knowledge and python implementation of various models relating to the course content.  There will be approximately 2 assignments per modelling unit (Math 360 has 3 distinct modelling units). \n",
    "\n",
    "Some assignments may require both individual and group components, while others may be solely individiual.  These assignments will make use of the UBC computer labs, and there will be time in class for each assignment.  In some cases, assignments will be due at the end of the class.  More specific information about each assignment will be given before the assigment is assigned. \n",
    "\n",
    "#### Pre-lecture participation\n",
    "\n",
    "Some pre-lecture activities may require work be submitted to canvas in advance of the lecture.  These will be clearly noted in the pre-lecture activities, and it is on the onus of students to ensure that their work is submitted on time and to the correct dropbox on canvas.  Late submissions will NOT be eligible for participation grades. \n",
    "\n",
    "#### Final Exam \n",
    "\n",
    "Math 360 will have a cumulative final exam, which will be scheduled by the registrar's office.  More information about the content and structure will be given closer to the examination date. "
   ]
  },
  {
   "cell_type": "markdown",
   "id": "249687c9-9861-494e-a75d-965ac2c1475b",
   "metadata": {},
   "source": [
    "## Readiness Check\n",
    "\n",
    "This course relies on prerequisite material.  To assess your readiness for the course, work through the following check list:\n",
    "\n",
    "- [ ] One of MATH 200 (calc 3), 217 (multivar calc), 226 (adv calc 1), 253 (multivar calc), 254 (multivar calc);\n",
    "- [ ] One of MATH 210 (math comp), CPSC 203 (prgm), 210 (sft const);\n",
    "- [ ] One of MATH 215 (DEs), 255 (ODEs), 256 (DEs), 258 (DEs);\n",
    "- [ ] One of MATH 152 (lin sys), 221 (mat alg), 223 (lin alg).\n",
    "\n",
    "In particular, we are expecting you to be able to:\n",
    "- [ ] Solve systems of equations\n",
    "- [ ] Analytically solve DEs, and know how to implement built-in DE solvers\n",
    "- [ ] Understand multivariate functions, their properties, and how to extract information using various tools\n",
    "- [ ] Write code in Jupyter/Python and employ good coding practices."
   ]
  },
  {
   "cell_type": "markdown",
   "id": "fce1ec2a-5473-41cc-8599-12958d723c02",
   "metadata": {},
   "source": [
    "### What is mathematical modelling?\n",
    "There is a nice introduction to what mathematical modelling in \"Principles of Mathematical Modeling\" by Clive Dym. Read sections 1.1 and 1.2 [here](https://www.sfu.ca/~vdabbagh/Chap1-modeling.pdf \"here\"). \n",
    "\n",
    "For our purposes, mathematical modelling is a method for leveraging tools from mathematics to apply to a problem in order to learn something about the system. \n",
    "\n",
    "Modelling is a tool that is leveraged by many research fields to aid in observation analysis and make predictions about future scenarios.  It can often be costly to conduct experiments under multiple different settings, so leveraging a mathematical modelling is a way to try to predict what would happen under a given set-up and to identify which experimental set-ups would be a higher priority to pursue.\n",
    "\n",
    "Models can have a wide range of complexity! More complex does not necessarily mean better -- we can sometimes work with more simplistic models to achieve good results.  In many instances, we often start with models that do not have a lot of complexity included and \"build the model up\" until we arrive at a model that had a good balance of complexity and accounting for the observed phenonema.\n",
    "\n",
    "**End of Pre-lecture Material**"
   ]
  },
  {
   "cell_type": "markdown",
   "id": "b5a874f8-5842-429f-baba-a513e5ab0c24",
   "metadata": {},
   "source": [
    "### What types of models will we be looking at in this course?\n"
   ]
  },
  {
   "cell_type": "markdown",
   "id": "c982432c-9218-4386-a6ab-6aa5451f5320",
   "metadata": {},
   "source": [
    "### In class activity\n"
   ]
  },
  {
   "cell_type": "markdown",
   "id": "b90a5914-9fb3-41f7-8d45-ea1c16822f2e",
   "metadata": {},
   "source": [
    "### Components of a Mathematical Model \n",
    "\n",
    "\n",
    "\n",
    "**Example**\n",
    "\n",
    "Let's suppose we have a tank that contains $1500$ L of water and $20$kg of salt.  Fresh water is being poured into the tank at a rate of $15$L/min and the solution drains at a rate of $10$L/min.   Assuming the tank stays perfectly mixed, we can model the rate of change of the mass of salt, $M$, through the differential equation:\n",
    "\\begin{align*}\n",
    "\\frac{dM}{dt} & = (\\textrm{rate in} ) - (\\textrm{rate out})\\\\\n",
    "& = 0 \\cdot(15) - \\frac{M}{1500+5t} \\cdot (10) \\\\\n",
    "& = 0 - \\frac{M}{1500+5t} \\cdot (10) \\\\\n",
    "& = - \\frac{10M}{1500+5t}.\n",
    "\\end{align*}\n"
   ]
  },
  {
   "cell_type": "markdown",
   "id": "5b6733a0-7ee9-4011-8509-4517c59a35d8",
   "metadata": {},
   "source": [
    "#### Think-Pair-Share\n"
   ]
  },
  {
   "cell_type": "markdown",
   "id": "8930ca70-9ec2-4411-b23a-26aff8592b91",
   "metadata": {},
   "source": [
    "### Important considerations when building and analyzing a model\n",
    "\n",
    "**Example**\n",
    "\n"
   ]
  },
  {
   "cell_type": "markdown",
   "id": "16e98a07-fa9a-4f03-9b87-68445e3eb3fa",
   "metadata": {},
   "source": [
    "### Think-Pair-Share - SIAM M3 Challenge problem.\n",
    "\n",
    "2016: SHARE AND (CAR) SHARE A LIKE\n",
    "\n",
    "\"The introduction of the mass-produced car in the early 20th century represented a revolution in mobility and convenience, and car ownership rapidly became the standard of passenger transport in developed countries. Today, the consequences of heavy automotive use are the subject of much controversy. Increasingly, car sharing has become an attractive option for consumers who want the benefits of using a private car without the costs and responsibilities of owning a car. Automakers are responding, investing millions of dollars to get in to the car-sharing arena, trying to “stay ahead of the curve in a rapidly shifting automotive landscape”.\n",
    "\n",
    "Shared ownership can mean less traffic, less pollution, and less oil dependence. While currently focused on urban environments and college towns, companies involved in car sharing are interested in expanding and are looking at new technologies to foster new markets.\n",
    "\n",
    "Car-sharing companies have found that two of the main factors that drivers consider when making decisions about car sharing are the amount of time using the car and miles driven per day. In addition, a number of recent reports suggest self-driving cars and vehicles that run entirely on alternative fuel or renewable energy are close to entering the mainstream. These technologies have the potential to dramatically change participation in car sharing as individuals could have environmentally friendly vehicles delivered to their doorstep on demand.\""
   ]
  },
  {
   "cell_type": "markdown",
   "id": "ae580a7d-75c1-42c5-ab45-59e9b5abc6f6",
   "metadata": {},
   "source": [
    "### Mathematical Modelling\n"
   ]
  },
  {
   "cell_type": "markdown",
   "id": "c6f5b28e-c410-480e-af8e-db2dcd7e07ba",
   "metadata": {},
   "source": [
    "### Mathematical Modelling Process\n"
   ]
  },
  {
   "cell_type": "markdown",
   "id": "6df4efda-9616-42f0-82d1-b0b51bc5a54f",
   "metadata": {},
   "source": [
    "### In Class Activity - SIAM M3 Challenge problem."
   ]
  },
  {
   "cell_type": "markdown",
   "id": "03aa3f93-45d8-4aca-8aba-35b6fdc478fb",
   "metadata": {},
   "source": [
    "The full 2016 SIAM M3 challenge problem, as well as the winning solution can be found [here](https://m3challenge.siam.org/archives/2016 \"here\")."
   ]
  },
  {
   "cell_type": "code",
   "execution_count": null,
   "id": "9851ec81-8d05-4319-801a-e680b7be14dc",
   "metadata": {},
   "outputs": [],
   "source": []
  }
 ],
 "metadata": {
  "kernelspec": {
   "display_name": "Python 3 (ipykernel)",
   "language": "python",
   "name": "python3"
  },
  "language_info": {
   "codemirror_mode": {
    "name": "ipython",
    "version": 3
   },
   "file_extension": ".py",
   "mimetype": "text/x-python",
   "name": "python",
   "nbconvert_exporter": "python",
   "pygments_lexer": "ipython3",
   "version": "3.10.12"
  }
 },
 "nbformat": 4,
 "nbformat_minor": 5
}
