{
 "cells": [
  {
   "cell_type": "markdown",
   "id": "70a5cbee-ffd8-480f-85ad-7ea7cd8bc68f",
   "metadata": {},
   "source": [
    "# Chemical Kinetics"
   ]
  },
  {
   "cell_type": "code",
   "execution_count": 2,
   "id": "0b136cba-ab83-468c-8185-0344cb59cf17",
   "metadata": {
    "tags": []
   },
   "outputs": [],
   "source": [
    "import numpy as np\n",
    "import matplotlib.pyplot as plt\n",
    "import scipy.integrate as spi"
   ]
  },
  {
   "cell_type": "markdown",
   "id": "23f1adc2-4cf0-42c9-87f0-08fd3fa6f579",
   "metadata": {},
   "source": [
    "## Stoichiometry\n",
    "\n",
    "**Stoichiometry** is the quantitative study of **reactants** and **products** in **chemical reactions**. Reactants and products are **molecules** which consist of a combination of **atoms** of **chemical elements**. For example, water is a molecule composed of two hydrogen atoms and one oxygen atom and is written as $H_2O$. We represent a chemical reaction by a **stoichiometric equation** which lists the reactants on the left and the products on the right along with their **stoichiometric coefficients** which describes the number of each molecule involed in the reaction. For eaxmple, the combustion reaction of methane is given by the equation\n",
    "\n",
    "$$\n",
    "CH_4 + 2 O_2 \\rightarrow CO_2 + 2 H_2O\n",
    "$$\n",
    "\n",
    "The equation states that one methane molecule ($CH_4$) reacts with two oxygen molecules ($O_2$) to produce one carbon dioxide molecule ($CO_2$) and two water molecules ($H_2O$).\n",
    "\n",
    "Stoichiometric equations must be balanced according to the **law of conservation of mass**. This means that the total number of atoms of each element in the reactants must equal the total in the products. For example, in the equation above, we see that there are four oxygen atoms, one carbon atom and four hydrogen atoms on both sides of the equation.\n",
    "\n",
    ":::{seealso}\n",
    "Check out [Wikipedia: Stoichiometry](https://en.wikipedia.org/wiki/Stoichiometry) for more information.\n",
    ":::"
   ]
  },
  {
   "cell_type": "markdown",
   "id": "aa126398-4e64-42b0-a939-3a5b8a123449",
   "metadata": {},
   "source": [
    "## Concentration and Reaction Rate\n",
    "\n",
    "**Molar concentration** is the amount of a substance per unit volume and has dimensions NL<sup>-3</sup>. We use molar concentration exclusively when studying chemical reactions and so we simply say **concentration** to mean molar concentration.\n",
    "\n",
    "The **reaction rate** of a chemical reaction is the concentration of reactant transformed into product per unit time. The reaction rate has dimensions NL<sup>-3</sup>T<sup>-1</sup>."
   ]
  },
  {
   "cell_type": "markdown",
   "id": "c15f919d-040a-4671-abbb-7fb30235c361",
   "metadata": {},
   "source": [
    "## Law of Mass Action\n",
    "\n",
    "The **law of mass action** states that the reaction rate of a chemical reaction is directly proportional to the product of the concentrations of the reactants. In other words, if a reaction is given by the stoichiometric equation\n",
    "\n",
    "$$\n",
    "c_1 R_1 + \\cdots + c_n R_n \\rightarrow P\n",
    "$$\n",
    "\n",
    "then the rate of the reaction is\n",
    "\n",
    "$$\n",
    "k R_1^{c_1} \\cdots R_n^{c_n} \n",
    "$$\n",
    "\n",
    "where we use the notation $R_1,\\dots,R_n$ to denote the concentrations of the reactants and $k$ is the **reaction coefficient**. Note that the reaction coefficient $k$ has dimensions (NL<sup>-3</sup>)<sup>1 - r</sup>T<sup>-1</sup> where $r = c_1 + \\cdots + c_n$. The law of mass action gives rise to a differential equation for each reactant\n",
    "\n",
    "$$\n",
    "\\frac{dR_i}{dt} = c_i k R_1^{c_1} \\cdots R_n^{c_n} \\ , \\ \\ i=1,\\dots,n\n",
    "$$"
   ]
  },
  {
   "cell_type": "markdown",
   "id": "bed00b9b-2f65-475a-9da8-fd8171162e7b",
   "metadata": {},
   "source": [
    ":::{seealso}\n",
    "Check out [A Primer on Mathematical Models in Biology > Chapter 2: Introduction to Biochemical Kinetics](https://epubs.siam.org/doi/book/10.1137/1.9781611972504) for more examples and information."
   ]
  }
 ],
 "metadata": {
  "kernelspec": {
   "display_name": "Python 3 (ipykernel)",
   "language": "python",
   "name": "python3"
  },
  "language_info": {
   "codemirror_mode": {
    "name": "ipython",
    "version": 3
   },
   "file_extension": ".py",
   "mimetype": "text/x-python",
   "name": "python",
   "nbconvert_exporter": "python",
   "pygments_lexer": "ipython3",
   "version": "3.10.12"
  }
 },
 "nbformat": 4,
 "nbformat_minor": 5
}
