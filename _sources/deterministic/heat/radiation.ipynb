{
 "cells": [
  {
   "cell_type": "markdown",
   "id": "eac9f087-506f-430d-9681-41027aa5ecca",
   "metadata": {},
   "source": [
    "# Thermal Radiation"
   ]
  },
  {
   "cell_type": "code",
   "execution_count": 1,
   "id": "e975295e-d532-4191-88c5-220b13ad137d",
   "metadata": {},
   "outputs": [],
   "source": [
    "import numpy as np\n",
    "import matplotlib.pyplot as plt\n",
    "import scipy.integrate as spi"
   ]
  },
  {
   "cell_type": "markdown",
   "id": "db595dc2-1a6a-4e39-b849-f083e56b31b9",
   "metadata": {},
   "source": [
    "## Thermal Radiation\n",
    "\n",
    "**Thermal radiation** is heat emitted as electromagnetic waves. The heat that we feel from the Sun is thermal radiation and in fact all matter (with temperature greater than 0K) emits thermal radiation. Different kinds of matter emit thermal radiation at different frequencies (or wavelengths) and higher frequency (shorter wavelengths) corresponds to higher energy. Thermal radiation is visible when the radiation is emitted with wavelengths 380 to 750 nanometers (or frequencies 400 to 790 THz). [Thermal imaging](https://en.wikipedia.org/wiki/Thermography) allows us to \"see\" heat emitted by all matter."
   ]
  },
  {
   "cell_type": "markdown",
   "id": "d1f8e403-206c-4861-af37-c7cb010e0aa9",
   "metadata": {},
   "source": [
    "## Solar Radiation\n",
    "\n",
    "The **solar constant**  $S_0$ is the thermal radiation emitted by the Sun measured per unit area per unit time at a distance equal to the distance from the Earth to the Sun. The solar constant is approximately\n",
    "\n",
    "$$\n",
    "S_0 = 1368 \\ \\text{W/m}^2\n",
    "$$\n",
    "\n",
    "In other words, $S_0$ is the total solar radiation per unit area measured just outside the Earth's atmosphere.\n",
    "\n",
    "Viewed from the Sun, the Earth is a flat disc with area $\\pi R^2$ (where $R$ is the radius of the Earth) therefore the total energy flux arriving from the Sun at the outer edge of the Earth's atmosphere is\n",
    "\n",
    "$$\n",
    "\\pi R^2 S_0\n",
    "$$"
   ]
  },
  {
   "cell_type": "markdown",
   "id": "b813686a-c2e4-4d8c-bf84-b476a9cbc2ef",
   "metadata": {},
   "source": [
    "## Albedo\n",
    "\n",
    "Not all the thermal radiation from the Sun is absorbed by the Earth. The **albedo** $\\alpha$ is a dimensionless parameter which measures the fraction of the Sun's radiation reflected by the Earth. The total energy flux from the Sun absorbed by the Earth is\n",
    "\n",
    "$$\n",
    "(1 - \\alpha) \\pi R^2 S_0\n",
    "$$\n",
    "\n",
    "where $0 < \\alpha < 1$."
   ]
  },
  {
   "cell_type": "markdown",
   "id": "f78bc0ea-0f6e-412b-8cbc-57e1c927d407",
   "metadata": {},
   "source": [
    "## Stefan–Boltzmann Law\n",
    "\n",
    "A **black body** is an idealized physical body that emits and absorbs thermal radiation at all frequencies.\n",
    "\n",
    "The **Stefan–Boltzmann law** states that the total energy $Q$ radiated by a black body per unit surface area per unit time is directly proportional to $T^4$:\n",
    "\n",
    "$$\n",
    "Q = \\sigma T^4\n",
    "$$\n",
    "\n",
    "where $\\sigma = 5.670374419 \\times 10^{-8}$ W m<sup>-2</sup> K<sup>-4</sup> is the Stefan-Boltzmann constant.\n",
    "\n",
    "If we assume that the Earth is a black body with homogeneous temperature $T$ then the total thermal radiation emitted by the Earth is\n",
    "\n",
    "$$\n",
    "4 \\pi R^2 \\sigma T^4\n",
    "$$"
   ]
  },
  {
   "cell_type": "markdown",
   "id": "4efa0f78-5b71-4fe3-bdc0-a0f4d6120639",
   "metadata": {},
   "source": [
    "## Greenhouse Effect\n",
    "\n",
    "The chemical composition of the Earth's atmosphere changes how much radiation is emitted by the Earth into outer space. Earth emits thermal radiation at lower frequencies (longer wavelengths) compared to solar radiation. Gases in the atmosphere absorb longwave radiation from the Earth but not shortwave radiation from the Sun. This is known as the [greehouse effect](https://en.wikipedia.org/wiki/Greenhouse_effect). To model the greenhouse effect, introduce a parameter $\\varepsilon$ which corresponds to the fraction of radiation emitted by the Earth into outer space (and $1-\\varepsilon$ is the fraction absorbed by the atmosphere).\n",
    "\n",
    "If we assume that the Earth and atmosphere together is a black body with homogeneous temperature $T$ then the total thermal radiation emitted by the Earth into outer space is\n",
    "\n",
    "$$\n",
    "4 \\pi R^2 \\sigma \\varepsilon T^4\n",
    "$$"
   ]
  },
  {
   "cell_type": "markdown",
   "id": "e591ee31-cbd4-4cbf-baa3-b6180a9d71e7",
   "metadata": {},
   "source": [
    ":::{seealso}\n",
    "Check out [Mathematics and Climate > Chapter 2: Earth's Energy Budget](https://epubs.siam.org/doi/10.1137/1.9781611972610) for more about climate models.\n",
    ":::"
   ]
  }
 ],
 "metadata": {
  "kernelspec": {
   "display_name": "Python 3 (ipykernel)",
   "language": "python",
   "name": "python3"
  },
  "language_info": {
   "codemirror_mode": {
    "name": "ipython",
    "version": 3
   },
   "file_extension": ".py",
   "mimetype": "text/x-python",
   "name": "python",
   "nbconvert_exporter": "python",
   "pygments_lexer": "ipython3",
   "version": "3.10.12"
  }
 },
 "nbformat": 4,
 "nbformat_minor": 5
}
