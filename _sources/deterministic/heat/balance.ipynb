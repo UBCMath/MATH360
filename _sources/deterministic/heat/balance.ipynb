{
 "cells": [
  {
   "cell_type": "markdown",
   "id": "eac9f087-506f-430d-9681-41027aa5ecca",
   "metadata": {},
   "source": [
    "# Energy Balance"
   ]
  },
  {
   "cell_type": "markdown",
   "id": "19bc60a3-6397-4b85-978d-d4dcb9eebd7d",
   "metadata": {},
   "source": [
    "## Heat Capacity\n",
    "\n",
    "**Heat** is the transfer (or flux) of thermal energy. **Thermal energy**  and **temperature** are related by the heat capacity of the object. In particular, the **heat capacity** of an object is the amount of thermal energy $\\Delta E$ require to raise the temperature of the object by $\\Delta T$\n",
    "\n",
    "$$\n",
    "C = \\frac{\\Delta E}{\\Delta T}\n",
    "$$\n",
    "\n",
    "Note that $C$ has units J/K. In reality, the heat capacity depends on the temperature and pressure of the object but we will assume that $C$ is constant for the objects that we consider.\n",
    "\n",
    "We will construct models where temperature is changing over time and so we use the equation\n",
    "\n",
    "$$\n",
    "C \\frac{dT}{dt} = \\frac{dE}{dt}\n",
    "$$\n",
    "\n",
    "to relate the rate of change of energy (ie. heat transfer) to the rate of change of temperature of an object over time."
   ]
  },
  {
   "cell_type": "markdown",
   "id": "13972fe1-0453-4fb3-a234-179e0d6c320c",
   "metadata": {},
   "source": [
    "## Energy Balance\n",
    "\n",
    "The law of conservation of energy applied to an object that absorbs and emits heat yields the **energy balance equation**:\n",
    "\n",
    "$$\n",
    "C \\frac{dT}{dt} = Q_{in} - Q_{out}\n",
    "$$\n",
    "\n",
    "where:\n",
    "\n",
    "* $T$ is the temperature of the object (K)\n",
    "* $C$ is the heat capacity of the object (J/K)\n",
    "* $Q_{in}$ is the heat rate of thermal energy (ie. heat) absorbed by the object (W = J/s)\n",
    "* $Q_{out}$ is the rate of thermal energy (ie. heat) emitted by the object (W = J/s)"
   ]
  },
  {
   "cell_type": "markdown",
   "id": "dfd3218d-b6ee-4dc2-8493-052bdbbf60ff",
   "metadata": {},
   "source": [
    "## Dimensions and Units\n",
    "\n",
    "| Quantity | Symbol | Dimensions | SI Units |\n",
    "| :---: | :---: | :---: | :---: |\n",
    "| thermal energy | $E$ | M L<sup>2</sup> T<sup>-2</sup> | J |\n",
    "| temperature | $T$ | $\\Theta$ | K |\n",
    "| heat capacity | $C$ | M L<sup>2</sup> T<sup>-2</sup> $\\Theta^{-1}$ | J/K |\n",
    "| heat | $Q$ | M L<sup>2</sup> T<sup>-3</sup> | W |"
   ]
  }
 ],
 "metadata": {
  "kernelspec": {
   "display_name": "Python 3 (ipykernel)",
   "language": "python",
   "name": "python3"
  },
  "language_info": {
   "codemirror_mode": {
    "name": "ipython",
    "version": 3
   },
   "file_extension": ".py",
   "mimetype": "text/x-python",
   "name": "python",
   "nbconvert_exporter": "python",
   "pygments_lexer": "ipython3",
   "version": "3.10.12"
  }
 },
 "nbformat": 4,
 "nbformat_minor": 5
}
