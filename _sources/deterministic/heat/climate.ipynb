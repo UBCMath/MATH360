{
 "cells": [
  {
   "cell_type": "markdown",
   "id": "eac9f087-506f-430d-9681-41027aa5ecca",
   "metadata": {},
   "source": [
    "# Global Energy Balance"
   ]
  },
  {
   "cell_type": "code",
   "execution_count": 1,
   "id": "e975295e-d532-4191-88c5-220b13ad137d",
   "metadata": {},
   "outputs": [],
   "source": [
    "import numpy as np\n",
    "import matplotlib.pyplot as plt\n",
    "import scipy.integrate as spi"
   ]
  },
  {
   "cell_type": "markdown",
   "id": "a8962e5e-ced9-40b3-957a-f171dbe54a60",
   "metadata": {},
   "source": [
    "## Problem Statement \n",
    "\n",
    "The Sun emits thermal radiation, a fraction of solar radiation is absorbed by the Earth and the rest is reflected into space, the Earth emits thermal radiation like a black body and some fraction of that thermal energy is absorbed by the atmosphere. Construct a mathematical model of the temperature of the Earth over time."
   ]
  },
  {
   "cell_type": "markdown",
   "id": "3bc370c0-45b1-41fa-8388-26c17f9c2145",
   "metadata": {},
   "source": [
    ":::{seealso}\n",
    "Check out [Mathematics and Climate > Chapter 2: Earth's Energy Budget](https://epubs.siam.org/doi/10.1137/1.9781611972610) for more about climate models.\n",
    ":::"
   ]
  },
  {
   "cell_type": "markdown",
   "id": "84d4b482-79c1-41de-b730-4b239b11ed45",
   "metadata": {},
   "source": [
    "## Variables and Parameters\n",
    "\n",
    "\n",
    "| Description | Symbol | Dimensions | Type |\n",
    "| :---: | :---: | :---: | :---: |\n",
    "| temperature of the Earth and atmosphere | $T$ | $\\Theta$ | dependent variable |\n",
    "| time | $t$ | T | independent variable |\n",
    "| solar constant | $S_0$ | M T<sup>-3</sup> | parameter |\n",
    "| albedo of the Earth | $\\alpha$ | 1 | parameter |\n",
    "| radius of the Earth | $R$ | L | parameter |\n",
    "| Stefan-Boltzmann constant | $\\sigma$ | M T<sup>-3</sup> $\\Theta^{-4}$ | parameter |\n",
    "| heat capacity of the Earth and atmosphere | $C$ | M L<sup>2</sup> T<sup>-2</sup> $\\Theta^{-1}$ | parameter |\n",
    "| greenhouse parameter | $\\varepsilon$ | 1 | parameter |"
   ]
  },
  {
   "cell_type": "markdown",
   "id": "d3e73cde-beb3-4561-8d07-f08f3c4b1275",
   "metadata": {},
   "source": [
    "## Assumptions and Constraints\n",
    "\n",
    "* The Earth and the atmosphere form one object with homogeneous temperature $T$ and heat capacity $C$\n",
    "* $S_0$ is constant\n",
    "* Earth emits radiation as a black body $\\sigma T^4$\n",
    "* $\\alpha$ is constant\n",
    "* $C$ is constant\n",
    "* $\\varepsilon$ is constant"
   ]
  },
  {
   "cell_type": "markdown",
   "id": "cad96e69-a857-447c-8457-0f982eaa68b3",
   "metadata": {},
   "source": [
    "## Construction"
   ]
  },
  {
   "cell_type": "markdown",
   "id": "b2c583a9-1763-4143-a3f0-066124754d4e",
   "metadata": {},
   "source": [
    "The rate of energy absorbed by the Earth is $Q_{in} = (1 - \\alpha) \\pi R^2 S_0$ and the rate of energy emitted by the Earth is $Q_{out} = 4 \\pi R^2 \\sigma \\varepsilon T^4$. The energy balance equation yields\n",
    "\n",
    "$$\n",
    "C \\frac{dT}{dt} = (1 - \\alpha) \\pi R^2 S_0 - 4 \\pi R^2 \\sigma \\varepsilon T^4\n",
    "$$"
   ]
  },
  {
   "cell_type": "markdown",
   "id": "8534db96-4c97-49f4-874e-d5bf831cb6d5",
   "metadata": {},
   "source": [
    "Apply the nondimensionalization procedure. Let $t = [t] t^*$ and $T = [T] T^*$ and make the subtitution\n",
    "\n",
    "$$\n",
    "C \\frac{[T]}{[t]} \\frac{dT^*}{dt^*} = (1 - \\alpha) \\pi R^2 S_0 - 4 \\pi R^2 \\sigma \\varepsilon [T]^4 T^4\n",
    "$$\n",
    "\n",
    "Divide by the coefficient in $T^4$ term\n",
    "\n",
    "$$\n",
    "\\frac{C}{4 \\pi R^2 \\sigma \\varepsilon [T]^3[t]} \\frac{dT^*}{dt^*} = \\frac{(1 - \\alpha)S_0}{4 \\sigma \\varepsilon  [T]^4} - T^{*4}\n",
    "$$\n",
    "\n",
    "Choose values for scaling factors $[t]$ and $[T]$ to make coefficients equal to 1:\n",
    "\n",
    "$$\n",
    "[T] = \\left( \\frac{(1 - \\alpha) S_0}{4 \\sigma \\varepsilon} \\right)^{1/4}\n",
    "\\hspace{10mm}\n",
    "[t] = \\frac{C}{4 \\pi R^2 \\sigma \\varepsilon [T]^3} = \\frac{C}{4 \\pi R^2 \\sigma \\varepsilon} \\left( \\frac{4 \\sigma \\varepsilon}{(1 - \\alpha) S_0} \\right)^{3/4}\n",
    "$$\n",
    "\n",
    "Rewrite the system:\n",
    "\n",
    "$$\n",
    "\\frac{dT^*}{dt^*} = 1 - T^{*4} \\ , \\ \\ T^*(0) = \\frac{T_0}{[T]}\n",
    "$$"
   ]
  },
  {
   "cell_type": "markdown",
   "id": "a4dc8764-f5fb-4d7f-be42-bb042b259741",
   "metadata": {},
   "source": [
    "## Analysis\n",
    "\n",
    "Since $T>0$, there is only one steady state solution\n",
    "\n",
    "$$\n",
    "T^*_{\\infty} = 1\n",
    "\\hspace{10mm}\n",
    "T_{\\infty} = \\left( \\frac{(1 - \\alpha) S_0}{4 \\sigma \\varepsilon} \\right)^{1/4}\n",
    "$$\n",
    "\n",
    "The steady state depends only on the solar constant $S_0$, albedo $\\alpha$, Stefan-Boltzmann constant $\\sigma$ and greenhouse parameter $\\varepsilon $. The parameters $C$ and $R$ only change the time scale $[t]$."
   ]
  },
  {
   "cell_type": "code",
   "execution_count": 3,
   "id": "6b24e9f0-0749-441f-a288-4f4f62264cc0",
   "metadata": {},
   "outputs": [
    {
     "data": {
      "image/png": "[encoded data removed]",
      "text/plain": [
       "<Figure size 640x480 with 1 Axes>"
      ]
     },
     "metadata": {},
     "output_type": "display_data"
    }
   ],
   "source": [
    "f = lambda T,t: 1 - T**4\n",
    "t = np.linspace(0,1,100)\n",
    "\n",
    "for T0 in [0.5,0.75,1.0,1.25,1.5]:\n",
    "    T = spi.odeint(f,T0,t)\n",
    "    plt.plot(t,T,'b')\n",
    "\n",
    "plt.ylim([0,2]),plt.grid(True)\n",
    "plt.show()"
   ]
  }
 ],
 "metadata": {
  "kernelspec": {
   "display_name": "Python 3 (ipykernel)",
   "language": "python",
   "name": "python3"
  },
  "language_info": {
   "codemirror_mode": {
    "name": "ipython",
    "version": 3
   },
   "file_extension": ".py",
   "mimetype": "text/x-python",
   "name": "python",
   "nbconvert_exporter": "python",
   "pygments_lexer": "ipython3",
   "version": "3.10.12"
  }
 },
 "nbformat": 4,
 "nbformat_minor": 5
}
