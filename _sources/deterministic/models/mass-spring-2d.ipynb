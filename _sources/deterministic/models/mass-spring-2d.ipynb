{
 "cells": [
  {
   "cell_type": "markdown",
   "id": "cfeb4261-2dfa-4024-8c04-71ad21fc4e21",
   "metadata": {},
   "source": [
    "# 2D Mass Spring System"
   ]
  },
  {
   "cell_type": "markdown",
   "id": "a6ef05aa-55ae-4f81-ae19-da7fa9d53400",
   "metadata": {},
   "source": [
    "*Under construction*"
   ]
  }
 ],
 "metadata": {
  "kernelspec": {
   "display_name": "Python 3 (ipykernel)",
   "language": "python",
   "name": "python3"
  },
  "language_info": {
   "codemirror_mode": {
    "name": "ipython",
    "version": 3
   },
   "file_extension": ".py",
   "mimetype": "text/x-python",
   "name": "python",
   "nbconvert_exporter": "python",
   "pygments_lexer": "ipython3",
   "version": "3.10.9"
  }
 },
 "nbformat": 4,
 "nbformat_minor": 5
}
