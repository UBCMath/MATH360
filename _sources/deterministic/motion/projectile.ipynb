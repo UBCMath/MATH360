{
 "cells": [
  {
   "cell_type": "markdown",
   "id": "343c6870-2102-42a3-9f85-b9232d413532",
   "metadata": {},
   "source": [
    "# Projectile Motion with Drag"
   ]
  },
  {
   "cell_type": "code",
   "execution_count": 1,
   "id": "8696aa48-e578-4ab1-8f21-6b7c5b7058c7",
   "metadata": {},
   "outputs": [],
   "source": [
    "import numpy as np\n",
    "import scipy.integrate as spi\n",
    "import matplotlib.pyplot as plt"
   ]
  },
  {
   "cell_type": "markdown",
   "id": "06593d0b-aa82-48f6-8889-9bbe7eb7c1bd",
   "metadata": {},
   "source": [
    "## Problem Statement\n",
    "\n",
    "Construct a mathematical model of an object shot into the air and subject to the forces of drag and gravity."
   ]
  },
  {
   "cell_type": "markdown",
   "id": "146c6f6c-b9c0-4534-b944-63c549249a99",
   "metadata": {},
   "source": [
    "## Variables and Parameters\n",
    "\n",
    "| Description | Symbol | Dimensions | Type |\n",
    "| :---: | :---: | :---: | :---: |\n",
    "| position of projectile in $x$-direction | $x$ | L | dependent variable |\n",
    "| position of projectile in $y$-direction | $y$ | L | dependent variable |\n",
    "| time | $t$ | T | independent variable |\n",
    "| mass of the projectile | $m$ | M | parameter |\n",
    "| drag coefficient | $c$ | MT<sup>-1</sup> | parameter |\n",
    "| constant of gravity | $g$ | LT<sup>-2</sup> | parameter |\n",
    "| initial velocity | $v_0$ | LT<sup>-1</sup> | parameter |\n",
    "| initial angle of velocity | $\\theta$ | 1 | parameter |"
   ]
  },
  {
   "cell_type": "markdown",
   "id": "485a2dc0-2af2-49b3-a9b8-aee0bdbc90e6",
   "metadata": {},
   "source": [
    "## Assumptions and Constraints\n",
    "\n",
    "* projectile moves in $xy$-plane only\n",
    "* initial position is at the origin $(0,0)$"
   ]
  },
  {
   "cell_type": "markdown",
   "id": "6683235e-9dbf-4626-aff6-7b42fa719168",
   "metadata": {},
   "source": [
    "## Construction\n",
    "\n",
    "The force of drag is proportional to velocity and acts in the direction oppposite the velocity\n",
    "\n",
    "$$\n",
    "\\mathbf{F}_d = -c \\| \\mathbf{x}'(t) \\| \\frac{\\mathbf{x}'(t)}{\\| \\mathbf{x}'(t) \\|} = -c\\left( x',y' \\right)\n",
    "$$\n",
    "\n",
    "The force of gravity acts in the veritcal direction\n",
    "\n",
    "$$\n",
    "\\mathbf{F}_g = (0,-mg)\n",
    "$$\n",
    "\n",
    "Apply Newton's second law to find the equations\n",
    "\n",
    "$$\n",
    "\\begin{align*}\n",
    "m x'' &= - cx' \\\\\n",
    "m y'' &= - mg - cy' \\\\\n",
    "x(0) &= y(0) = 0 \\\\\n",
    "x'(0) &= v_0 \\cos \\theta \\\\\n",
    "y'(0) &= v_0 \\sin \\theta\n",
    "\\end{align*}\n",
    "$$\n",
    "\n",
    "Apply the nondimensionalization procedure. Let $t = [t]t^*$, $x = [x]x^*$ and $y = [y]y^*$ and make the subsitution\n",
    "\n",
    "$$\n",
    "\\begin{align*}\n",
    "\\frac{m[x]}{[t]^2} \\frac{d^2x^*}{dt^{*2}} &= -\\frac{c[x]}{[t]} \\frac{dx^*}{dt^*} \\\\\n",
    "\\frac{m[y]}{[t]^2} \\frac{d^2y^*}{dt^{*2}} &= -mg - \\frac{c[y]}{[t]} \\frac{dy^*}{dt^*} \\\\\n",
    "x^*(0) &= y^*(0) = 0 \\\\\n",
    "\\frac{[x]}{[t]} \\frac{dx^*}{dt^*}(0) &= v_0 \\cos \\theta \\\\\n",
    "\\frac{[y]}{[t]} \\frac{dy^*}{dt^*}(0) &= v_0 \\sin \\theta\n",
    "\\end{align*}\n",
    "$$\n",
    "\n",
    "Divide by second derivative term and simplify\n",
    "\n",
    "$$\n",
    "\\begin{align*}\n",
    "\\frac{d^2x^*}{dt^{*2}} &= -\\frac{c[t]}{m} \\frac{dx^*}{dt^*} \\\\\n",
    "\\frac{d^2y^*}{dt^{*2}} &= -\\frac{g[t]^2}{[y]} - \\frac{c[t]}{m} \\frac{dy^*}{dt^*} \\\\\n",
    "x^*(0) &= y^*(0) = 0 \\\\\n",
    "\\frac{dx^*}{dt^*}(0) &= v_0 \\frac{[t]}{[x]} \\cos \\theta \\\\\n",
    "\\frac{dy^*}{dt^*}(0) &= v_0 \\frac{[t]}{[y]} \\sin \\theta\n",
    "\\end{align*}\n",
    "$$\n",
    "\n",
    "Choose $[t] = \\frac{m}{c}$ and $[x] = [y] = \\frac{gm^2}{c^2}$ and write\n",
    "\n",
    "$$\n",
    "\\begin{align*}\n",
    "\\frac{d^2x^*}{dt^{*2}} &= -\\frac{dx^*}{dt^*} \\\\\n",
    "\\frac{d^2y^*}{dt^{*2}} &= -1 - \\frac{dy^*}{dt^*} \\\\\n",
    "x^*(0) &= y^*(0) = 0 \\\\\n",
    "\\frac{dx^*}{dt^*}(0) &= v^*_0 \\cos \\theta \\\\\n",
    "\\frac{dy^*}{dt^*}(0) &= v^*_0 \\sin \\theta\n",
    "\\end{align*}\n",
    "$$\n",
    "\n",
    "where $v_0^* = \\frac{v_0c}{gm}$. These equations are independent of each other and can be solved analytically. However, we will approximate solutions using SciPy using the first order system with $u_0 = x^*$, $u_1 = \\frac{dx^*}{dt^*}$, $u_2 = y^*$, $u_3 = \\frac{dy^*}{dt^*}$:\n",
    "\n",
    "$$\n",
    "\\begin{align*}\n",
    "\\frac{du_0}{dt^*} &= u_1 \\\\\n",
    "\\frac{du_1}{dt^*} &= -u_1 \\\\\n",
    "\\frac{du_2}{dt^*} &= u_3 \\\\\n",
    "\\frac{du_3}{dt^*} &= - 1 - u_3 \\\\\n",
    "u_0(0) &= u_2(0) = 0 \\\\\n",
    "u_1(0) &= v^*_0 \\cos \\theta \\\\\n",
    "u_3(0) &= v^*_0 \\sin \\theta\n",
    "\\end{align*}\n",
    "$$"
   ]
  },
  {
   "cell_type": "markdown",
   "id": "9a858572-2bc7-47f3-89ea-e4e367deec5e",
   "metadata": {},
   "source": [
    "## Analysis"
   ]
  },
  {
   "cell_type": "code",
   "execution_count": 12,
   "id": "07de092f-7d9a-4a88-8e5b-455854b6bafe",
   "metadata": {},
   "outputs": [
    {
     "data": {
      "image/png": "[encoded data removed]",
      "text/plain": [
       "<Figure size 640x480 with 1 Axes>"
      ]
     },
     "metadata": {},
     "output_type": "display_data"
    }
   ],
   "source": [
    "def f(u,t):\n",
    "    dudt = np.zeros(4)\n",
    "    dudt[0] = u[1]\n",
    "    dudt[1] = -u[1]\n",
    "    dudt[2] = u[3]\n",
    "    dudt[3] = -1 - u[3]\n",
    "    return dudt\n",
    "\n",
    "v0 = 10; theta = np.pi/6\n",
    "u0 = [0,v0*np.cos(theta),0,v0*np.sin(theta)]\n",
    "t = np.linspace(0,6,200)\n",
    "u = spi.odeint(f,u0,t)\n",
    "plt.plot(u[:,0],u[:,2]), plt.axis('equal'), plt.grid(True)\n",
    "plt.show()"
   ]
  }
 ],
 "metadata": {
  "kernelspec": {
   "display_name": "Python 3 (ipykernel)",
   "language": "python",
   "name": "python3"
  },
  "language_info": {
   "codemirror_mode": {
    "name": "ipython",
    "version": 3
   },
   "file_extension": ".py",
   "mimetype": "text/x-python",
   "name": "python",
   "nbconvert_exporter": "python",
   "pygments_lexer": "ipython3",
   "version": "3.10.12"
  }
 },
 "nbformat": 4,
 "nbformat_minor": 5
}
