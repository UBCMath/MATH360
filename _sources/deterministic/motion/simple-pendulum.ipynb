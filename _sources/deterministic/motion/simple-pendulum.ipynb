{
 "cells": [
  {
   "cell_type": "markdown",
   "id": "22b8224b-e9ad-4fdc-a333-fb41686e97d0",
   "metadata": {
    "tags": []
   },
   "source": [
    "# Simple Pendulum"
   ]
  },
  {
   "cell_type": "code",
   "execution_count": 1,
   "id": "ea62cd12-c7fc-471f-83a8-2cafb16fa86d",
   "metadata": {
    "tags": []
   },
   "outputs": [],
   "source": [
    "import numpy as np\n",
    "import matplotlib.pyplot as plt\n",
    "import scipy.integrate as spi"
   ]
  },
  {
   "cell_type": "markdown",
   "id": "c31628cf-f8e2-4625-8894-a769d27e6ba5",
   "metadata": {
    "tags": []
   },
   "source": [
    "## Problem Statement\n",
    "\n",
    "A pendulum is a mass attached to one end of a rod which is fixed at the other end and swings about the fixed end under the force of gravity. How does the pendulum swing over time based on initial position and velocity?"
   ]
  },
  {
   "cell_type": "markdown",
   "id": "134987c8-eed2-4119-b155-ce4f766c3c19",
   "metadata": {
    "tags": []
   },
   "source": [
    "## Variables and Parameters\n",
    "\n",
    "| Description | Symbol | Dimensions | Type |\n",
    "| :---: | :---: | :---: | :---: |\n",
    "| angle of the pendulum | $\\theta$ | 1 | dependent variable |\n",
    "| time | $t$ | T | independent variable |\n",
    "| length of rod | $L$ | L | parameter |\n",
    "| mass of the object | $m$ | M | parameter |\n",
    "| constant of gravity | $g$ | LT<sup>-2<sup> | parameter |\n",
    "| initial angular position | $\\theta_0$ | 1 | parameter |\n",
    "| initial angular velocity | $\\omega_0$ | T<sup>-1<sup> | parameter |    "
   ]
  },
  {
   "cell_type": "markdown",
   "id": "ced7c9d2-a0f9-4ce6-8608-cd4648176eec",
   "metadata": {
    "tags": []
   },
   "source": [
    "## Constraints and Assumptions\n",
    "\n",
    "* no drag, damping or friction\n",
    "* mass is a point\n",
    "* rod has no mass and no drag"
   ]
  },
  {
   "cell_type": "markdown",
   "id": "56594fa2-dcc9-4875-9d88-2fec11fabe1e",
   "metadata": {
    "tags": []
   },
   "source": [
    "## Construction"
   ]
  },
  {
   "cell_type": "markdown",
   "id": "c16c6ce4-c696-4d70-b11a-9376358da207",
   "metadata": {
    "tags": []
   },
   "source": [
    "The position of the mass is given by the angle $\\theta$:\n",
    "\n",
    "$$\n",
    "\\begin{align*}\n",
    "x &= L \\sin \\theta \\\\\n",
    "y &= -L \\cos \\theta\n",
    "\\end{align*}\n",
    "$$\n",
    "\n",
    "Let $F$ be the magnitude of the force in the rod acting on the mass. Since $F$ acts in the direction of the rod from the mass to the origin we have\n",
    "\n",
    "$$\n",
    "\\mathbf{F} = \\left( - F \\sin \\theta , F \\cos \\theta \\right)\n",
    "$$\n",
    "\n",
    "Apply Newton's second law\n",
    "\n",
    "$$\n",
    "\\begin{align*}\n",
    "m x'' &= -F \\sin \\theta \\\\\n",
    "m y'' &= F \\cos \\theta - mg\n",
    "\\end{align*}\n",
    "$$"
   ]
  },
  {
   "cell_type": "markdown",
   "id": "6ba29503-96bf-49a7-8111-ac61ded80c13",
   "metadata": {
    "tags": []
   },
   "source": [
    "We don't have an expression for $F$ and so we want to combine the equations above to eliminate the variable $F$. Since $x = L \\sin \\theta $ and $y = - L \\cos \\theta$ and $L$ is constant we have\n",
    "\n",
    "$$\n",
    "\\begin{align*}\n",
    "x' &= \\theta' L \\cos \\theta \\\\\n",
    "x'' &= - (\\theta')^2 L \\sin \\theta + \\theta'' L \\cos \\theta \\\\\n",
    "y' &= \\theta' L \\sin \\theta \\\\\n",
    "y'' &= (\\theta')^2 L \\cos \\theta + \\theta'' L \\sin \\theta\n",
    "\\end{align*}\n",
    "$$\n",
    "\n",
    "therefore we can rewrite the system of equations in terms of $\\theta$:\n",
    "\n",
    "$$\n",
    "\\begin{align*}\n",
    "m (- (\\theta')^2 L \\sin \\theta + \\theta'' L \\cos \\theta) &= -F\\sin \\theta \\\\\n",
    "m ((\\theta')^2 L \\cos \\theta + \\theta'' L \\sin \\theta) &= F \\cos \\theta - mg\n",
    "\\end{align*}\n",
    "$$"
   ]
  },
  {
   "cell_type": "markdown",
   "id": "ec6b5081-60e7-492e-8b24-4a78ff66d448",
   "metadata": {
    "tags": []
   },
   "source": [
    "Multiply the first equation by $\\cos \\theta$ and the second equation by $\\sin \\theta$ and add to get\n",
    "\n",
    "$$\n",
    "m L \\theta'' = - mg \\sin \\theta\n",
    "$$\n",
    "\n",
    "and finally\n",
    "\n",
    "$$\n",
    "\\theta'' + \\frac{g}{L} \\sin \\theta = 0 \\ , \\ \\ \\theta(0) = \\theta_0 \\ , \\ \\ \\theta'(0) = \\omega_0\n",
    "$$"
   ]
  },
  {
   "cell_type": "markdown",
   "id": "93e739c2-5fa2-4b08-92a7-3b182b447b89",
   "metadata": {},
   "source": [
    "Apply the nondimensionalization procedure. Let $\\theta = [\\theta] \\theta^*$ and $t = [t] t^*$ and write\n",
    "\n",
    "$$\n",
    "\\frac{[\\theta]}{[t]^2} \\frac{d^2 \\theta^*}{dt^{*2}} + \\frac{g}{L} \\sin([\\theta] \\theta^*) = 0\n",
    " \\ , \\ \\ [\\theta]\\theta^*(0) = \\theta_0 \\ , \\ \\ \\frac{[\\theta]}{[t]} \\frac{d\\theta^*}{dt^*}(0) = \\omega_0\n",
    "$$\n",
    "\n",
    "Divide by the second order term and simplify\n",
    "\n",
    "$$\n",
    "\\frac{d^2 \\theta^*}{dt^{*2}} + \\frac{g [t]^2}{L [\\theta]} \\sin([\\theta] \\theta^*) = 0\n",
    " \\ , \\ \\ \\theta^*(0) = \\frac{\\theta_0}{[\\theta]} \\ , \\ \\ \\frac{d\\theta^*}{dt^*}(0) = \\omega_0 \\frac{[t]}{[\\theta]}\n",
    "$$\n",
    "\n",
    "There are several choices and we choose $[\\theta] = 1$ and $[t] = \\sqrt{\\frac{L}{g}}$ and we arrive at the equation\n",
    "\n",
    "$$\n",
    "\\frac{d^2 \\theta}{dt^{*2}} + \\sin \\theta = 0\n",
    " \\ , \\ \\ \\theta(0) = \\theta_0 \\ , \\ \\ \\frac{d\\theta}{dt^*}(0) = \\omega_0 \\sqrt{\\frac{L}{g}}\n",
    "$$\n",
    "\n",
    "Introduce new variables $u_0 = \\theta$ and $u_1 = \\frac{d\\theta}{dt^*}$ and write\n",
    "\n",
    "$$\n",
    "\\begin{align*}\n",
    "\\frac{d u_0}{dt^*} &= u_1 \\\\\n",
    "\\frac{d u_1}{dt^*} &= -\\sin u_0\n",
    "\\end{align*}\n",
    "$$"
   ]
  },
  {
   "cell_type": "markdown",
   "id": "59c10cb1-a8ca-4e8f-8905-a7891a266563",
   "metadata": {},
   "source": [
    "Plot solutions for different initial conditions:"
   ]
  },
  {
   "cell_type": "code",
   "execution_count": 28,
   "id": "1d16ddbd-e2b7-4afc-bc0d-95cc06e44f5a",
   "metadata": {
    "tags": []
   },
   "outputs": [
    {
     "data": {
      "image/png": "[encoded data removed]",
      "text/plain": [
       "<Figure size 1000x400 with 1 Axes>"
      ]
     },
     "metadata": {},
     "output_type": "display_data"
    }
   ],
   "source": [
    "f = lambda u,t: np.array([u[1],-np.sin(u[0])])\n",
    "u0 = [0.,1.99999]\n",
    "t = np.linspace(0,100,1000)\n",
    "u = spi.odeint(f,u0,t)\n",
    "\n",
    "plt.figure(figsize=(10,4))\n",
    "plt.plot(t,u[:,0]), plt.grid(True)\n",
    "plt.show()"
   ]
  },
  {
   "cell_type": "markdown",
   "id": "5bbc12e7-38d1-45c1-a299-8666e6ed35e0",
   "metadata": {},
   "source": [
    "## Analysis\n"
   ]
  },
  {
   "cell_type": "markdown",
   "id": "e93f6939-7728-45cb-a3e5-cfce7b8c7e2b",
   "metadata": {},
   "source": [
    "*Under construction*"
   ]
  }
 ],
 "metadata": {
  "kernelspec": {
   "display_name": "Python 3 (ipykernel)",
   "language": "python",
   "name": "python3"
  },
  "language_info": {
   "codemirror_mode": {
    "name": "ipython",
    "version": 3
   },
   "file_extension": ".py",
   "mimetype": "text/x-python",
   "name": "python",
   "nbconvert_exporter": "python",
   "pygments_lexer": "ipython3",
   "version": "3.10.12"
  }
 },
 "nbformat": 4,
 "nbformat_minor": 5
}
