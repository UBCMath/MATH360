{
 "cells": [
  {
   "cell_type": "markdown",
   "id": "6c0f7d96-cfde-4597-a052-6ececb64e0c6",
   "metadata": {},
   "source": [
    "# Planetary Orbits"
   ]
  },
  {
   "cell_type": "code",
   "execution_count": 1,
   "id": "d9466e1c-c92d-4234-a72e-38656047f43f",
   "metadata": {
    "tags": []
   },
   "outputs": [],
   "source": [
    "import numpy as np\n",
    "import matplotlib.pyplot as plt\n",
    "import scipy.integrate as spi"
   ]
  },
  {
   "cell_type": "markdown",
   "id": "c62c848a-ba22-4c19-b2d3-88bbdba4ccf1",
   "metadata": {},
   "source": [
    "## Problem Statement\n",
    "\n",
    "How does a planet move around a star under the force of gravity?"
   ]
  },
  {
   "cell_type": "markdown",
   "id": "0082e97d-7d17-4ad1-8217-acd2252a0b4f",
   "metadata": {},
   "source": [
    "## Variables and Parameters\n",
    "\n",
    "| Description | Symbol | Dimensions | Type |\n",
    "| :---: | :---: | :---: | :---: |\n",
    "| position of planet in $x$-direction | $x$ | L | dependent variable |\n",
    "| position of planet in $y$-direction | $y$ | L | dependent variable |\n",
    "| time | $t$ | T | independent variable |\n",
    "| mass of the planet | $m_p$ | M | parameter |\n",
    "| mass of the star | $m_s$ | M | parameter |\n",
    "| gravitational constant | $G$ | L<sup>3</sup>T<sup>-2</sup>M<sup>-1</sup> | parameter |"
   ]
  },
  {
   "cell_type": "markdown",
   "id": "a8339ac0-d4f7-4bd5-8fae-1f85c15ae065",
   "metadata": {},
   "source": [
    "## Assumptions and Constraints\n",
    "\n",
    "* planet moves in the $xy$-plane only\n",
    "* the position of the star is fixed at the origin\n",
    "* no drag, friction or damping\n",
    "* planet starts on the $x$-axis at $y(0) = 0$\n",
    "* planet starts with velocity in $y$-direction only, $x'(0) = 0$"
   ]
  },
  {
   "cell_type": "markdown",
   "id": "07cf7c27-bd4f-42b7-9f5a-9497e41a779c",
   "metadata": {},
   "source": [
    "## Model Construction\n",
    "\n",
    "The unit vector that points from the planet to the star is\n",
    "\n",
    "$$\n",
    "\\left( -\\frac{x}{\\sqrt{x^2 + y^2}} , -\\frac{y}{\\sqrt{x^2 + y^2}} \\right)\n",
    "$$\n",
    "\n",
    "The gravitational force vector acting on the planet is given by\n",
    "\n",
    "$$\n",
    "\\mathbf{F} = \\frac{Gm_pm_s}{x^2 + y^2} \\left( -\\frac{x}{\\sqrt{x^2 + y^2}} , -\\frac{y}{\\sqrt{x^2 + y^2}} \\right)\n",
    "$$\n",
    "\n",
    "Apply Newton's second law of motion to get a second order, 2-dimenisional, nonlinear system of differential equations\n",
    "\n",
    "$$\n",
    "\\begin{align*}\n",
    "m_p \\frac{d^2x}{dt^2} &= -\\frac{G m_p m_s x}{\\left( x^2 + y^2 \\right)^{3/2}} \\\\\n",
    "m_p \\frac{d^2y}{dt^2} &= -\\frac{G m_p m_s y}{\\left( x^2 + y^2 \\right)^{3/2}}\n",
    "\\end{align*}\n",
    "$$\n",
    "\n",
    "with initial conditions\n",
    "\n",
    "$$\n",
    "x(0) = x_0 \\ , \\ \\ y(0) = 0 \\ , \\ \\ x'(0) = v_{x,0} \\ , \\ \\ y'(0) = v_{y,0} \\ , \\ \\ \n",
    "$$"
   ]
  },
  {
   "cell_type": "markdown",
   "id": "e49ed017-0fdc-4bd6-8116-f8b8b8236921",
   "metadata": {},
   "source": [
    "Apply nondimensionalization procedure. Let $x = [x]x^*$, $y = [y]y^*$ and $t = [t]t^*$. The symmetry of the equations suggests that we should choose the same scaling factor $[c] = [x] = [y]$ for $x$ and $y$. Make the substitutions\n",
    "\n",
    "$$\n",
    "\\begin{align*}\n",
    "\\frac{[c]}{[t]^2} \\frac{d^2x^*}{dt^{*2}} &= -\\frac{G m_s [c]x^*}{[c]^3 \\left( x^{*2} + y^{*2} \\right)^{3/2}} \\\\\n",
    "\\frac{[c]}{[t]^2} \\frac{d^2y^*}{dt^{*2}} &= -\\frac{G m_s [c]y^*}{[c]^3 \\left( x^{*2} + y^{*2} \\right)^{3/2}} \\\\\n",
    "[c]x^*(0) &= x_0 \\ , \\ \\ [c]y^*(0) = 0 \\\\\n",
    "\\frac{[c]}{[t]} \\frac{dx^*}{dt^*}(0) &= 0 \\ , \\ \\ \\frac{[c]}{[t]} \\frac{dy^*}{dt^*}(0) = v_{y,0}\n",
    "\\end{align*}\n",
    "$$\n",
    "\n",
    "Divide by highest order term and simplify\n",
    "\n",
    "$$\n",
    "\\begin{align*}\n",
    "\\frac{d^2x^*}{dt^{*2}} &= -\\frac{G m_s [t]^2 x^*}{[c]^3 \\left( x^{*2} + y^{*2} \\right)^{3/2}} \\\\\n",
    "\\frac{d^2y^*}{dt^{*2}} &= -\\frac{G m_s [t]^2y^*}{[c]^3 \\left( x^{*2} + y^{*2} \\right)^{3/2}} \\\\\n",
    "x^*(0) &= \\frac{x_0}{[c]} \\ , \\ \\ y^*(0) = 0 \\\\\n",
    "\\frac{dx^*}{dt^*}(0) &= 0 \\ , \\ \\ \\frac{dy^*}{dt^*}(0) = \\frac{[t]}{[c]} v_{y,0}\n",
    "\\end{align*}\n",
    "$$\n",
    "\n",
    "There are several choices we can make and so we choose\n",
    "\n",
    "$$\n",
    "[c] = x_0 \\hspace{10mm} \\text{and} \\hspace{10mm} [t] = \\frac{x_0^{3/2}}{\\sqrt{Gm_s}}\n",
    "$$\n",
    "\n",
    "and we get\n",
    "\n",
    "$$\n",
    "\\begin{align*}\n",
    "\\frac{d^2x^*}{dt^{*2}} &= -\\frac{x^*}{\\left( x^{*2} + y^{*2} \\right)^{3/2}} \\\\\n",
    "\\frac{d^2y^*}{dt^{*2}} &= -\\frac{y^*}{\\left( x^{*2} + y^{*2} \\right)^{3/2}} \\\\\n",
    "x^*(0) &= 1 \\ , \\ \\ y^*(0) = 0 \\\\\n",
    "\\frac{dx^*}{dt^*}(0) &= 0 \\ , \\ \\ \\frac{dy^*}{dt^*}(0) = v_{y,0} \\sqrt{\\frac{x_0}{Gm_s}}\n",
    "\\end{align*}\n",
    "$$"
   ]
  },
  {
   "cell_type": "markdown",
   "id": "e2763758-ab82-412e-ac42-0af8ca984e6e",
   "metadata": {},
   "source": [
    "Introduce new variables $u_0 = x^*$, $u_1 = \\frac{dx}{dt^*}$, $u_2 = y$, and $u_3 = \\frac{dy}{dt^*}$ to find\n",
    "\n",
    "$$\n",
    "\\begin{align*}\n",
    "\\frac{du_0}{dt^*} &= u_1 \\\\\n",
    "\\frac{du_1}{dt^*} &= -\\frac{u_0}{\\left( u_0^2 + u_2^2 \\right)^{3/2}} \\\\\n",
    "\\frac{du_2}{dt^*} &= u_3 \\\\\n",
    "\\frac{du_3}{dt^*} &= -\\frac{u_2}{\\left( u_0^2 + u_2^2 \\right)^{3/2}}\n",
    "\\end{align*}\n",
    "$$\n",
    "\n",
    "Plot some trajectories!"
   ]
  },
  {
   "cell_type": "code",
   "execution_count": 56,
   "id": "7a7a7cca-c15d-4055-b2b0-6cdbaf840d2e",
   "metadata": {
    "tags": []
   },
   "outputs": [
    {
     "data": {
      "image/png": "[encoded data removed]",
      "text/plain": [
       "<Figure size 640x480 with 1 Axes>"
      ]
     },
     "metadata": {},
     "output_type": "display_data"
    }
   ],
   "source": [
    "def f(u,t):\n",
    "    dudt = np.array([0.,0.,0.,0.])\n",
    "    d3 = np.sqrt(u[0]**2 + u[2]**2)**3\n",
    "    dudt[0] = u[1]\n",
    "    dudt[1] = -u[0]/d3\n",
    "    dudt[2] = u[3]\n",
    "    dudt[3] = -u[2]/d3\n",
    "    return dudt\n",
    "\n",
    "u0 = [1.,0.,0.,1.1]\n",
    "t = np.linspace(0,10,200)\n",
    "u = spi.odeint(f,u0,t)\n",
    "\n",
    "plt.plot(u[:,0],u[:,2],0,0,'r*'), plt.grid(True), plt.axis('equal')\n",
    "plt.show()"
   ]
  },
  {
   "cell_type": "markdown",
   "id": "0cdde472-9e80-4cc6-b101-79226692cdc0",
   "metadata": {},
   "source": [
    "## Analysis\n",
    "\n",
    "*Under construction*"
   ]
  }
 ],
 "metadata": {
  "kernelspec": {
   "display_name": "Python 3 (ipykernel)",
   "language": "python",
   "name": "python3"
  },
  "language_info": {
   "codemirror_mode": {
    "name": "ipython",
    "version": 3
   },
   "file_extension": ".py",
   "mimetype": "text/x-python",
   "name": "python",
   "nbconvert_exporter": "python",
   "pygments_lexer": "ipython3",
   "version": "3.10.12"
  }
 },
 "nbformat": 4,
 "nbformat_minor": 5
}
