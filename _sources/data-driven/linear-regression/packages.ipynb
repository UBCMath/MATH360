{
 "cells": [
  {
   "cell_type": "markdown",
   "id": "9c3f9a9e-39df-4f3e-bcc7-e4053f371b18",
   "metadata": {},
   "source": [
    "# Regression Packages\n",
    "\n",
    "There are many Python packages to compute and analyze linear regression models. Let's look at the packages `scipy.stats`, `sklearn.linear_model`, and `statsmodels`."
   ]
  },
  {
   "cell_type": "code",
   "execution_count": 1,
   "id": "a74cac67-c40c-46d2-bb5d-78e1a0b9ddbb",
   "metadata": {
    "tags": []
   },
   "outputs": [],
   "source": [
    "import numpy as np\n",
    "import matplotlib.pyplot as plt\n",
    "import scipy.linalg as la"
   ]
  },
  {
   "cell_type": "markdown",
   "id": "5f6d16a7-ff75-493f-8d1d-6c9b54a25bef",
   "metadata": {},
   "source": [
    "## Example: REALTOR.ca\n",
    "\n",
    "Let's compute linear regression models for the same example using each of the different Python packages and compare the results. The data below was taken from [REALTOR.ca](https://www.realtor.ca) for listings in the Kitsilano neighborhood of Vancouver. The variables $x_1,x_2,x_3$ correspond to the size (in square feet, sqft), the number of bedrooms and the number of bathrooms respectively. The dependent variable $y$ is the listing price."
   ]
  },
  {
   "cell_type": "code",
   "execution_count": 2,
   "id": "07aea993-634c-4763-9dfe-01c1b3ada2bf",
   "metadata": {
    "tags": []
   },
   "outputs": [],
   "source": [
    "x1 = np.array([1050,943,1557,662,829,724,482,702,733,637,819,802,771,779,823,924,1088,1018])\n",
    "x2 = np.array([2,2,2,1,2,1,1,1,2,1,2,2,1,2,2,2,2,2])\n",
    "x3 = np.array([2,2,2,1,2,1,1,1,1,1,1,1,1,2,2,2,2,2])\n",
    "y  = np.array([1.39,1.079,1.398,0.859,1.098,0.619,0.625,0.639,0.728888,0.778,0.749888,0.825,0.858,0.899,0.8999,0.999888,1.099,1.149])"
   ]
  },
  {
   "cell_type": "markdown",
   "id": "ab52d7eb-41db-49c3-af14-721840e8657c",
   "metadata": {},
   "source": [
    "In a previous section, we computed optimal parameters for the linear regression model by explicitly constructing and solving the the normal equations $X^T X \\boldsymbol{\\beta} = X^T \\mathbf{y}$.\n",
    "\n",
    "Let's construct the linear regression model $y = \\beta_0 + \\beta_1 x_1 + \\varepsilon$ which just uses the size of the property."
   ]
  },
  {
   "cell_type": "code",
   "execution_count": 3,
   "id": "7dd350d4-5fc1-4780-b794-719d311e4149",
   "metadata": {
    "tags": []
   },
   "outputs": [
    {
     "name": "stdout",
     "output_type": "stream",
     "text": [
      "[0.18918767 0.00086607]\n"
     ]
    }
   ],
   "source": [
    "N = len(y)\n",
    "X = np.column_stack([np.ones(N),x1])\n",
    "beta = la.solve(X.T@X,X.T@y)\n",
    "print(beta)"
   ]
  },
  {
   "cell_type": "code",
   "execution_count": 5,
   "id": "a3ca9806-ccd2-47c8-9c63-92451e7f7fe8",
   "metadata": {
    "tags": []
   },
   "outputs": [
    {
     "name": "stdout",
     "output_type": "stream",
     "text": [
      "R2 = 0.7235562224127696\n"
     ]
    }
   ],
   "source": [
    "residuals = y - (beta[0] + beta[1]*x1)\n",
    "R2 = 1 - np.sum(residuals**2)/np.sum((y - np.mean(y))**2)\n",
    "print('R2 =',R2)"
   ]
  },
  {
   "cell_type": "markdown",
   "id": "9b8b1832-3c74-4b8a-95b4-f45d6efac4c7",
   "metadata": {},
   "source": [
    "Let's also construct the linear regression model $y = \\beta_0 + \\beta_1 x_1 + \\beta_2 x_2 + \\beta_3 x_3 + \\varepsilon$."
   ]
  },
  {
   "cell_type": "code",
   "execution_count": 11,
   "id": "c8107d01-d5e9-4485-a683-46302df2aed5",
   "metadata": {
    "tags": []
   },
   "outputs": [
    {
     "name": "stdout",
     "output_type": "stream",
     "text": [
      "[ 0.15375002  0.00059475 -0.0341029   0.21569858]\n"
     ]
    }
   ],
   "source": [
    "N = len(y)\n",
    "X = np.column_stack([np.ones(N),x1,x2,x3])\n",
    "beta = la.solve(X.T@X,X.T@y)\n",
    "print(beta)"
   ]
  },
  {
   "cell_type": "code",
   "execution_count": 12,
   "id": "46d64baa-b954-4963-a0d4-de0e0084bbd4",
   "metadata": {
    "tags": []
   },
   "outputs": [
    {
     "name": "stdout",
     "output_type": "stream",
     "text": [
      "R2 = 0.8302699983155556 R2adj = 0.793899283668889\n"
     ]
    }
   ],
   "source": [
    "residuals = y - (beta[0] + beta[1]*x1 + beta[2]*x2 + beta[3]*x3)\n",
    "R2 = 1 - np.sum(residuals**2)/np.sum((y - np.mean(y))**2)\n",
    "R2adj = 1 - (1 - R2)*(N - 1)/(N - 3 - 1)\n",
    "print('R2 =',R2,'R2adj =',R2adj)"
   ]
  },
  {
   "cell_type": "markdown",
   "id": "2699a2f5-7dfa-4f04-9703-fb01d20451b2",
   "metadata": {},
   "source": [
    "## `scipy.stats`\n",
    "\n",
    "The package `scipy.stats` includes a function `linregress` which computes a linear regression for only a single feature $p=1$. The functions returns 5 values:\n",
    "\n",
    "* `beta1` is the slope\n",
    "* `beta0` is the intercept\n",
    "* `r` is the square root of $R^2$ (called the *Pearson correlation coefficient*)\n",
    "* `pvalue` is the $p$_value for a hypothesis test whose null hypothesis is that the slope is zero\n",
    "* `stderr` is the standard error of the estimated slope"
   ]
  },
  {
   "cell_type": "code",
   "execution_count": 13,
   "id": "b8c43479-e99e-4f8e-8ab0-0351a3661fc9",
   "metadata": {
    "tags": []
   },
   "outputs": [
    {
     "name": "stdout",
     "output_type": "stream",
     "text": [
      "0.18918767130612613 0.0008660748169516868\n",
      "0.7235562224127696\n"
     ]
    }
   ],
   "source": [
    "from scipy.stats import linregress\n",
    "\n",
    "beta1, beta0, r, pvalue, stderr = linregress(x1,y)\n",
    "print(beta0,beta1)\n",
    "print(r**2)"
   ]
  },
  {
   "cell_type": "markdown",
   "id": "8b71417b-0bc5-4e8c-a220-2f8726e2ed03",
   "metadata": {},
   "source": [
    "The results match our explciit calculations above exactly!"
   ]
  },
  {
   "cell_type": "markdown",
   "id": "4266f8ac-ddfe-4f60-ab07-b2557e11838f",
   "metadata": {},
   "source": [
    ":::{seealso}\n",
    "Check out the [documentation](https://docs.scipy.org/doc/scipy/reference/generated/scipy.stats.linregress.html) to learn more about `scipy.stats.linregress`.\n",
    ":::"
   ]
  },
  {
   "cell_type": "markdown",
   "id": "96c6ef20-8476-4837-bf02-3ed98e08d5af",
   "metadata": {},
   "source": [
    "## `sklearn.linear_model`\n",
    "\n",
    "The package `sklearn` includes objects and methods for all kinds of machine learning models. The subpackage `sklearn.linar_model` includes an object `LinearRegression` to compute linear regression models."
   ]
  },
  {
   "cell_type": "code",
   "execution_count": 14,
   "id": "bfa4ff32-43fb-457a-8642-cb37e54e08a0",
   "metadata": {
    "tags": []
   },
   "outputs": [],
   "source": [
    "from sklearn.linear_model import LinearRegression\n",
    "\n",
    "X = np.column_stack([x1,x2,x3])\n",
    "Y = y.reshape((len(y),1))\n",
    "model = LinearRegression().fit(X,Y)"
   ]
  },
  {
   "cell_type": "markdown",
   "id": "95aec76d-adbe-457e-ba7c-29d1e14ee4f0",
   "metadata": {},
   "source": [
    "The result is an object that we have named `model` which has several attributes. The attribute `model.intercept_` corresponds to $\\beta_0$."
   ]
  },
  {
   "cell_type": "code",
   "execution_count": 15,
   "id": "679bbe2d-0471-4c59-ac40-025773b33fe0",
   "metadata": {
    "tags": []
   },
   "outputs": [
    {
     "data": {
      "text/plain": [
       "array([0.15375002])"
      ]
     },
     "execution_count": 15,
     "metadata": {},
     "output_type": "execute_result"
    }
   ],
   "source": [
    "model.intercept_"
   ]
  },
  {
   "cell_type": "markdown",
   "id": "d0d7490f-398f-4617-a28b-d85b82694b82",
   "metadata": {},
   "source": [
    "The attribute `model.coeff_` corresponds to the vector of parameters $[\\beta_1,\\beta_2,\\beta_3]$."
   ]
  },
  {
   "cell_type": "code",
   "execution_count": 16,
   "id": "2d4ac0dc-0cf6-4567-bf9a-74a8fe68f6ee",
   "metadata": {
    "tags": []
   },
   "outputs": [
    {
     "data": {
      "text/plain": [
       "array([[ 0.00059475, -0.0341029 ,  0.21569858]])"
      ]
     },
     "execution_count": 16,
     "metadata": {},
     "output_type": "execute_result"
    }
   ],
   "source": [
    "model.coef_"
   ]
  },
  {
   "cell_type": "markdown",
   "id": "d57df8ce-b11c-41c9-95f1-b450a02d4122",
   "metadata": {},
   "source": [
    "The method `model.score(X,Y)` computes $R^2$."
   ]
  },
  {
   "cell_type": "code",
   "execution_count": 17,
   "id": "43ad695b-a348-4a6f-97fc-d80d4d84607f",
   "metadata": {
    "tags": []
   },
   "outputs": [
    {
     "data": {
      "text/plain": [
       "0.8302699983155557"
      ]
     },
     "execution_count": 17,
     "metadata": {},
     "output_type": "execute_result"
    }
   ],
   "source": [
    "model.score(X,Y)"
   ]
  },
  {
   "cell_type": "markdown",
   "id": "8a206514-4f6e-44bc-b781-d73000004349",
   "metadata": {},
   "source": [
    "The results match our explicitly computations above exactly!"
   ]
  },
  {
   "cell_type": "markdown",
   "id": "38aa5cf5-06cd-4b1c-8733-0bbfe2e46a20",
   "metadata": {},
   "source": [
    "Use the method `model.predict()` to predict the listing price of a 1000 sqrt property with 2 bedrooms and 1 bathroom."
   ]
  },
  {
   "cell_type": "code",
   "execution_count": 25,
   "id": "253e8eef-de87-4e37-a63a-e3048de64f0e",
   "metadata": {
    "tags": []
   },
   "outputs": [
    {
     "data": {
      "text/plain": [
       "array([[0.89599539]])"
      ]
     },
     "execution_count": 25,
     "metadata": {},
     "output_type": "execute_result"
    }
   ],
   "source": [
    "model.predict([[1000,2,1]])"
   ]
  },
  {
   "cell_type": "markdown",
   "id": "98c1ebfc-3569-4324-88c9-aa833598572f",
   "metadata": {},
   "source": [
    "This is the same as computing explicitly:"
   ]
  },
  {
   "cell_type": "code",
   "execution_count": 26,
   "id": "6e568187-9996-4511-bfb1-9ec76dcc816f",
   "metadata": {
    "tags": []
   },
   "outputs": [
    {
     "data": {
      "text/plain": [
       "array([0.89599539])"
      ]
     },
     "execution_count": 26,
     "metadata": {},
     "output_type": "execute_result"
    }
   ],
   "source": [
    "model.intercept_ + model.coef_[0,0]*1000 + model.coef_[0,1]*2 + model.coef_[0,2]*1"
   ]
  },
  {
   "cell_type": "markdown",
   "id": "faa96edb-9988-4b5f-a1b1-20c7b9c5f61a",
   "metadata": {},
   "source": [
    ":::{seealso}\n",
    "Check out the [documentation](https://scikit-learn.org/stable/modules/classes.html#module-sklearn.linear_model) to learn more about `sklearn.linear_model`.\n",
    ":::"
   ]
  },
  {
   "cell_type": "markdown",
   "id": "f4e9b447-e715-4faa-9227-e11a5ab53ce4",
   "metadata": {},
   "source": [
    "## `statsmodels`\n",
    "\n",
    "The package `statsmodels` includes many functions for statistical analysis. Let's use the fucntion `statsmodels.api.OLS` to compute linear regression models."
   ]
  },
  {
   "cell_type": "code",
   "execution_count": 50,
   "id": "ab02670f-9db7-430b-b2a3-249b3b575c26",
   "metadata": {
    "tags": []
   },
   "outputs": [],
   "source": [
    "import statsmodels.api as sm\n",
    "\n",
    "X = np.column_stack([np.ones(N),x1,x2,x3])\n",
    "model = sm.OLS(y,X).fit()"
   ]
  },
  {
   "cell_type": "markdown",
   "id": "85562422-4418-4f66-a935-ca5c5e2cd197",
   "metadata": {},
   "source": [
    "The result is an object that we have named `model` which has several attributes. The attribute `model.params` corresponds to the vector of parameters $[\\beta_0,\\beta_1,\\beta_2,\\beta_3]$."
   ]
  },
  {
   "cell_type": "code",
   "execution_count": 51,
   "id": "9c071f47-7a89-4d10-b4b6-cc52b69da46b",
   "metadata": {
    "tags": []
   },
   "outputs": [
    {
     "data": {
      "text/plain": [
       "array([ 0.15375002,  0.00059475, -0.0341029 ,  0.21569858])"
      ]
     },
     "execution_count": 51,
     "metadata": {},
     "output_type": "execute_result"
    }
   ],
   "source": [
    "model.params"
   ]
  },
  {
   "cell_type": "code",
   "execution_count": 56,
   "id": "bf59ac4d-a7bd-4d65-964a-f338af455bbc",
   "metadata": {
    "tags": []
   },
   "outputs": [
    {
     "data": {
      "text/plain": [
       "0.8302699983155557"
      ]
     },
     "execution_count": 56,
     "metadata": {},
     "output_type": "execute_result"
    }
   ],
   "source": [
    "model.rsquared"
   ]
  },
  {
   "cell_type": "code",
   "execution_count": 57,
   "id": "5f4f6afe-6f39-4ff2-a7bb-6fc88caec737",
   "metadata": {
    "tags": []
   },
   "outputs": [
    {
     "data": {
      "text/plain": [
       "0.7938992836688891"
      ]
     },
     "execution_count": 57,
     "metadata": {},
     "output_type": "execute_result"
    }
   ],
   "source": [
    "model.rsquared_adj"
   ]
  },
  {
   "cell_type": "markdown",
   "id": "63935c38-e6a4-4b4e-b4e9-981051f03f2d",
   "metadata": {},
   "source": [
    "Use the method `model.predict()` to predict the listing price of a 1000 sqrt property with 2 bedrooms and 1 bathroom."
   ]
  },
  {
   "cell_type": "code",
   "execution_count": 60,
   "id": "8fb9ee60-8562-4231-ba77-56118bfc1d09",
   "metadata": {
    "tags": []
   },
   "outputs": [
    {
     "data": {
      "text/plain": [
       "array([0.89599539])"
      ]
     },
     "execution_count": 60,
     "metadata": {},
     "output_type": "execute_result"
    }
   ],
   "source": [
    "model.predict([1,1000,2,1])"
   ]
  },
  {
   "cell_type": "markdown",
   "id": "749078a7-c1fa-45d9-b3f1-d588bbb4255e",
   "metadata": {},
   "source": [
    "Note that we have to include the value $x_0 = 1$ as if the model has the form $y = \\beta_0 x_0 + \\beta_1 x_1 + \\beta_1 x_2 + \\beta_3 x_3 + \\varepsilon$."
   ]
  },
  {
   "cell_type": "markdown",
   "id": "52d0eae6-c894-4646-bafa-a029e7fdc593",
   "metadata": {},
   "source": [
    "This is the same as computing explicitly:"
   ]
  },
  {
   "cell_type": "code",
   "execution_count": 62,
   "id": "9a9a0555-5bda-4b35-a23d-d4b5928c75ed",
   "metadata": {
    "tags": []
   },
   "outputs": [
    {
     "data": {
      "text/plain": [
       "0.895995393498798"
      ]
     },
     "execution_count": 62,
     "metadata": {},
     "output_type": "execute_result"
    }
   ],
   "source": [
    "model.params[0]*1 + model.params[1]*1000 + model.params[2]*2 + model.params[3]*1"
   ]
  },
  {
   "cell_type": "markdown",
   "id": "fc1f8e25-30e6-4bbf-91cb-8bb30ba7f7b1",
   "metadata": {},
   "source": [
    ":::{seealso}\n",
    "Check out the [documentation](https://www.statsmodels.org/stable/regression.html) to learn more about `statsmodels`.\n",
    ":::"
   ]
  }
 ],
 "metadata": {
  "kernelspec": {
   "display_name": "Python 3 (ipykernel)",
   "language": "python",
   "name": "python3"
  },
  "language_info": {
   "codemirror_mode": {
    "name": "ipython",
    "version": 3
   },
   "file_extension": ".py",
   "mimetype": "text/x-python",
   "name": "python",
   "nbconvert_exporter": "python",
   "pygments_lexer": "ipython3",
   "version": "3.10.12"
  }
 },
 "nbformat": 4,
 "nbformat_minor": 5
}
