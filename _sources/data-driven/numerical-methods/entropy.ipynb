{
 "cells": [
  {
   "cell_type": "markdown",
   "id": "1953731d-1547-4f3e-90cf-e316400ca91d",
   "metadata": {},
   "source": [
    "# Optimizing Cross-Entropy"
   ]
  },
  {
   "cell_type": "code",
   "execution_count": 13,
   "id": "a11a2832-e9f5-4d33-9703-cc48e712c403",
   "metadata": {
    "tags": []
   },
   "outputs": [],
   "source": [
    "import numpy as np\n",
    "import matplotlib.pyplot as plt\n",
    "from sklearn.linear_model import LogisticRegression\n",
    "from scipy.optimize import minimize"
   ]
  },
  {
   "cell_type": "markdown",
   "id": "a455e121-17ea-4a03-9197-0a15879b2464",
   "metadata": {},
   "source": [
    "## Regularized Cross-Entropy\n",
    "\n",
    "Consider $N$ points $(\\mathbf{x}_0,y_0),\\dots,(\\mathbf{x}_{N-1},y_{N-1})$ where $\\mathbf{x}_k \\in \\mathbb{R}^n$ for each $k$, and $y_k = 0$ or $y_k = 1$ for each $k$. The goal of logistic regression is to compute parameters $\\mathbf{W} \\in \\mathbb{R}^n$ and $b \\in \\mathbb{R}$ which minimize the regularized cross entropy function\n",
    "\n",
    "$$\n",
    "C(\\mathbf{W},b,\\alpha) = -\\frac{1}{N} \\sum_{k=0}^{N-1} \\left( y_k \\log(\\sigma(\\mathbf{x}_k; \\mathbf{W},b)) + (1 - y_k) \\log(1 - \\sigma(\\mathbf{x}_k; \\mathbf{W},b)) \\right) + \\alpha \\Vert \\mathbf{W} \\Vert^2\n",
    "$$\n",
    "\n",
    "where $\\alpha > 0$ is the regularization parameter and\n",
    "\n",
    "$$\n",
    "\\sigma(\\mathbf{x}; \\mathbf{W},b) = \\frac{1}{1 + e^{- \\left( \\langle \\mathbf{W} , \\mathbf{x} \\rangle + b \\right)}}\n",
    "$$"
   ]
  },
  {
   "cell_type": "markdown",
   "id": "f6dfa422-444f-4a05-ab1e-1fcc9f506112",
   "metadata": {},
   "source": [
    "## Gradient of Cross-Entropy\n",
    "\n",
    "We need to compute the gradient of $C(\\mathbf{W},b,\\alpha)$ to implement the gradient descent method to find optimal parameters for logistic regression. Let's begin with the derivatives of the logistic function $\\sigma(\\mathbf{x}; \\mathbf{W},b)$ where $\\mathbf{x} = (x_0,\\dots,x_{n-1})$ and $\\mathbf{W} = (W_0,\\dots,W_{n-1})$."
   ]
  },
  {
   "cell_type": "markdown",
   "id": "a899f3b1-562d-43d2-8d3b-f895ef113bb0",
   "metadata": {},
   "source": [
    "Let $z = \\langle \\mathbf{W} , \\mathbf{x} \\rangle + b$ and $\\sigma(z) = \\sigma(\\mathbf{x}; W,b)$. Recall\n",
    "\n",
    "$$\n",
    "\\sigma'(z) = \\sigma(z) (1 - \\sigma(z))\n",
    "$$\n",
    "\n",
    "Compute and simplify the partial derivative with respect to $W_{\\ell}$\n",
    "\n",
    "$$\n",
    "\\frac{\\partial \\sigma}{\\partial W_{\\ell}} = \\sigma'(z) \\frac{\\partial z}{\\partial W_{\\ell}} = \\sigma(z) (1 - \\sigma(z)) x_{\\ell}\n",
    "$$\n",
    "\n",
    "where $x_{\\ell}$ is the entry of $\\mathbf{x}$ at index $\\ell$. Therefore\n",
    "\n",
    "$$\n",
    "\\frac{\\partial \\sigma}{\\partial W_{\\ell}} = x_{\\ell} \\sigma(\\mathbf{x}; \\mathbf{W},b) (1 - \\sigma(\\mathbf{x}; \\mathbf{W},b))\n",
    "$$\n",
    "\n",
    "Similarly\n",
    "\n",
    "$$\n",
    "\\frac{\\partial \\sigma}{\\partial b} = \\sigma'(z) \\frac{\\partial z}{\\partial b} = \\sigma(\\mathbf{x}; \\mathbf{W},b) (1 - \\sigma(\\mathbf{x}; \\mathbf{W},b))\n",
    "$$"
   ]
  },
  {
   "cell_type": "markdown",
   "id": "71d4daa5-267f-4330-ba65-c6050651b130",
   "metadata": {},
   "source": [
    "Compute the partial derivative of $C(\\mathbf{W},b,\\alpha)$ with respect to $W_{\\ell}$\n",
    "\n",
    "$$\n",
    "\\begin{align*}\n",
    "\\frac{\\partial C}{\\partial W_{\\ell}} &= -\\frac{1}{N} \\sum_{k=0}^{N-1} \\left( y_k x_{k,\\ell} (1 - \\sigma(\\mathbf{x}_k; \\mathbf{W},b)) - (1 - y_k) x_{k,\\ell} \\sigma(\\mathbf{x}_k; \\mathbf{W},b) \\right) + 2 \\alpha W_{\\ell} \\\\\n",
    "&= -\\frac{1}{N} \\sum_{k=0}^{N-1} x_{k,\\ell} \\left( y_k - \\sigma(\\mathbf{x}_k; \\mathbf{W},b) \\right) + 2 \\alpha W_{\\ell}\n",
    "\\end{align*}\n",
    "$$\n",
    "\n",
    "where $x_{k,\\ell}$ is the entry of $\\mathbf{x}_k$ at index $\\ell$. Similarly\n",
    "\n",
    "$$\n",
    "\\frac{\\partial C}{\\partial b} = -\\frac{1}{N} \\sum_{k=0}^{N-1} \\left( y_k - \\sigma(\\mathbf{x}_k; \\mathbf{W},b) \\right)\n",
    "$$\n",
    "\n",
    "Note that we can write these derivatives in matrix notation as\n",
    "\n",
    "$$\n",
    "\\left( \\frac{\\partial C}{\\partial W_0} , \\dots, \\frac{\\partial C}{\\partial W_{N-1}} \\right) = -\\frac{1}{N} X^T (\\mathbf{y} - \\sigma(X; \\mathbf{W},b)) + 2 \\alpha \\mathbf{W}\n",
    "$$\n",
    "\n",
    "where\n",
    "\n",
    "$$\n",
    "X = \\begin{bmatrix} & \\mathbf{x}_0 & \\\\ & \\mathbf{x}_1 & \\\\ & \\vdots & \\\\ & \\mathbf{x}_{N-1} & \\end{bmatrix}\n",
    "\\hspace{20mm}\n",
    "\\mathbf{y} = \\begin{bmatrix} y_0 \\\\ y_1 \\\\ \\vdots \\\\ y_{N-1} \\end{bmatrix}\n",
    "\\hspace{20mm}\n",
    "\\sigma(X; \\mathbf{W},b) = \\begin{bmatrix} \\sigma(\\mathbf{x}_0; \\mathbf{W},b) \\\\ \\sigma(\\mathbf{x}_1; \\mathbf{W},b) \\\\ \\vdots \\\\ \\sigma(\\mathbf{x}_{N-1}; \\mathbf{W},b) \\end{bmatrix}\n",
    "$$"
   ]
  },
  {
   "cell_type": "markdown",
   "id": "06949420-6719-4baa-913f-f29663000b36",
   "metadata": {},
   "source": [
    "## Implementation"
   ]
  },
  {
   "cell_type": "code",
   "execution_count": 3,
   "id": "ea2a813b-793f-42d8-9148-cea4c7316db5",
   "metadata": {
    "tags": []
   },
   "outputs": [],
   "source": [
    "def gradient_descent(f,grad,x0,alpha=0.1,max_iter=100,eps=1e-4):\n",
    "    X = np.zeros([max_iter+1,len(x0)])\n",
    "    X[0,:] = x0\n",
    "    for k in range(max_iter):\n",
    "        xk = X[k,:]\n",
    "        grad_xk = grad(xk)\n",
    "        if np.linalg.norm(grad_xk) < eps:\n",
    "            # Truncate the matrix X to include\n",
    "            # only rows up to current index k\n",
    "            X = X[:k+1,:]\n",
    "            break\n",
    "        X[k+1,:] = xk - alpha*grad_xk\n",
    "    return X"
   ]
  },
  {
   "cell_type": "code",
   "execution_count": 4,
   "id": "ce3171db-b0b2-41e0-a3ac-0665fb927617",
   "metadata": {
    "tags": []
   },
   "outputs": [],
   "source": [
    "def C(W,b,X,y,alpha):\n",
    "    N,p = X.shape\n",
    "    W = np.array(W).reshape(p,1)\n",
    "    y = np.array(y).reshape(N,1)\n",
    "    S = 1/(1 + np.exp(-(X@W + b)))\n",
    "    E = -1/N*np.sum(y*np.log(S) + (1 - y)*np.log(1 - S))\n",
    "    R = alpha*np.sum(W*W)\n",
    "    return E + R\n",
    "\n",
    "def gradC(W,b,X,y,alpha):\n",
    "    N,p = X.shape\n",
    "    W = np.array(W).reshape(p,1)\n",
    "    y = np.array(y).reshape(N,1)\n",
    "    S = 1/(1 + np.exp(-(X@W + b)))\n",
    "    dCdW = -1/N*X.T@(y - S) + 2*alpha*W\n",
    "    dCdb = -1/N*np.sum(y - S)\n",
    "    return np.hstack([dCdW.flatten(),dCdb])"
   ]
  },
  {
   "cell_type": "markdown",
   "id": "ca95623f-77f7-4773-bafe-5b8d631534c8",
   "metadata": {},
   "source": [
    "Let's apply gradient descent to the regularized cross-entropy function for the example below:"
   ]
  },
  {
   "cell_type": "code",
   "execution_count": 5,
   "id": "ac1844d8-81d2-48dd-9a7a-3e79c04be489",
   "metadata": {
    "tags": []
   },
   "outputs": [
    {
     "data": {
      "image/png": "[encoded data removed]",
      "text/plain": [
       "<Figure size 640x480 with 2 Axes>"
      ]
     },
     "metadata": {},
     "output_type": "display_data"
    }
   ],
   "source": [
    "X = np.array([[2,3],[-1,2],[0,1],[1,-3],[4,2],[-1,-3],[3,0],[2,2],[2,-1],[-2,2],[-1,0],[0,-1]])\n",
    "y = [1,1,1,0,1,0,0,1,0,1,1,0]\n",
    "plt.scatter(X[:,0],X[:,1],c=y), plt.colorbar()\n",
    "plt.grid(True)\n",
    "plt.show()"
   ]
  },
  {
   "cell_type": "markdown",
   "id": "0ec51566-50ec-40f0-a52f-bc5329c498d4",
   "metadata": {},
   "source": [
    "Define the vector function $f(\\mathbf{x})$ and $\\nabla f$ which represents $C(\\mathbf{W},b,\\alpha)$ and its gradient."
   ]
  },
  {
   "cell_type": "code",
   "execution_count": 6,
   "id": "9cd85572-a285-40e3-af6e-6f6f615ff216",
   "metadata": {
    "tags": []
   },
   "outputs": [],
   "source": [
    "alpha = 0.01\n",
    "f = lambda x: C(x[:-1],x[-1],X,y,alpha)\n",
    "gradf = lambda x: gradC(x[:-1],x[-1],X,y,alpha)"
   ]
  },
  {
   "cell_type": "markdown",
   "id": "f1daf0aa-da37-4888-853f-fa400d063e60",
   "metadata": {},
   "source": [
    "Apply gradient descent:"
   ]
  },
  {
   "cell_type": "code",
   "execution_count": 7,
   "id": "345422f2-a1d8-4bce-ad07-ad561d023c26",
   "metadata": {
    "tags": []
   },
   "outputs": [],
   "source": [
    "P = gradient_descent(f,gradf,[-1,3,1],alpha=0.01,max_iter=1000,eps=1e-10)"
   ]
  },
  {
   "cell_type": "markdown",
   "id": "8ad418af-8f47-4dc5-a5bf-b5f1916f16b6",
   "metadata": {},
   "source": [
    "View the first 5 points:"
   ]
  },
  {
   "cell_type": "code",
   "execution_count": 8,
   "id": "4a0973fd-9804-4cb3-a5ad-8c5da83746ed",
   "metadata": {
    "tags": []
   },
   "outputs": [
    {
     "data": {
      "text/plain": [
       "array([[-1.        ,  3.        ,  1.        ],\n",
       "       [-1.00005735,  2.9996237 ,  0.99994556],\n",
       "       [-1.00011447,  2.99924761,  0.99989116],\n",
       "       [-1.00017135,  2.99887172,  0.9998368 ],\n",
       "       [-1.000228  ,  2.99849603,  0.99978248]])"
      ]
     },
     "execution_count": 8,
     "metadata": {},
     "output_type": "execute_result"
    }
   ],
   "source": [
    "P[:5]"
   ]
  },
  {
   "cell_type": "markdown",
   "id": "1f01309d-2d02-4f7c-9f1a-0053d84fd50c",
   "metadata": {},
   "source": [
    "And the last 5 points in the:"
   ]
  },
  {
   "cell_type": "code",
   "execution_count": 9,
   "id": "e64a5317-dcc0-4cd0-b389-79407c10bda6",
   "metadata": {
    "tags": []
   },
   "outputs": [
    {
     "data": {
      "text/plain": [
       "array([[-0.98715577,  2.71251609,  0.95642125],\n",
       "       [-0.98710747,  2.7123004 ,  0.95638196],\n",
       "       [-0.98705914,  2.71208484,  0.95634266],\n",
       "       [-0.98701079,  2.71186939,  0.95630337],\n",
       "       [-0.98696242,  2.71165406,  0.95626408]])"
      ]
     },
     "execution_count": 9,
     "metadata": {},
     "output_type": "execute_result"
    }
   ],
   "source": [
    "P[-5:]"
   ]
  },
  {
   "cell_type": "markdown",
   "id": "065fd7be-1ad6-4b90-b763-cd0f25d8bdbd",
   "metadata": {},
   "source": [
    "Let's compare to the result computed by `LogisticRegression`."
   ]
  },
  {
   "cell_type": "code",
   "execution_count": 10,
   "id": "0f3a1ba3-a954-4671-b6f0-430552005f52",
   "metadata": {
    "tags": []
   },
   "outputs": [],
   "source": [
    "model = LogisticRegression(C=10).fit(X,y)"
   ]
  },
  {
   "cell_type": "code",
   "execution_count": 11,
   "id": "cec85fb3-6de6-4b8f-b134-a4a07bbc38d5",
   "metadata": {
    "tags": []
   },
   "outputs": [
    {
     "data": {
      "text/plain": [
       "array([[-1.09701124,  3.02449763]])"
      ]
     },
     "execution_count": 11,
     "metadata": {},
     "output_type": "execute_result"
    }
   ],
   "source": [
    "model.coef_"
   ]
  },
  {
   "cell_type": "code",
   "execution_count": 12,
   "id": "1474e1a1-d161-4373-b157-1c8f2aa95b09",
   "metadata": {
    "tags": []
   },
   "outputs": [
    {
     "data": {
      "text/plain": [
       "array([0.93960308])"
      ]
     },
     "execution_count": 12,
     "metadata": {},
     "output_type": "execute_result"
    }
   ],
   "source": [
    "model.intercept_"
   ]
  },
  {
   "cell_type": "markdown",
   "id": "fd50c920-9cf0-4799-9358-8f17e4766731",
   "metadata": {},
   "source": [
    "The result is similar but not exactly the same. We can take a closer look at the documentation for `LogisticRegression` to see how it works.\n",
    "\n",
    "Let's also compare the result computed by `scipy.optimize.minimize`."
   ]
  },
  {
   "cell_type": "code",
   "execution_count": 14,
   "id": "9706f2b3-ab58-4d77-b420-edf6d8439372",
   "metadata": {
    "tags": []
   },
   "outputs": [],
   "source": [
    "result = minimize(f,[-1,3,1])"
   ]
  },
  {
   "cell_type": "code",
   "execution_count": 15,
   "id": "626c208c-8737-42cf-b2fe-0ae32a88e9cc",
   "metadata": {
    "tags": []
   },
   "outputs": [
    {
     "data": {
      "text/plain": [
       "  message: Optimization terminated successfully.\n",
       "  success: True\n",
       "   status: 0\n",
       "      fun: 0.12531909819295892\n",
       "        x: [-8.221e-01  2.314e+00  7.267e-01]\n",
       "      nit: 13\n",
       "      jac: [-3.505e-06  2.082e-06 -7.134e-06]\n",
       " hess_inv: [[ 5.836e+00 -4.121e+00 -6.103e+00]\n",
       "            [-4.121e+00  1.443e+01  2.905e+00]\n",
       "            [-6.103e+00  2.905e+00  2.368e+01]]\n",
       "     nfev: 60\n",
       "     njev: 15"
      ]
     },
     "execution_count": 15,
     "metadata": {},
     "output_type": "execute_result"
    }
   ],
   "source": [
    "result"
   ]
  },
  {
   "cell_type": "code",
   "execution_count": 16,
   "id": "b2696b2c-e41f-4eba-976e-c0c42cf6636f",
   "metadata": {
    "tags": []
   },
   "outputs": [
    {
     "data": {
      "text/plain": [
       "array([-0.82214028,  2.31409619,  0.72666696])"
      ]
     },
     "execution_count": 16,
     "metadata": {},
     "output_type": "execute_result"
    }
   ],
   "source": [
    "result.x"
   ]
  },
  {
   "cell_type": "markdown",
   "id": "0cf623dd-185c-4e6a-820c-a6ce32ba4a9f",
   "metadata": {},
   "source": [
    "Again the result is similar but not exactly the same."
   ]
  }
 ],
 "metadata": {
  "kernelspec": {
   "display_name": "Python 3 (ipykernel)",
   "language": "python",
   "name": "python3"
  },
  "language_info": {
   "codemirror_mode": {
    "name": "ipython",
    "version": 3
   },
   "file_extension": ".py",
   "mimetype": "text/x-python",
   "name": "python",
   "nbconvert_exporter": "python",
   "pygments_lexer": "ipython3",
   "version": "3.10.12"
  }
 },
 "nbformat": 4,
 "nbformat_minor": 5
}
