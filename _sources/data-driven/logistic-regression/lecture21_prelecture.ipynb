{
 "cells": [
  {
   "cell_type": "markdown",
   "id": "e155e208-5f00-4ec7-bf42-a716b49042be",
   "metadata": {},
   "source": [
    "# MATH 360 Introduction to Mathematical Modelling\n",
    "\n",
    "## Learning Goals\n",
    "\n",
    "* Summarize properties of the logistic function and the weight and bias parameters\n",
    "* Compare and contrast cost functions for logistic regression models such as mean least squares and cross entropy\n",
    "* Implement regularization terms in cost functions and tune regularization parameters\n",
    "* Approximate optimal model parameters for logistic regression models using `sklearn`\n",
    "\n",
    "## Prelecture Activities\n",
    "\n",
    "### Readings\n",
    "\n",
    "* [Wikipedia: Logistic Regression](https://en.wikipedia.org/wiki/Logistic_regression)\n",
    "* [Scikit-learn: Logistic Regression](https://scikit-learn.org/stable/modules/linear_model.html#logistic-regression)\n",
    "\n",
    "### Reflections\n",
    "\n",
    "* What is the logistic function? What do the weight $W$ and bias $b$ parameters represent?\n",
    "* What is logistic regression? How is it different/similar compared to linear regression?\n",
    "* What is mean least squares? What is cross-entropy? How are they different?\n",
    "\n",
    "### Tasks\n",
    "\n",
    "Let $\\sigma(x) = \\displaystyle \\frac{1}{1 + e^{-x}}$ be the logistic function.\n",
    "\n",
    "* Determine the values $\\sigma(0)$ and $\\sigma'(0)$.\n",
    "* Show that $\\sigma'(x) = \\sigma(x)(1 - \\sigma(x))$.\n",
    "* Sketch the graph of the logistic function $\\sigma(x)$."
   ]
  }
 ],
 "metadata": {
  "kernelspec": {
   "display_name": "Python 3 (ipykernel)",
   "language": "python",
   "name": "python3"
  },
  "language_info": {
   "codemirror_mode": {
    "name": "ipython",
    "version": 3
   },
   "file_extension": ".py",
   "mimetype": "text/x-python",
   "name": "python",
   "nbconvert_exporter": "python",
   "pygments_lexer": "ipython3",
   "version": "3.10.12"
  }
 },
 "nbformat": 4,
 "nbformat_minor": 5
}
