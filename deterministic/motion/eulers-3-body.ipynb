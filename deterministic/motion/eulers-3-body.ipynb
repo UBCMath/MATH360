{
 "cells": [
  {
   "cell_type": "markdown",
   "id": "6c0f7d96-cfde-4597-a052-6ececb64e0c6",
   "metadata": {},
   "source": [
    "# Euler's 3-Body Problem"
   ]
  },
  {
   "cell_type": "code",
   "execution_count": 1,
   "id": "d9466e1c-c92d-4234-a72e-38656047f43f",
   "metadata": {
    "tags": []
   },
   "outputs": [],
   "source": [
    "import numpy as np\n",
    "import matplotlib.pyplot as plt\n",
    "import scipy.integrate as spi"
   ]
  },
  {
   "cell_type": "markdown",
   "id": "c62c848a-ba22-4c19-b2d3-88bbdba4ccf1",
   "metadata": {},
   "source": [
    "## Problem Statement"
   ]
  },
  {
   "cell_type": "markdown",
   "id": "0082e97d-7d17-4ad1-8217-acd2252a0b4f",
   "metadata": {},
   "source": [
    "## Variables and Parameters"
   ]
  },
  {
   "cell_type": "markdown",
   "id": "a8339ac0-d4f7-4bd5-8fae-1f85c15ae065",
   "metadata": {},
   "source": [
    "## Assumptions and Constraints"
   ]
  },
  {
   "cell_type": "markdown",
   "id": "74fef5f7-9bd5-420d-af34-f787e8183179",
   "metadata": {},
   "source": [
    "## Model Construction"
   ]
  },
  {
   "cell_type": "markdown",
   "id": "0cdde472-9e80-4cc6-b101-79226692cdc0",
   "metadata": {},
   "source": [
    "## Analysis"
   ]
  }
 ],
 "metadata": {
  "kernelspec": {
   "display_name": "Python 3 (ipykernel)",
   "language": "python",
   "name": "python3"
  },
  "language_info": {
   "codemirror_mode": {
    "name": "ipython",
    "version": 3
   },
   "file_extension": ".py",
   "mimetype": "text/x-python",
   "name": "python",
   "nbconvert_exporter": "python",
   "pygments_lexer": "ipython3",
   "version": "3.10.12"
  }
 },
 "nbformat": 4,
 "nbformat_minor": 5
}
