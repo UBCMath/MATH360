{
 "cells": [
  {
   "cell_type": "markdown",
   "id": "754a573d-ca63-4b5d-a809-fde2153e79ef",
   "metadata": {
    "tags": []
   },
   "source": [
    "# Dimensions and Units"
   ]
  },
  {
   "cell_type": "markdown",
   "id": "1e7990c7-74c9-4136-a98c-3f72910df1db",
   "metadata": {
    "tags": []
   },
   "source": [
    "## Base Quantities"
   ]
  },
  {
   "cell_type": "markdown",
   "id": "bebddcbd-fd44-4e34-92cf-6aaacc90daea",
   "metadata": {},
   "source": [
    "All physical quantities are expressed in terms of **base quantities** and **standard international (SI) units**:\n",
    "\n",
    "| Base Quantity | Symbol | SI Unit | SI Unit Symbol |\n",
    "| :---: | :---: | :---: | :---: |\n",
    "| time | T | second | s |\n",
    "| length | L | meter | m |\n",
    "| mass | M | kilogram | kg |\n",
    "| temperature | $\\Theta$ | kelvin | K |\n",
    "| electric current | I | ampere | A |\n",
    "| amount of substance | N | mole | mol |\n",
    "| luminous intensity | J | candela | cd |"
   ]
  },
  {
   "cell_type": "markdown",
   "id": "ea604603-2513-424e-a832-5650f467a570",
   "metadata": {},
   "source": [
    "## Dimensions of Physical Quantities\n",
    "\n",
    "All other physical quantities are called **derived quantities** because they are expressed in terms of base quantities. The **dimensions** of a physical quantity refers to its expression in terms of the base quantities.  For example, common derived quantities are:\n",
    "\n",
    "| Physical Quantity | Dimensions | Base SI Units |\n",
    "| :---: | :---: | :---: |\n",
    "| velocity | L T<sup>-1</sup> | m s<sup>-1</sup> |\n",
    "| acceleration | L T<sup>-2</sup> | m s<sup>-2</sup> |\n",
    "| area | L<sup>2</sup> | m<sup>2</sup> |\n",
    "| volume | L<sup>3</sup>| m<sup>3</sup> |\n",
    "| density | M L<sup>-3</sup>| kg m<sup>-3</sup> |"
   ]
  },
  {
   "cell_type": "markdown",
   "id": "7336e430-3161-4ce1-8daf-2ca7254efb22",
   "metadata": {},
   "source": [
    "Some derived quantities have their own SI units:\n",
    " \n",
    "| Physical Quantity | Dimensions | SI Unit | SI Unit Symbol | Base SI Units |\n",
    "| :---: | :---: | :---: | :---: | :---: |\n",
    "| force | M L T<sup>-2</sup> | newton | N | kg m s<sup>-2</sup> |\n",
    "| pressure | M L<sup>-1</sup> T<sup>-2</sup> | pascal | Pa | kg m<sup>-1</sup> s<sup>-2</sup> |\n",
    "| energy | M L<sup>2</sup> T<sup>-2</sup> | joule | J | kg m<sup>2</sup> s<sup>-2</sup> |\n",
    "| molar concentration | N L<sup>-3</sup> | molar | M | N m<sup>-3</sup> |\n",
    "| power | M L<sup>2</sup> T<sup>-3</sup> | watt |  W | kg m<sup>2</sup> s<sup>-3</sup> |\n",
    "| frequency | T<sup>-1</sup> | hertz | Hz | s<sup>-1</sup> |\n",
    "| angle | 1 | radian | rad | 1 |\n",
    "\n",
    "\n",
    "Note that an angle is a ratio of lengths, arc length over radius, therefore its dimensions are L L<sup>-1</sup> = 1. This is an example of a **dimensionless quantity**."
   ]
  },
  {
   "cell_type": "markdown",
   "id": "3151ac6d-ad2c-49ed-8e1f-0f20d7b5f1eb",
   "metadata": {},
   "source": [
    ":::{seealso}\n",
    "Check out [Wikipedia: International System of Quantities](https://en.wikipedia.org/wiki/International_System_of_Quantities) for more information about dimensions and units.\n",
    ":::"
   ]
  },
  {
   "cell_type": "markdown",
   "id": "3488e418-ff75-49ec-b5ae-547e8dcfcc96",
   "metadata": {},
   "source": [
    "## Dimensional Homogeneity\n",
    "\n",
    "An equation is **dimensionally homogeneous** if the expressions on both sides of the equation have the same dimensions. During the mathematical modelling process we should always check that the equations in our models are dimensionally homogeneous.\n",
    "\n",
    "For example, consider the mass-spring-damper equation derived from Newton's second law of motion:\n",
    "\n",
    "$$\n",
    "m x'' + c x' + k x = F(t)\n",
    "$$\n",
    "\n",
    "Each term in the equation is a force therefore each side of the equation has dimensions M L T<sup>-2</sup> and the equation is dimensionally homogeneous.\n",
    "\n",
    "Let's find the dimensions of the variables and parameters in the mass-spring-damper equation:\n",
    "\n",
    "| Variable/Parameter | Symbol | Dimensions |\n",
    "| :---: | :---: | :---: |\n",
    "| position | $x$ | L |\n",
    "| velocity | $x'$ | L T<sup>-1</sup> |\n",
    "| acceleration | $x''$ | L T<sup>-2</sup> |\n",
    "| mass | $m$ | M |\n",
    "| damping coefficient | $c$ | M T<sup>-1</sup> |\n",
    "| spring coefficient | $k$ | M T<sup>-2</sup> |\n",
    "| external force | $F(t)$ | M L T<sup>-2</sup> |"
   ]
  }
 ],
 "metadata": {
  "kernelspec": {
   "display_name": "Python 3 (ipykernel)",
   "language": "python",
   "name": "python3"
  },
  "language_info": {
   "codemirror_mode": {
    "name": "ipython",
    "version": 3
   },
   "file_extension": ".py",
   "mimetype": "text/x-python",
   "name": "python",
   "nbconvert_exporter": "python",
   "pygments_lexer": "ipython3",
   "version": "3.10.12"
  }
 },
 "nbformat": 4,
 "nbformat_minor": 5
}
