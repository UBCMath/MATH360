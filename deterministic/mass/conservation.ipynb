{
 "cells": [
  {
   "cell_type": "markdown",
   "id": "541b7220-6cef-4a75-b687-00de221f128d",
   "metadata": {},
   "source": [
    "# Conservation of Mass"
   ]
  },
  {
   "cell_type": "code",
   "execution_count": 1,
   "id": "52899491-28a8-4a76-9e79-af3c1e6b91a6",
   "metadata": {
    "tags": []
   },
   "outputs": [],
   "source": [
    "import numpy as np\n",
    "import matplotlib.pyplot as plt\n",
    "import scipy.integrate as spi"
   ]
  },
  {
   "cell_type": "markdown",
   "id": "8ab480aa-a92a-4eb8-a38f-12fbd264503b",
   "metadata": {},
   "source": [
    "## Mass Balance Equation\n",
    "\n",
    "The **law of conservation of mass** states that the mass of a closed system does not change. This implies that mass cannot be created or destroyed. Conservation of mass implies the **balance equation** for an open system\n",
    "\n",
    "$$\n",
    "\\frac{dM}{dt} = Q_{\\text{in}} - Q_{\\text{out}}\n",
    "$$\n",
    "\n",
    "where:\n",
    "\n",
    "* $M(t)$ is the mass in the system over time $t$\n",
    "* $Q_{in}$ is the mass flow rate into the system with dimensions MT<sup>-1<sup>\n",
    "* $Q_{out}$ is the mass flow rate out of the system with dimensions MT<sup>-1<sup>"
   ]
  },
  {
   "cell_type": "markdown",
   "id": "5309599c-9dc3-474c-bccc-d5800e1538ed",
   "metadata": {},
   "source": [
    ":::{seealso}\n",
    "Check out [Wikipedia: Conservation of Mass](https://en.wikipedia.org/wiki/Conservation_of_mass) for more information.\n",
    ":::"
   ]
  },
  {
   "cell_type": "markdown",
   "id": "a0e739b6-ac46-423a-a47c-a1ad81ca8349",
   "metadata": {},
   "source": [
    "## Dilution\n",
    "\n",
    "A tank contains a salt water solution. To dilute the solution, pure water is pumped into the tank and mixed. The solution is drained from the tank at the same rate as water is pumped into the tank. How does the concentration of the solution change over time?"
   ]
  },
  {
   "cell_type": "markdown",
   "id": "2a6a6872-b6f4-48fc-8110-948e30d1c008",
   "metadata": {},
   "source": [
    "Let's define the variables and parameters in the model:\n",
    "\n",
    "| Description | Symbol | Dimensions | Type |\n",
    "| :---: | :---: | :---: | :---: |\n",
    "| mass of salt in the tank | $M$ | M | dependent variable |\n",
    "| time | $t$ | T | independent variable |\n",
    "| initial mass of salt in the tank | $M_0$ | M | parameter |\n",
    "| flow rate of fluid in/out of the tank | $Q$ | L<sup>3</sup>T<sup>-1</sup> | parameter |\n",
    "| volume of solution | $V_0$ | L<sup>3</sup> | parameter |\n",
    "\n",
    "Note that the rate of salt flowing out of the tank is $\\frac{MQ}{V}$. Apply the mass balance equation to get\n",
    "\n",
    "$$\n",
    "\\frac{dM}{dt} = -\\frac{MQ}{V} \\ , \\ \\ M(0) = M_0\n",
    "$$\n",
    "\n",
    "Apply the nondimensionalization procedure. Let $t = [t]t^*$ and $M = [M]M^*$ and make the substitution\n",
    "\n",
    "$$\n",
    "\\frac{[M]}{[t]} \\frac{dM^*}{dt^*} = -\\frac{[M]M^* Q}{V} \\ , \\ \\ [M]M^*(0) = M_0\n",
    "$$\n",
    "\n",
    "Choose $[t] = \\frac{V}{Q}$ and $[M] = M_0$ and write\n",
    "\n",
    "$$\n",
    "\\frac{dM^*}{dt^*} = -M^* \\ , \\ \\ M^*(0) = 1\n",
    "$$\n",
    "\n",
    "Solve the equation to find $M^*(t) = e^{-t^*}$. Equivalently, $M(t) = M_0e^{-Qt/V}$."
   ]
  },
  {
   "cell_type": "markdown",
   "id": "7b0e3f0e-2bb1-487c-a348-4b93744fbff4",
   "metadata": {},
   "source": [
    "## Withdrawing from a Pension\n",
    "\n",
    "The concept of mass transfer is very general! Consider the problem of withdrawing from a pension. A pension is a financial asset that earns interest and a retiree will withdraw funds from the pension for living expenses. Create a mathematical model of a retiree living on a pension."
   ]
  },
  {
   "cell_type": "markdown",
   "id": "20fa90db-b8a3-429c-81df-90306e9a295b",
   "metadata": {},
   "source": [
    "Let's define the variables and parameters in the model:\n",
    "\n",
    "| Description | Symbol | Dimensions | Type |\n",
    "| :---: | :---: | :---: | :---: |\n",
    "| total value of the pension  | $M$ | N | dependent variable |\n",
    "| time | $t$ | T | independent variable |\n",
    "| rate of return | $r$ | T<sup>-1</sup> | parameter |\n",
    "| rate of withdrawal | $w$ | NT<sup>-1</sup> | parameter |"
   ]
  },
  {
   "cell_type": "markdown",
   "id": "baad2a85-2a21-4792-a6cf-2159e5c22f82",
   "metadata": {},
   "source": [
    "Assume that the rate of return and rate of withdrawal are constant. Apply the mass balance equation to get\n",
    "\n",
    "$$\n",
    "\\frac{dM}{dt} = rM - w \\ , \\ \\ M(0) = M_0\n",
    "$$\n",
    "\n",
    "Apply the nondimensionalization procedure. Let $t = [t]t^*$ and $M = [M]M^*$ and make the substitution\n",
    "\n",
    "$$\n",
    "\\frac{[M]}{[t]} \\frac{dM^*}{dt^*} = r[M]M^* - w \\ , \\ \\ [M]M^*(0) = M_0\n",
    "$$\n",
    "\n",
    "Divide by the derivative coefficient\n",
    "\n",
    "$$\n",
    "\\frac{dM^*}{dt^*} = r[t]M^* - \\frac{w[t]}{[M]} \\ , \\ \\ M^*(0) = \\frac{M_0}{[M]}\n",
    "$$\n",
    "\n",
    "Choose $[t] = 1/r$ and $[M] = w/r$ and write\n",
    "\n",
    "$$\n",
    "\\frac{dM^*}{dt^*} = M^* - 1 \\ , \\ \\ M^*(0) = M_0^*\n",
    "$$\n",
    "\n",
    "where $M_0^* = \\frac{rM_0}{w}$.\n",
    "\n",
    "Solve the equation to find $M^*(t) = (M_0^* - 1)e^{t^*} + 1$. Equivalently,\n",
    "\n",
    "$$\n",
    "M(t) = \\left( \\frac{rM_0}{w} - 1 \\right) e^{rt} + 1\n",
    "$$"
   ]
  },
  {
   "cell_type": "markdown",
   "id": "f4186915-bd32-4f41-85b4-ed1d0eddc0bf",
   "metadata": {},
   "source": [
    "## Two Tank System\n",
    "\n",
    "Suppose two tanks are connected such that solution from each tank flows into the other at the same rate. Now suppose salt water solution is pumped into the first tank at a constant rate and solution from the second tank is pumped out of the tank and removed from the system at the same rate so that the total volume of solution in the two-tank system reamins constant. Create a mathematical model of the salt concentration in both tanks. "
   ]
  },
  {
   "cell_type": "markdown",
   "id": "5559449f-bf0d-4da6-a5c2-b33cac87b9e9",
   "metadata": {},
   "source": [
    "Let's define the variables and parameters in the model:\n",
    "\n",
    "| Description | Symbol | Dimensions | Type |\n",
    "| :---: | :---: | :---: | :---: |\n",
    "| mass of salt tank 1 | $M_1$ | M | dependent variable |\n",
    "| mass of salt tank 2 | $M_2$ | M | dependent variable |\n",
    "| time | $t$ | T | independent variable |\n",
    "| salt concentration of solution flowing into tank 1 | $C$ | M L<sup>-3</sup> | parameter |\n",
    "| flow rate of solution into tank 1 | $Q_1$ | L<sup>3</sup>T<sup>-1</sup> | parameter |\n",
    "| flow rate of solution from tank 1 to tank 2 | $Q_0$ | L<sup>3</sup>T<sup>-1</sup> | parameter |\n",
    "| volume of solution in tank 1 | $V_1$ | L<sup>3</sup> | parameter |"
   ]
  },
  {
   "cell_type": "markdown",
   "id": "69351d2d-8e63-4065-b548-8afb711cffed",
   "metadata": {},
   "source": [
    "Apply the mass balance equation to each tank to derive the equations\n",
    "\n",
    "$$\n",
    "\\begin{align*}\n",
    "\\frac{dM_1}{dt} &= C Q_1 + \\frac{M_2 Q_0}{V_2} - \\frac{M_1 Q_0}{V_1} \\\\\n",
    "\\frac{dM_2}{dt} &= \\frac{M_1 Q_0}{V_1} - \\frac{M_2 Q_0}{V_2} - \\frac{M_2 Q_1}{V_2}\n",
    "\\end{align*}\n",
    "$$\n",
    "\n",
    "Apply the nondimensionalization procedure. Let $t = [t]t^*$, $M_1 = [M_1]M_1^*$ and $M_2 = [M_2]M_2^*$ and make the substitution\n",
    "\n",
    "$$\n",
    "\\begin{align*}\n",
    "\\frac{[M_1]}{[t]} \\frac{dM_1^*}{dt^*} &= C Q_1 + \\frac{[M_2] M_2^* Q_0}{V_2} - \\frac{[M_1] M_1^* Q_0}{V_1} \\\\\n",
    "\\frac{[M_2]}{[t]} \\frac{dM_2^*}{dt^*} &= \\frac{[M_1]M_1^* Q_0}{V_1} - \\frac{[M_2]M_2^* Q_0}{V_2} - \\frac{[M_2]M_2^* Q_1}{V_2}\n",
    "\\end{align*}\n",
    "$$\n",
    "\n",
    "Divide by the derivative coefficient in each equation\n",
    "\n",
    "$$\n",
    "\\begin{align*}\n",
    "\\frac{dM_1^*}{dt^*} &= \\frac{C Q_1 [t]}{[M_1]} + \\frac{[t] [M_2] M_2^* Q_0}{[M_1] V_2} - \\frac{[t] M_1^* Q_0}{V_1} \\\\\n",
    "\\frac{dM_2^*}{dt^*} &= \\frac{[t] [M_1] M_1^* Q_0}{[M_2] V_1} - \\frac{[t]M_2^* Q_0}{V_2} - \\frac{[t]M_2^* Q_1}{V_2}\n",
    "\\end{align*}\n",
    "$$\n",
    "\n",
    "There are 3 unknowns and 6 coefficients and so there are many choices. Let's choose\n",
    "\n",
    "$$\n",
    "[t] = \\frac{\\sqrt{V_1 V_2}}{Q_0}\n",
    "\\hspace{10mm}\n",
    "[M_1] = \\frac{CQ_1 \\sqrt{V_1V_2}}{Q_0}\n",
    "\\hspace{10mm}\n",
    "[M_2] = \\frac{CQ_1 V_2}{Q_0}\n",
    "$$\n",
    "\n",
    "and then define the dimensionless parameters\n",
    "\n",
    "$$\n",
    "\\nu = \\sqrt{\\frac{V_2}{V_1}}\n",
    "\\hspace{20mm}\n",
    "\\rho = \\frac{Q_1}{Q_0}\n",
    "$$\n",
    "\n",
    "Write the system in terms of the new dimensionless variables and parameters to get\n",
    "\n",
    "$$\n",
    "\\begin{align*}\n",
    "\\frac{dM_1^*}{dt^*} &= 1 + M_2^* - \\nu M_1^* \\\\\n",
    "\\frac{dM_2^*}{dt^*} &= M_1^* - \\left(\\frac{1 + \\rho}{\\nu} \\right) M_2^*\n",
    "\\end{align*}\n",
    "$$"
   ]
  },
  {
   "cell_type": "markdown",
   "id": "d3764d11-fe86-4204-8e64-3f14bd99713f",
   "metadata": {},
   "source": [
    "Plot some solutions:"
   ]
  },
  {
   "cell_type": "code",
   "execution_count": 6,
   "id": "20255a8c-432d-4848-ba5e-c6943e7e58aa",
   "metadata": {
    "tags": []
   },
   "outputs": [
    {
     "data": {
      "image/png": "[encoded data removed]",
      "text/plain": [
       "<Figure size 640x480 with 1 Axes>"
      ]
     },
     "metadata": {},
     "output_type": "display_data"
    }
   ],
   "source": [
    "nu = 1\n",
    "rho = 1\n",
    "f = lambda u,t: np.array([1 + u[1] - nu*u[0],u[0] - (1+rho)/nu*u[1]])\n",
    "u0 = [1,1]\n",
    "t = np.linspace(0,10,100)\n",
    "u = spi.odeint(f,u0,t)\n",
    "plt.plot(t,u[:,0],t,u[:,1])\n",
    "plt.legend(['Tank 1','Tank 2']), plt.grid(True)\n",
    "plt.show()"
   ]
  }
 ],
 "metadata": {
  "kernelspec": {
   "display_name": "Python 3 (ipykernel)",
   "language": "python",
   "name": "python3"
  },
  "language_info": {
   "codemirror_mode": {
    "name": "ipython",
    "version": 3
   },
   "file_extension": ".py",
   "mimetype": "text/x-python",
   "name": "python",
   "nbconvert_exporter": "python",
   "pygments_lexer": "ipython3",
   "version": "3.10.12"
  }
 },
 "nbformat": 4,
 "nbformat_minor": 5
}
