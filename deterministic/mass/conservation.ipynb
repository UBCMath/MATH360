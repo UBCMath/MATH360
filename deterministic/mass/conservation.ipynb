{
 "cells": [
  {
   "cell_type": "markdown",
   "id": "541b7220-6cef-4a75-b687-00de221f128d",
   "metadata": {},
   "source": [
    "# Conservation of Mass"
   ]
  },
  {
   "cell_type": "code",
   "execution_count": 1,
   "id": "52899491-28a8-4a76-9e79-af3c1e6b91a6",
   "metadata": {
    "tags": []
   },
   "outputs": [],
   "source": [
    "import numpy as np\n",
    "import matplotlib.pyplot as plt\n",
    "import scipy.integrate as spi"
   ]
  },
  {
   "cell_type": "markdown",
   "id": "8ab480aa-a92a-4eb8-a38f-12fbd264503b",
   "metadata": {},
   "source": [
    "## Mass Balance Equation\n",
    "\n",
    "The **law of conservation of mass** states that the mass of a closed system does not change. This implies that mass cannot be created or destroyed. Conservation of mass implies the **balance equation** for an open system\n",
    "\n",
    "$$\n",
    "\\frac{dM}{dt} = Q_{in} - Q_{out}\n",
    "$$\n",
    "\n",
    "where:\n",
    "\n",
    "* $M(t)$ is the mass of the system over time $t$\n",
    "* $Q_{in}$ is the mass flow rate into the system with dimensions MT<sup>-1<sup>\n",
    "* $Q_{out}$ is the mass flow rate out of the system with dimensions MT<sup>-1<sup>"
   ]
  },
  {
   "cell_type": "markdown",
   "id": "5309599c-9dc3-474c-bccc-d5800e1538ed",
   "metadata": {},
   "source": [
    ":::{seealso}\n",
    "Check out [Wikipedia: Conservation of Mass](https://en.wikipedia.org/wiki/Conservation_of_mass) for more information.\n",
    ":::"
   ]
  },
  {
   "cell_type": "markdown",
   "id": "9a6e8b99-ea34-43cb-9468-5d06b6ed6dd2",
   "metadata": {},
   "source": [
    "## Dilution\n",
    "\n",
    "A tank contains a salt water solution. To dilute the solution, pure water is pumped into the tank, mized and the solution is drained from the tank at the same rate. How does the concentration of the solution change over time?\n",
    "\n",
    "Let's define the variables and parameters in the model:\n",
    "\n",
    "| Description | Symbol | Dimensions | Type |\n",
    "| :---: | :---: | :---: | :---: |\n",
    "| mass of salt in the tank | $M$ | M | dependent variable |\n",
    "| time | $t$ | T | independent variable |\n",
    "| initial mass of salt in the tank | $M_0$ | M | parameter |\n",
    "| flow rate of fluid in/out of the tank | $Q$ | L<sup>3</sup>T<sup>-1</sup> | parameter |\n",
    "| volume of solution | $V_0$ | L<sup>3</sup> | parameter |\n",
    "\n",
    "Apply the mass balance equation to get\n",
    "\n",
    "$$\n",
    "\\frac{dM}{dt} = -\\frac{MQ}{V} \\ , \\ \\ M(0) = M_0\n",
    "$$\n",
    "\n",
    "Apply the nondimensionalization procedure. Let $t = [t]t^*$ and $M = [M]M^*$ and make the substitution\n",
    "\n",
    "$$\n",
    "\\frac{[M]}{[t]} \\frac{dM^*}{dt^*} = -\\frac{[M]M^* Q}{V} \\ , \\ \\ [M]M^*(0) = M_0\n",
    "$$\n",
    "\n",
    "Choose $[t] = \\frac{V}{Q}$ and $[M] = M_0$ and write\n",
    "\n",
    "$$\n",
    "\\frac{dM^*}{dt^*} = -M^* \\ , \\ \\ M^*(0) = 1\n",
    "$$\n",
    "\n",
    "Solve the equation to find $M^*(t) = e^{-t^*}$. Equivalently, $M(t) = M_0e^{-Qt/V}$."
   ]
  }
 ],
 "metadata": {
  "kernelspec": {
   "display_name": "Python 3 (ipykernel)",
   "language": "python",
   "name": "python3"
  },
  "language_info": {
   "codemirror_mode": {
    "name": "ipython",
    "version": 3
   },
   "file_extension": ".py",
   "mimetype": "text/x-python",
   "name": "python",
   "nbconvert_exporter": "python",
   "pygments_lexer": "ipython3",
   "version": "3.10.12"
  }
 },
 "nbformat": 4,
 "nbformat_minor": 5
}
