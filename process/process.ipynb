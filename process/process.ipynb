{
 "cells": [
  {
   "cell_type": "markdown",
   "id": "afca12e9-2934-4024-b175-601edeea3f67",
   "metadata": {},
   "source": [
    "# Modelling Process"
   ]
  },
  {
   "cell_type": "markdown",
   "id": "034e9d68-e2cb-4b18-98ca-d4437c4e77c2",
   "metadata": {},
   "source": [
    "## Outline\n",
    "\n",
    "The modelling process provides a systematic approach to solving complex problems:\n",
    "\n",
    "1. Clearly state the problem\n",
    "2. Identify variables and parameters\n",
    "3. Make assumptions and identify constraints\n",
    "4. Build solutions\n",
    "5. Analyze and assess\n",
    "6. Report results"
   ]
  },
  {
   "cell_type": "markdown",
   "id": "483b3c3b-b5e8-42eb-a3d3-a9eed6776793",
   "metadata": {},
   "source": [
    ":::{seealso}\n",
    "Check out [Math Modeling: Getting Started and Getting Solutions](https://m3challenge.siam.org/resources/modeling-handbook) to read more about the mathematical modelling process.\n",
    ":::"
   ]
  },
  {
   "cell_type": "markdown",
   "id": "4c35a964-b806-4812-8973-5da74a566aaa",
   "metadata": {},
   "source": [
    "## Problem Statement\n",
    "\n",
    "Modelling problems are open-ended: there are many different solutions, different levels of complexity, and different tools that can be applied. It's a challenge even to know where to start! To begin the modelling process, we need to clearly state the problem so that we know what we are trying to solve."
   ]
  },
  {
   "cell_type": "markdown",
   "id": "fb75bb46-4748-462b-90bf-0d8fa0ed6795",
   "metadata": {},
   "source": [
    "## Variables and Parameters\n",
    "\n",
    "**Independent variables** are quantities that are input into the system and **dependent variables** are the quantities that are output from the system and that we are trying to predict. We should be able to indentify the varaibles from a clearly articulated problem statement. **Parameters** are quantities that appear in the relationships between variables. We must list all variables and parameters in the system, give each a name and symbol and identify their **dimensions** such as length, mass and time."
   ]
  },
  {
   "cell_type": "markdown",
   "id": "a3411c60-b140-473e-957a-867f20c02979",
   "metadata": {},
   "source": [
    "## Assumptions and Constraints\n",
    "\n",
    "**Assumptions** reduce the complexity of the model and also help define relationships between variables and parameters in the system. For example, we often assume that the force of gravity is constant for an object moving near the surface of the Earth. However we would not assume that the gravitational forces of celestial bodies are always constant. **Constraints** describe the values that our variables and parameters are allowed to take. For example, the mass of an object is always positive."
   ]
  },
  {
   "cell_type": "markdown",
   "id": "0d84457f-af5c-45d3-82e7-4aad750fc5ac",
   "metadata": {},
   "source": [
    "## Build Solutions\n",
    "\n",
    "Once we have a clear problem statement and lists of variables, parameters, assumptions and constraints, then we need to decide what mathematical tools to use to construct the model. It should be clear from the context if our model is deterministic, stochastic, data-driven or perhaps a combination. Once we have decided on the kind of model to use, we apply all the tools available."
   ]
  },
  {
   "cell_type": "markdown",
   "id": "ffb17192-09f7-4ef4-8917-1fdbe9c84fc8",
   "metadata": {},
   "source": [
    "## Analyze and Assess\n",
    "\n",
    "Just because we can find a solution, does not mean that this is a meaningful result. We need to **interpret the solution** to see if it makes sense given the context of the problem. We will want to ask ourselves:\n",
    "\n",
    "* Does the solution make sense in the context of the problem?\n",
    "* Does the solution answer our problem statement?\n",
    "* Are the results obtained reasonable and practical?\n",
    "\n",
    "If it does not make sense, then we need to critically analyze the process. Perhaps there is an algebraic error in the solution, perhaps an input is incorrect, perhaps we made an incorrect assumption. Analyzing and assessing the solution can be a difficult and tedius process."
   ]
  },
  {
   "cell_type": "markdown",
   "id": "190637b3-cfd7-4705-b844-fa95b6c36de7",
   "metadata": {},
   "source": [
    "## Report Results\n",
    "\n",
    "The last step is to then share the results of our modelling efforts.  We need to construct a clear and concise report of the model and how we implemented the model in our work.  This report is how we share our findings with our research community and make contributions to the research area. "
   ]
  }
 ],
 "metadata": {
  "kernelspec": {
   "display_name": "Python 3 (ipykernel)",
   "language": "python",
   "name": "python3"
  },
  "language_info": {
   "codemirror_mode": {
    "name": "ipython",
    "version": 3
   },
   "file_extension": ".py",
   "mimetype": "text/x-python",
   "name": "python",
   "nbconvert_exporter": "python",
   "pygments_lexer": "ipython3",
   "version": "3.10.12"
  }
 },
 "nbformat": 4,
 "nbformat_minor": 5
}
