{
 "cells": [
  {
   "cell_type": "markdown",
   "id": "fce1ec2a-5473-41cc-8599-12958d723c02",
   "metadata": {},
   "source": [
    "# Overview\n",
    "\n",
    "## What is a Mathematical Model?\n",
    "\n",
    "A **mathematical model** is a mathematical representation of a system used to make predictions and provide insight about a real-world scenario, and **mathematical modelling** is the process of constructing, simulating and evaluating mathematical models.\n",
    "\n",
    "Why do we construct mathematical models? It can often be costly (or impossible!) to conduct experiments to study a real-world problem and so a mathematical model is a way to describe the behaviour of a system and **predict outcomes** using **mathematical equations** and **computer simulations**.\n",
    "\n",
    ":::{seealso}\n",
    "Check out the following resources to get started with mathematical modelling:\n",
    "* *Chapter 1: What is Mathematical Modelling?* in [Principles of Mathematical Modeling](https://www.sciencedirect.com/book/9780122265518/principles-of-mathematical-modeling)\n",
    "* [What is Math Modeling?](https://www.youtube.com/watch?v=_1BFNNvg2ec&list=PLf_ipOSbWC87nFTi6MaB4begv56yPKsOJ)\n",
    "* [Wikipedia: Mathematical Model](https://en.wikipedia.org/wiki/Mathematical_model)\n",
    ":::\n",
    "\n",
    "## Outline of the Modelling Process\n",
    "\n",
    "Mathematical modelling involves observing some real-world phenomenon and formulating a mathematical representation of the system. But how do we even know where to start? Or how to find a solution? The **modelling process** is a systematic approach:\n",
    "\n",
    "1. Clearly state the problem\n",
    "2. Identify variables and parameters\n",
    "3. Make assumptions and identify constraints\n",
    "4. Build solutions\n",
    "5. Analyze and assess\n",
    "6. Report the results\n",
    "\n",
    "Models can have a wide range of **complexity**! More complex does not necessarily mean better and we can sometimes work with more simplistic models to achieve good results. In many instances, we often start with a simple model and then build-up the complexity by **iterating** through the steps in modelling process until the model accurately describes the real-world application.\n",
    "\n",
    ":::{seealso}\n",
    "Check out [Math Modeling: Getting Started and Getting Solutions](https://m3challenge.siam.org/resources/modeling-handbook) to read more about the modelling process.\n",
    ":::\n",
    "\n",
    "## Types of Models\n",
    "\n",
    "There are *many* different types of mathematical models! In this course we focus on the following:\n",
    "\n",
    "**Deterministic models** predict future based on current information and do not include randomness. These kinds of models often take the from of **systems of differential equations** which describe the evolution of a system over time.\n",
    "\n",
    "**Stochastic models** include randomness and are based on **probability distributions** and **stochastic processes**.\n",
    "\n",
    "**Data-driven models** look for patterns in observed data to predict the output of a system. These kinds of models often take the form of **functions with parameters** computed to fit observed data."
   ]
  }
 ],
 "metadata": {
  "kernelspec": {
   "display_name": "Python 3 (ipykernel)",
   "language": "python",
   "name": "python3"
  },
  "language_info": {
   "codemirror_mode": {
    "name": "ipython",
    "version": 3
   },
   "file_extension": ".py",
   "mimetype": "text/x-python",
   "name": "python",
   "nbconvert_exporter": "python",
   "pygments_lexer": "ipython3",
   "version": "3.10.12"
  }
 },
 "nbformat": 4,
 "nbformat_minor": 5
}
